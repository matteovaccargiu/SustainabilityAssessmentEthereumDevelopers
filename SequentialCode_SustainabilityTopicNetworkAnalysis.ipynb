{
  "nbformat": 4,
  "nbformat_minor": 0,
  "metadata": {
    "colab": {
      "provenance": []
    },
    "kernelspec": {
      "name": "python3",
      "display_name": "Python 3"
    },
    "language_info": {
      "name": "python"
    },
    "widgets": {
      "application/vnd.jupyter.widget-state+json": {
        "148c71af17c3467685d79f713faf783c": {
          "model_module": "@jupyter-widgets/controls",
          "model_name": "HBoxModel",
          "model_module_version": "1.5.0",
          "state": {
            "_dom_classes": [],
            "_model_module": "@jupyter-widgets/controls",
            "_model_module_version": "1.5.0",
            "_model_name": "HBoxModel",
            "_view_count": null,
            "_view_module": "@jupyter-widgets/controls",
            "_view_module_version": "1.5.0",
            "_view_name": "HBoxView",
            "box_style": "",
            "children": [
              "IPY_MODEL_bae6a073c7ea4b908aabe531ddc8362c",
              "IPY_MODEL_fb54fcc1d6634a59b7b01e37e95b568d",
              "IPY_MODEL_479c1552fe8348afb317edf6dbfe7e65"
            ],
            "layout": "IPY_MODEL_b18d8057f53541ad895a47ebe3ca7c48"
          }
        },
        "bae6a073c7ea4b908aabe531ddc8362c": {
          "model_module": "@jupyter-widgets/controls",
          "model_name": "HTMLModel",
          "model_module_version": "1.5.0",
          "state": {
            "_dom_classes": [],
            "_model_module": "@jupyter-widgets/controls",
            "_model_module_version": "1.5.0",
            "_model_name": "HTMLModel",
            "_view_count": null,
            "_view_module": "@jupyter-widgets/controls",
            "_view_module_version": "1.5.0",
            "_view_name": "HTMLView",
            "description": "",
            "description_tooltip": null,
            "layout": "IPY_MODEL_cd7ab33bcafb4ec0b3fded9fb5c40c7f",
            "placeholder": "​",
            "style": "IPY_MODEL_3f9f7724b40b436ca6f5508f3b2f5719",
            "value": "modules.json: 100%"
          }
        },
        "fb54fcc1d6634a59b7b01e37e95b568d": {
          "model_module": "@jupyter-widgets/controls",
          "model_name": "FloatProgressModel",
          "model_module_version": "1.5.0",
          "state": {
            "_dom_classes": [],
            "_model_module": "@jupyter-widgets/controls",
            "_model_module_version": "1.5.0",
            "_model_name": "FloatProgressModel",
            "_view_count": null,
            "_view_module": "@jupyter-widgets/controls",
            "_view_module_version": "1.5.0",
            "_view_name": "ProgressView",
            "bar_style": "success",
            "description": "",
            "description_tooltip": null,
            "layout": "IPY_MODEL_453d8104d1214473834e510902c14d0a",
            "max": 349,
            "min": 0,
            "orientation": "horizontal",
            "style": "IPY_MODEL_0c725f62e8694d59bd3b6376815c2458",
            "value": 349
          }
        },
        "479c1552fe8348afb317edf6dbfe7e65": {
          "model_module": "@jupyter-widgets/controls",
          "model_name": "HTMLModel",
          "model_module_version": "1.5.0",
          "state": {
            "_dom_classes": [],
            "_model_module": "@jupyter-widgets/controls",
            "_model_module_version": "1.5.0",
            "_model_name": "HTMLModel",
            "_view_count": null,
            "_view_module": "@jupyter-widgets/controls",
            "_view_module_version": "1.5.0",
            "_view_name": "HTMLView",
            "description": "",
            "description_tooltip": null,
            "layout": "IPY_MODEL_e4a10eb192514dd3829aa3c2477fec00",
            "placeholder": "​",
            "style": "IPY_MODEL_7104182b651545798cb7ac80f84237de",
            "value": " 349/349 [00:00&lt;00:00, 12.9kB/s]"
          }
        },
        "b18d8057f53541ad895a47ebe3ca7c48": {
          "model_module": "@jupyter-widgets/base",
          "model_name": "LayoutModel",
          "model_module_version": "1.2.0",
          "state": {
            "_model_module": "@jupyter-widgets/base",
            "_model_module_version": "1.2.0",
            "_model_name": "LayoutModel",
            "_view_count": null,
            "_view_module": "@jupyter-widgets/base",
            "_view_module_version": "1.2.0",
            "_view_name": "LayoutView",
            "align_content": null,
            "align_items": null,
            "align_self": null,
            "border": null,
            "bottom": null,
            "display": null,
            "flex": null,
            "flex_flow": null,
            "grid_area": null,
            "grid_auto_columns": null,
            "grid_auto_flow": null,
            "grid_auto_rows": null,
            "grid_column": null,
            "grid_gap": null,
            "grid_row": null,
            "grid_template_areas": null,
            "grid_template_columns": null,
            "grid_template_rows": null,
            "height": null,
            "justify_content": null,
            "justify_items": null,
            "left": null,
            "margin": null,
            "max_height": null,
            "max_width": null,
            "min_height": null,
            "min_width": null,
            "object_fit": null,
            "object_position": null,
            "order": null,
            "overflow": null,
            "overflow_x": null,
            "overflow_y": null,
            "padding": null,
            "right": null,
            "top": null,
            "visibility": null,
            "width": null
          }
        },
        "cd7ab33bcafb4ec0b3fded9fb5c40c7f": {
          "model_module": "@jupyter-widgets/base",
          "model_name": "LayoutModel",
          "model_module_version": "1.2.0",
          "state": {
            "_model_module": "@jupyter-widgets/base",
            "_model_module_version": "1.2.0",
            "_model_name": "LayoutModel",
            "_view_count": null,
            "_view_module": "@jupyter-widgets/base",
            "_view_module_version": "1.2.0",
            "_view_name": "LayoutView",
            "align_content": null,
            "align_items": null,
            "align_self": null,
            "border": null,
            "bottom": null,
            "display": null,
            "flex": null,
            "flex_flow": null,
            "grid_area": null,
            "grid_auto_columns": null,
            "grid_auto_flow": null,
            "grid_auto_rows": null,
            "grid_column": null,
            "grid_gap": null,
            "grid_row": null,
            "grid_template_areas": null,
            "grid_template_columns": null,
            "grid_template_rows": null,
            "height": null,
            "justify_content": null,
            "justify_items": null,
            "left": null,
            "margin": null,
            "max_height": null,
            "max_width": null,
            "min_height": null,
            "min_width": null,
            "object_fit": null,
            "object_position": null,
            "order": null,
            "overflow": null,
            "overflow_x": null,
            "overflow_y": null,
            "padding": null,
            "right": null,
            "top": null,
            "visibility": null,
            "width": null
          }
        },
        "3f9f7724b40b436ca6f5508f3b2f5719": {
          "model_module": "@jupyter-widgets/controls",
          "model_name": "DescriptionStyleModel",
          "model_module_version": "1.5.0",
          "state": {
            "_model_module": "@jupyter-widgets/controls",
            "_model_module_version": "1.5.0",
            "_model_name": "DescriptionStyleModel",
            "_view_count": null,
            "_view_module": "@jupyter-widgets/base",
            "_view_module_version": "1.2.0",
            "_view_name": "StyleView",
            "description_width": ""
          }
        },
        "453d8104d1214473834e510902c14d0a": {
          "model_module": "@jupyter-widgets/base",
          "model_name": "LayoutModel",
          "model_module_version": "1.2.0",
          "state": {
            "_model_module": "@jupyter-widgets/base",
            "_model_module_version": "1.2.0",
            "_model_name": "LayoutModel",
            "_view_count": null,
            "_view_module": "@jupyter-widgets/base",
            "_view_module_version": "1.2.0",
            "_view_name": "LayoutView",
            "align_content": null,
            "align_items": null,
            "align_self": null,
            "border": null,
            "bottom": null,
            "display": null,
            "flex": null,
            "flex_flow": null,
            "grid_area": null,
            "grid_auto_columns": null,
            "grid_auto_flow": null,
            "grid_auto_rows": null,
            "grid_column": null,
            "grid_gap": null,
            "grid_row": null,
            "grid_template_areas": null,
            "grid_template_columns": null,
            "grid_template_rows": null,
            "height": null,
            "justify_content": null,
            "justify_items": null,
            "left": null,
            "margin": null,
            "max_height": null,
            "max_width": null,
            "min_height": null,
            "min_width": null,
            "object_fit": null,
            "object_position": null,
            "order": null,
            "overflow": null,
            "overflow_x": null,
            "overflow_y": null,
            "padding": null,
            "right": null,
            "top": null,
            "visibility": null,
            "width": null
          }
        },
        "0c725f62e8694d59bd3b6376815c2458": {
          "model_module": "@jupyter-widgets/controls",
          "model_name": "ProgressStyleModel",
          "model_module_version": "1.5.0",
          "state": {
            "_model_module": "@jupyter-widgets/controls",
            "_model_module_version": "1.5.0",
            "_model_name": "ProgressStyleModel",
            "_view_count": null,
            "_view_module": "@jupyter-widgets/base",
            "_view_module_version": "1.2.0",
            "_view_name": "StyleView",
            "bar_color": null,
            "description_width": ""
          }
        },
        "e4a10eb192514dd3829aa3c2477fec00": {
          "model_module": "@jupyter-widgets/base",
          "model_name": "LayoutModel",
          "model_module_version": "1.2.0",
          "state": {
            "_model_module": "@jupyter-widgets/base",
            "_model_module_version": "1.2.0",
            "_model_name": "LayoutModel",
            "_view_count": null,
            "_view_module": "@jupyter-widgets/base",
            "_view_module_version": "1.2.0",
            "_view_name": "LayoutView",
            "align_content": null,
            "align_items": null,
            "align_self": null,
            "border": null,
            "bottom": null,
            "display": null,
            "flex": null,
            "flex_flow": null,
            "grid_area": null,
            "grid_auto_columns": null,
            "grid_auto_flow": null,
            "grid_auto_rows": null,
            "grid_column": null,
            "grid_gap": null,
            "grid_row": null,
            "grid_template_areas": null,
            "grid_template_columns": null,
            "grid_template_rows": null,
            "height": null,
            "justify_content": null,
            "justify_items": null,
            "left": null,
            "margin": null,
            "max_height": null,
            "max_width": null,
            "min_height": null,
            "min_width": null,
            "object_fit": null,
            "object_position": null,
            "order": null,
            "overflow": null,
            "overflow_x": null,
            "overflow_y": null,
            "padding": null,
            "right": null,
            "top": null,
            "visibility": null,
            "width": null
          }
        },
        "7104182b651545798cb7ac80f84237de": {
          "model_module": "@jupyter-widgets/controls",
          "model_name": "DescriptionStyleModel",
          "model_module_version": "1.5.0",
          "state": {
            "_model_module": "@jupyter-widgets/controls",
            "_model_module_version": "1.5.0",
            "_model_name": "DescriptionStyleModel",
            "_view_count": null,
            "_view_module": "@jupyter-widgets/base",
            "_view_module_version": "1.2.0",
            "_view_name": "StyleView",
            "description_width": ""
          }
        },
        "adf5d725d26e47b19f2448453eac5f64": {
          "model_module": "@jupyter-widgets/controls",
          "model_name": "HBoxModel",
          "model_module_version": "1.5.0",
          "state": {
            "_dom_classes": [],
            "_model_module": "@jupyter-widgets/controls",
            "_model_module_version": "1.5.0",
            "_model_name": "HBoxModel",
            "_view_count": null,
            "_view_module": "@jupyter-widgets/controls",
            "_view_module_version": "1.5.0",
            "_view_name": "HBoxView",
            "box_style": "",
            "children": [
              "IPY_MODEL_c12f829966d9411cb514dbbfea2ebfa6",
              "IPY_MODEL_61d9323269b2477bb4e8b5fda03c0a98",
              "IPY_MODEL_55021362c05e48e09c9ac9f15f68288f"
            ],
            "layout": "IPY_MODEL_707b21fb8504419d8605cc0375fa5592"
          }
        },
        "c12f829966d9411cb514dbbfea2ebfa6": {
          "model_module": "@jupyter-widgets/controls",
          "model_name": "HTMLModel",
          "model_module_version": "1.5.0",
          "state": {
            "_dom_classes": [],
            "_model_module": "@jupyter-widgets/controls",
            "_model_module_version": "1.5.0",
            "_model_name": "HTMLModel",
            "_view_count": null,
            "_view_module": "@jupyter-widgets/controls",
            "_view_module_version": "1.5.0",
            "_view_name": "HTMLView",
            "description": "",
            "description_tooltip": null,
            "layout": "IPY_MODEL_3c26a5c2c8db4641b0cc5c6ee0d9504c",
            "placeholder": "​",
            "style": "IPY_MODEL_28a1db864e5a4fa683023bb23f8ffc37",
            "value": "config_sentence_transformers.json: 100%"
          }
        },
        "61d9323269b2477bb4e8b5fda03c0a98": {
          "model_module": "@jupyter-widgets/controls",
          "model_name": "FloatProgressModel",
          "model_module_version": "1.5.0",
          "state": {
            "_dom_classes": [],
            "_model_module": "@jupyter-widgets/controls",
            "_model_module_version": "1.5.0",
            "_model_name": "FloatProgressModel",
            "_view_count": null,
            "_view_module": "@jupyter-widgets/controls",
            "_view_module_version": "1.5.0",
            "_view_name": "ProgressView",
            "bar_style": "success",
            "description": "",
            "description_tooltip": null,
            "layout": "IPY_MODEL_6540c84dbaa24735ba70507148955bf3",
            "max": 124,
            "min": 0,
            "orientation": "horizontal",
            "style": "IPY_MODEL_fc181d9ae49d4afda23d16651517bcac",
            "value": 124
          }
        },
        "55021362c05e48e09c9ac9f15f68288f": {
          "model_module": "@jupyter-widgets/controls",
          "model_name": "HTMLModel",
          "model_module_version": "1.5.0",
          "state": {
            "_dom_classes": [],
            "_model_module": "@jupyter-widgets/controls",
            "_model_module_version": "1.5.0",
            "_model_name": "HTMLModel",
            "_view_count": null,
            "_view_module": "@jupyter-widgets/controls",
            "_view_module_version": "1.5.0",
            "_view_name": "HTMLView",
            "description": "",
            "description_tooltip": null,
            "layout": "IPY_MODEL_daee2db029f048c1859964f66474583e",
            "placeholder": "​",
            "style": "IPY_MODEL_e3dad124fdff421897274e80cec58b79",
            "value": " 124/124 [00:00&lt;00:00, 5.54kB/s]"
          }
        },
        "707b21fb8504419d8605cc0375fa5592": {
          "model_module": "@jupyter-widgets/base",
          "model_name": "LayoutModel",
          "model_module_version": "1.2.0",
          "state": {
            "_model_module": "@jupyter-widgets/base",
            "_model_module_version": "1.2.0",
            "_model_name": "LayoutModel",
            "_view_count": null,
            "_view_module": "@jupyter-widgets/base",
            "_view_module_version": "1.2.0",
            "_view_name": "LayoutView",
            "align_content": null,
            "align_items": null,
            "align_self": null,
            "border": null,
            "bottom": null,
            "display": null,
            "flex": null,
            "flex_flow": null,
            "grid_area": null,
            "grid_auto_columns": null,
            "grid_auto_flow": null,
            "grid_auto_rows": null,
            "grid_column": null,
            "grid_gap": null,
            "grid_row": null,
            "grid_template_areas": null,
            "grid_template_columns": null,
            "grid_template_rows": null,
            "height": null,
            "justify_content": null,
            "justify_items": null,
            "left": null,
            "margin": null,
            "max_height": null,
            "max_width": null,
            "min_height": null,
            "min_width": null,
            "object_fit": null,
            "object_position": null,
            "order": null,
            "overflow": null,
            "overflow_x": null,
            "overflow_y": null,
            "padding": null,
            "right": null,
            "top": null,
            "visibility": null,
            "width": null
          }
        },
        "3c26a5c2c8db4641b0cc5c6ee0d9504c": {
          "model_module": "@jupyter-widgets/base",
          "model_name": "LayoutModel",
          "model_module_version": "1.2.0",
          "state": {
            "_model_module": "@jupyter-widgets/base",
            "_model_module_version": "1.2.0",
            "_model_name": "LayoutModel",
            "_view_count": null,
            "_view_module": "@jupyter-widgets/base",
            "_view_module_version": "1.2.0",
            "_view_name": "LayoutView",
            "align_content": null,
            "align_items": null,
            "align_self": null,
            "border": null,
            "bottom": null,
            "display": null,
            "flex": null,
            "flex_flow": null,
            "grid_area": null,
            "grid_auto_columns": null,
            "grid_auto_flow": null,
            "grid_auto_rows": null,
            "grid_column": null,
            "grid_gap": null,
            "grid_row": null,
            "grid_template_areas": null,
            "grid_template_columns": null,
            "grid_template_rows": null,
            "height": null,
            "justify_content": null,
            "justify_items": null,
            "left": null,
            "margin": null,
            "max_height": null,
            "max_width": null,
            "min_height": null,
            "min_width": null,
            "object_fit": null,
            "object_position": null,
            "order": null,
            "overflow": null,
            "overflow_x": null,
            "overflow_y": null,
            "padding": null,
            "right": null,
            "top": null,
            "visibility": null,
            "width": null
          }
        },
        "28a1db864e5a4fa683023bb23f8ffc37": {
          "model_module": "@jupyter-widgets/controls",
          "model_name": "DescriptionStyleModel",
          "model_module_version": "1.5.0",
          "state": {
            "_model_module": "@jupyter-widgets/controls",
            "_model_module_version": "1.5.0",
            "_model_name": "DescriptionStyleModel",
            "_view_count": null,
            "_view_module": "@jupyter-widgets/base",
            "_view_module_version": "1.2.0",
            "_view_name": "StyleView",
            "description_width": ""
          }
        },
        "6540c84dbaa24735ba70507148955bf3": {
          "model_module": "@jupyter-widgets/base",
          "model_name": "LayoutModel",
          "model_module_version": "1.2.0",
          "state": {
            "_model_module": "@jupyter-widgets/base",
            "_model_module_version": "1.2.0",
            "_model_name": "LayoutModel",
            "_view_count": null,
            "_view_module": "@jupyter-widgets/base",
            "_view_module_version": "1.2.0",
            "_view_name": "LayoutView",
            "align_content": null,
            "align_items": null,
            "align_self": null,
            "border": null,
            "bottom": null,
            "display": null,
            "flex": null,
            "flex_flow": null,
            "grid_area": null,
            "grid_auto_columns": null,
            "grid_auto_flow": null,
            "grid_auto_rows": null,
            "grid_column": null,
            "grid_gap": null,
            "grid_row": null,
            "grid_template_areas": null,
            "grid_template_columns": null,
            "grid_template_rows": null,
            "height": null,
            "justify_content": null,
            "justify_items": null,
            "left": null,
            "margin": null,
            "max_height": null,
            "max_width": null,
            "min_height": null,
            "min_width": null,
            "object_fit": null,
            "object_position": null,
            "order": null,
            "overflow": null,
            "overflow_x": null,
            "overflow_y": null,
            "padding": null,
            "right": null,
            "top": null,
            "visibility": null,
            "width": null
          }
        },
        "fc181d9ae49d4afda23d16651517bcac": {
          "model_module": "@jupyter-widgets/controls",
          "model_name": "ProgressStyleModel",
          "model_module_version": "1.5.0",
          "state": {
            "_model_module": "@jupyter-widgets/controls",
            "_model_module_version": "1.5.0",
            "_model_name": "ProgressStyleModel",
            "_view_count": null,
            "_view_module": "@jupyter-widgets/base",
            "_view_module_version": "1.2.0",
            "_view_name": "StyleView",
            "bar_color": null,
            "description_width": ""
          }
        },
        "daee2db029f048c1859964f66474583e": {
          "model_module": "@jupyter-widgets/base",
          "model_name": "LayoutModel",
          "model_module_version": "1.2.0",
          "state": {
            "_model_module": "@jupyter-widgets/base",
            "_model_module_version": "1.2.0",
            "_model_name": "LayoutModel",
            "_view_count": null,
            "_view_module": "@jupyter-widgets/base",
            "_view_module_version": "1.2.0",
            "_view_name": "LayoutView",
            "align_content": null,
            "align_items": null,
            "align_self": null,
            "border": null,
            "bottom": null,
            "display": null,
            "flex": null,
            "flex_flow": null,
            "grid_area": null,
            "grid_auto_columns": null,
            "grid_auto_flow": null,
            "grid_auto_rows": null,
            "grid_column": null,
            "grid_gap": null,
            "grid_row": null,
            "grid_template_areas": null,
            "grid_template_columns": null,
            "grid_template_rows": null,
            "height": null,
            "justify_content": null,
            "justify_items": null,
            "left": null,
            "margin": null,
            "max_height": null,
            "max_width": null,
            "min_height": null,
            "min_width": null,
            "object_fit": null,
            "object_position": null,
            "order": null,
            "overflow": null,
            "overflow_x": null,
            "overflow_y": null,
            "padding": null,
            "right": null,
            "top": null,
            "visibility": null,
            "width": null
          }
        },
        "e3dad124fdff421897274e80cec58b79": {
          "model_module": "@jupyter-widgets/controls",
          "model_name": "DescriptionStyleModel",
          "model_module_version": "1.5.0",
          "state": {
            "_model_module": "@jupyter-widgets/controls",
            "_model_module_version": "1.5.0",
            "_model_name": "DescriptionStyleModel",
            "_view_count": null,
            "_view_module": "@jupyter-widgets/base",
            "_view_module_version": "1.2.0",
            "_view_name": "StyleView",
            "description_width": ""
          }
        },
        "341b5ad8cb2b401c923df5027742cbe3": {
          "model_module": "@jupyter-widgets/controls",
          "model_name": "HBoxModel",
          "model_module_version": "1.5.0",
          "state": {
            "_dom_classes": [],
            "_model_module": "@jupyter-widgets/controls",
            "_model_module_version": "1.5.0",
            "_model_name": "HBoxModel",
            "_view_count": null,
            "_view_module": "@jupyter-widgets/controls",
            "_view_module_version": "1.5.0",
            "_view_name": "HBoxView",
            "box_style": "",
            "children": [
              "IPY_MODEL_5f4f7b25d5ba48b38ba404cd8a1e6485",
              "IPY_MODEL_dbe5291b8caf4b239c034a977592739d",
              "IPY_MODEL_11d720436f7e491f84c4ff9192d65b42"
            ],
            "layout": "IPY_MODEL_d4d0c0e697784c22aaffefe84c6c0226"
          }
        },
        "5f4f7b25d5ba48b38ba404cd8a1e6485": {
          "model_module": "@jupyter-widgets/controls",
          "model_name": "HTMLModel",
          "model_module_version": "1.5.0",
          "state": {
            "_dom_classes": [],
            "_model_module": "@jupyter-widgets/controls",
            "_model_module_version": "1.5.0",
            "_model_name": "HTMLModel",
            "_view_count": null,
            "_view_module": "@jupyter-widgets/controls",
            "_view_module_version": "1.5.0",
            "_view_name": "HTMLView",
            "description": "",
            "description_tooltip": null,
            "layout": "IPY_MODEL_118acb44772b4673963b702d6c45ff63",
            "placeholder": "​",
            "style": "IPY_MODEL_5b12c95c9e37418fa039f23661ec0163",
            "value": "README.md: 100%"
          }
        },
        "dbe5291b8caf4b239c034a977592739d": {
          "model_module": "@jupyter-widgets/controls",
          "model_name": "FloatProgressModel",
          "model_module_version": "1.5.0",
          "state": {
            "_dom_classes": [],
            "_model_module": "@jupyter-widgets/controls",
            "_model_module_version": "1.5.0",
            "_model_name": "FloatProgressModel",
            "_view_count": null,
            "_view_module": "@jupyter-widgets/controls",
            "_view_module_version": "1.5.0",
            "_view_name": "ProgressView",
            "bar_style": "success",
            "description": "",
            "description_tooltip": null,
            "layout": "IPY_MODEL_02f1e050418a42848aaf8451fabe0708",
            "max": 90797,
            "min": 0,
            "orientation": "horizontal",
            "style": "IPY_MODEL_0a11e7fa830f4cf18954ae971bc761c5",
            "value": 90797
          }
        },
        "11d720436f7e491f84c4ff9192d65b42": {
          "model_module": "@jupyter-widgets/controls",
          "model_name": "HTMLModel",
          "model_module_version": "1.5.0",
          "state": {
            "_dom_classes": [],
            "_model_module": "@jupyter-widgets/controls",
            "_model_module_version": "1.5.0",
            "_model_name": "HTMLModel",
            "_view_count": null,
            "_view_module": "@jupyter-widgets/controls",
            "_view_module_version": "1.5.0",
            "_view_name": "HTMLView",
            "description": "",
            "description_tooltip": null,
            "layout": "IPY_MODEL_387878678c1345eda24248100d142d06",
            "placeholder": "​",
            "style": "IPY_MODEL_844c87ee9ff14241af289231e14273a4",
            "value": " 90.8k/90.8k [00:00&lt;00:00, 2.28MB/s]"
          }
        },
        "d4d0c0e697784c22aaffefe84c6c0226": {
          "model_module": "@jupyter-widgets/base",
          "model_name": "LayoutModel",
          "model_module_version": "1.2.0",
          "state": {
            "_model_module": "@jupyter-widgets/base",
            "_model_module_version": "1.2.0",
            "_model_name": "LayoutModel",
            "_view_count": null,
            "_view_module": "@jupyter-widgets/base",
            "_view_module_version": "1.2.0",
            "_view_name": "LayoutView",
            "align_content": null,
            "align_items": null,
            "align_self": null,
            "border": null,
            "bottom": null,
            "display": null,
            "flex": null,
            "flex_flow": null,
            "grid_area": null,
            "grid_auto_columns": null,
            "grid_auto_flow": null,
            "grid_auto_rows": null,
            "grid_column": null,
            "grid_gap": null,
            "grid_row": null,
            "grid_template_areas": null,
            "grid_template_columns": null,
            "grid_template_rows": null,
            "height": null,
            "justify_content": null,
            "justify_items": null,
            "left": null,
            "margin": null,
            "max_height": null,
            "max_width": null,
            "min_height": null,
            "min_width": null,
            "object_fit": null,
            "object_position": null,
            "order": null,
            "overflow": null,
            "overflow_x": null,
            "overflow_y": null,
            "padding": null,
            "right": null,
            "top": null,
            "visibility": null,
            "width": null
          }
        },
        "118acb44772b4673963b702d6c45ff63": {
          "model_module": "@jupyter-widgets/base",
          "model_name": "LayoutModel",
          "model_module_version": "1.2.0",
          "state": {
            "_model_module": "@jupyter-widgets/base",
            "_model_module_version": "1.2.0",
            "_model_name": "LayoutModel",
            "_view_count": null,
            "_view_module": "@jupyter-widgets/base",
            "_view_module_version": "1.2.0",
            "_view_name": "LayoutView",
            "align_content": null,
            "align_items": null,
            "align_self": null,
            "border": null,
            "bottom": null,
            "display": null,
            "flex": null,
            "flex_flow": null,
            "grid_area": null,
            "grid_auto_columns": null,
            "grid_auto_flow": null,
            "grid_auto_rows": null,
            "grid_column": null,
            "grid_gap": null,
            "grid_row": null,
            "grid_template_areas": null,
            "grid_template_columns": null,
            "grid_template_rows": null,
            "height": null,
            "justify_content": null,
            "justify_items": null,
            "left": null,
            "margin": null,
            "max_height": null,
            "max_width": null,
            "min_height": null,
            "min_width": null,
            "object_fit": null,
            "object_position": null,
            "order": null,
            "overflow": null,
            "overflow_x": null,
            "overflow_y": null,
            "padding": null,
            "right": null,
            "top": null,
            "visibility": null,
            "width": null
          }
        },
        "5b12c95c9e37418fa039f23661ec0163": {
          "model_module": "@jupyter-widgets/controls",
          "model_name": "DescriptionStyleModel",
          "model_module_version": "1.5.0",
          "state": {
            "_model_module": "@jupyter-widgets/controls",
            "_model_module_version": "1.5.0",
            "_model_name": "DescriptionStyleModel",
            "_view_count": null,
            "_view_module": "@jupyter-widgets/base",
            "_view_module_version": "1.2.0",
            "_view_name": "StyleView",
            "description_width": ""
          }
        },
        "02f1e050418a42848aaf8451fabe0708": {
          "model_module": "@jupyter-widgets/base",
          "model_name": "LayoutModel",
          "model_module_version": "1.2.0",
          "state": {
            "_model_module": "@jupyter-widgets/base",
            "_model_module_version": "1.2.0",
            "_model_name": "LayoutModel",
            "_view_count": null,
            "_view_module": "@jupyter-widgets/base",
            "_view_module_version": "1.2.0",
            "_view_name": "LayoutView",
            "align_content": null,
            "align_items": null,
            "align_self": null,
            "border": null,
            "bottom": null,
            "display": null,
            "flex": null,
            "flex_flow": null,
            "grid_area": null,
            "grid_auto_columns": null,
            "grid_auto_flow": null,
            "grid_auto_rows": null,
            "grid_column": null,
            "grid_gap": null,
            "grid_row": null,
            "grid_template_areas": null,
            "grid_template_columns": null,
            "grid_template_rows": null,
            "height": null,
            "justify_content": null,
            "justify_items": null,
            "left": null,
            "margin": null,
            "max_height": null,
            "max_width": null,
            "min_height": null,
            "min_width": null,
            "object_fit": null,
            "object_position": null,
            "order": null,
            "overflow": null,
            "overflow_x": null,
            "overflow_y": null,
            "padding": null,
            "right": null,
            "top": null,
            "visibility": null,
            "width": null
          }
        },
        "0a11e7fa830f4cf18954ae971bc761c5": {
          "model_module": "@jupyter-widgets/controls",
          "model_name": "ProgressStyleModel",
          "model_module_version": "1.5.0",
          "state": {
            "_model_module": "@jupyter-widgets/controls",
            "_model_module_version": "1.5.0",
            "_model_name": "ProgressStyleModel",
            "_view_count": null,
            "_view_module": "@jupyter-widgets/base",
            "_view_module_version": "1.2.0",
            "_view_name": "StyleView",
            "bar_color": null,
            "description_width": ""
          }
        },
        "387878678c1345eda24248100d142d06": {
          "model_module": "@jupyter-widgets/base",
          "model_name": "LayoutModel",
          "model_module_version": "1.2.0",
          "state": {
            "_model_module": "@jupyter-widgets/base",
            "_model_module_version": "1.2.0",
            "_model_name": "LayoutModel",
            "_view_count": null,
            "_view_module": "@jupyter-widgets/base",
            "_view_module_version": "1.2.0",
            "_view_name": "LayoutView",
            "align_content": null,
            "align_items": null,
            "align_self": null,
            "border": null,
            "bottom": null,
            "display": null,
            "flex": null,
            "flex_flow": null,
            "grid_area": null,
            "grid_auto_columns": null,
            "grid_auto_flow": null,
            "grid_auto_rows": null,
            "grid_column": null,
            "grid_gap": null,
            "grid_row": null,
            "grid_template_areas": null,
            "grid_template_columns": null,
            "grid_template_rows": null,
            "height": null,
            "justify_content": null,
            "justify_items": null,
            "left": null,
            "margin": null,
            "max_height": null,
            "max_width": null,
            "min_height": null,
            "min_width": null,
            "object_fit": null,
            "object_position": null,
            "order": null,
            "overflow": null,
            "overflow_x": null,
            "overflow_y": null,
            "padding": null,
            "right": null,
            "top": null,
            "visibility": null,
            "width": null
          }
        },
        "844c87ee9ff14241af289231e14273a4": {
          "model_module": "@jupyter-widgets/controls",
          "model_name": "DescriptionStyleModel",
          "model_module_version": "1.5.0",
          "state": {
            "_model_module": "@jupyter-widgets/controls",
            "_model_module_version": "1.5.0",
            "_model_name": "DescriptionStyleModel",
            "_view_count": null,
            "_view_module": "@jupyter-widgets/base",
            "_view_module_version": "1.2.0",
            "_view_name": "StyleView",
            "description_width": ""
          }
        },
        "8a30e83e45fc4a2b8e021030a66e654f": {
          "model_module": "@jupyter-widgets/controls",
          "model_name": "HBoxModel",
          "model_module_version": "1.5.0",
          "state": {
            "_dom_classes": [],
            "_model_module": "@jupyter-widgets/controls",
            "_model_module_version": "1.5.0",
            "_model_name": "HBoxModel",
            "_view_count": null,
            "_view_module": "@jupyter-widgets/controls",
            "_view_module_version": "1.5.0",
            "_view_name": "HBoxView",
            "box_style": "",
            "children": [
              "IPY_MODEL_e4f6779f472846aaaffff6780ebe3a91",
              "IPY_MODEL_a05b91b4931b47f38a56ec9c6604b850",
              "IPY_MODEL_843db40e3e314751baae0a632ee40388"
            ],
            "layout": "IPY_MODEL_1616e6dbd4df4f808d219fa5f425e638"
          }
        },
        "e4f6779f472846aaaffff6780ebe3a91": {
          "model_module": "@jupyter-widgets/controls",
          "model_name": "HTMLModel",
          "model_module_version": "1.5.0",
          "state": {
            "_dom_classes": [],
            "_model_module": "@jupyter-widgets/controls",
            "_model_module_version": "1.5.0",
            "_model_name": "HTMLModel",
            "_view_count": null,
            "_view_module": "@jupyter-widgets/controls",
            "_view_module_version": "1.5.0",
            "_view_name": "HTMLView",
            "description": "",
            "description_tooltip": null,
            "layout": "IPY_MODEL_d05a86ea568c4d3890b0529efba88935",
            "placeholder": "​",
            "style": "IPY_MODEL_6f728cfdfbcc4634bf8c8f0ff634e391",
            "value": "sentence_bert_config.json: 100%"
          }
        },
        "a05b91b4931b47f38a56ec9c6604b850": {
          "model_module": "@jupyter-widgets/controls",
          "model_name": "FloatProgressModel",
          "model_module_version": "1.5.0",
          "state": {
            "_dom_classes": [],
            "_model_module": "@jupyter-widgets/controls",
            "_model_module_version": "1.5.0",
            "_model_name": "FloatProgressModel",
            "_view_count": null,
            "_view_module": "@jupyter-widgets/controls",
            "_view_module_version": "1.5.0",
            "_view_name": "ProgressView",
            "bar_style": "success",
            "description": "",
            "description_tooltip": null,
            "layout": "IPY_MODEL_e8b62ae57c054ee9b9aaad51ba3a70d0",
            "max": 52,
            "min": 0,
            "orientation": "horizontal",
            "style": "IPY_MODEL_ab3f085aa4ad4967985cae3f70734a25",
            "value": 52
          }
        },
        "843db40e3e314751baae0a632ee40388": {
          "model_module": "@jupyter-widgets/controls",
          "model_name": "HTMLModel",
          "model_module_version": "1.5.0",
          "state": {
            "_dom_classes": [],
            "_model_module": "@jupyter-widgets/controls",
            "_model_module_version": "1.5.0",
            "_model_name": "HTMLModel",
            "_view_count": null,
            "_view_module": "@jupyter-widgets/controls",
            "_view_module_version": "1.5.0",
            "_view_name": "HTMLView",
            "description": "",
            "description_tooltip": null,
            "layout": "IPY_MODEL_de07a30d4d2644e0ae98b6b1229c540a",
            "placeholder": "​",
            "style": "IPY_MODEL_d8725d0ddb7d49d6bf3051139f8f6a98",
            "value": " 52.0/52.0 [00:00&lt;00:00, 2.36kB/s]"
          }
        },
        "1616e6dbd4df4f808d219fa5f425e638": {
          "model_module": "@jupyter-widgets/base",
          "model_name": "LayoutModel",
          "model_module_version": "1.2.0",
          "state": {
            "_model_module": "@jupyter-widgets/base",
            "_model_module_version": "1.2.0",
            "_model_name": "LayoutModel",
            "_view_count": null,
            "_view_module": "@jupyter-widgets/base",
            "_view_module_version": "1.2.0",
            "_view_name": "LayoutView",
            "align_content": null,
            "align_items": null,
            "align_self": null,
            "border": null,
            "bottom": null,
            "display": null,
            "flex": null,
            "flex_flow": null,
            "grid_area": null,
            "grid_auto_columns": null,
            "grid_auto_flow": null,
            "grid_auto_rows": null,
            "grid_column": null,
            "grid_gap": null,
            "grid_row": null,
            "grid_template_areas": null,
            "grid_template_columns": null,
            "grid_template_rows": null,
            "height": null,
            "justify_content": null,
            "justify_items": null,
            "left": null,
            "margin": null,
            "max_height": null,
            "max_width": null,
            "min_height": null,
            "min_width": null,
            "object_fit": null,
            "object_position": null,
            "order": null,
            "overflow": null,
            "overflow_x": null,
            "overflow_y": null,
            "padding": null,
            "right": null,
            "top": null,
            "visibility": null,
            "width": null
          }
        },
        "d05a86ea568c4d3890b0529efba88935": {
          "model_module": "@jupyter-widgets/base",
          "model_name": "LayoutModel",
          "model_module_version": "1.2.0",
          "state": {
            "_model_module": "@jupyter-widgets/base",
            "_model_module_version": "1.2.0",
            "_model_name": "LayoutModel",
            "_view_count": null,
            "_view_module": "@jupyter-widgets/base",
            "_view_module_version": "1.2.0",
            "_view_name": "LayoutView",
            "align_content": null,
            "align_items": null,
            "align_self": null,
            "border": null,
            "bottom": null,
            "display": null,
            "flex": null,
            "flex_flow": null,
            "grid_area": null,
            "grid_auto_columns": null,
            "grid_auto_flow": null,
            "grid_auto_rows": null,
            "grid_column": null,
            "grid_gap": null,
            "grid_row": null,
            "grid_template_areas": null,
            "grid_template_columns": null,
            "grid_template_rows": null,
            "height": null,
            "justify_content": null,
            "justify_items": null,
            "left": null,
            "margin": null,
            "max_height": null,
            "max_width": null,
            "min_height": null,
            "min_width": null,
            "object_fit": null,
            "object_position": null,
            "order": null,
            "overflow": null,
            "overflow_x": null,
            "overflow_y": null,
            "padding": null,
            "right": null,
            "top": null,
            "visibility": null,
            "width": null
          }
        },
        "6f728cfdfbcc4634bf8c8f0ff634e391": {
          "model_module": "@jupyter-widgets/controls",
          "model_name": "DescriptionStyleModel",
          "model_module_version": "1.5.0",
          "state": {
            "_model_module": "@jupyter-widgets/controls",
            "_model_module_version": "1.5.0",
            "_model_name": "DescriptionStyleModel",
            "_view_count": null,
            "_view_module": "@jupyter-widgets/base",
            "_view_module_version": "1.2.0",
            "_view_name": "StyleView",
            "description_width": ""
          }
        },
        "e8b62ae57c054ee9b9aaad51ba3a70d0": {
          "model_module": "@jupyter-widgets/base",
          "model_name": "LayoutModel",
          "model_module_version": "1.2.0",
          "state": {
            "_model_module": "@jupyter-widgets/base",
            "_model_module_version": "1.2.0",
            "_model_name": "LayoutModel",
            "_view_count": null,
            "_view_module": "@jupyter-widgets/base",
            "_view_module_version": "1.2.0",
            "_view_name": "LayoutView",
            "align_content": null,
            "align_items": null,
            "align_self": null,
            "border": null,
            "bottom": null,
            "display": null,
            "flex": null,
            "flex_flow": null,
            "grid_area": null,
            "grid_auto_columns": null,
            "grid_auto_flow": null,
            "grid_auto_rows": null,
            "grid_column": null,
            "grid_gap": null,
            "grid_row": null,
            "grid_template_areas": null,
            "grid_template_columns": null,
            "grid_template_rows": null,
            "height": null,
            "justify_content": null,
            "justify_items": null,
            "left": null,
            "margin": null,
            "max_height": null,
            "max_width": null,
            "min_height": null,
            "min_width": null,
            "object_fit": null,
            "object_position": null,
            "order": null,
            "overflow": null,
            "overflow_x": null,
            "overflow_y": null,
            "padding": null,
            "right": null,
            "top": null,
            "visibility": null,
            "width": null
          }
        },
        "ab3f085aa4ad4967985cae3f70734a25": {
          "model_module": "@jupyter-widgets/controls",
          "model_name": "ProgressStyleModel",
          "model_module_version": "1.5.0",
          "state": {
            "_model_module": "@jupyter-widgets/controls",
            "_model_module_version": "1.5.0",
            "_model_name": "ProgressStyleModel",
            "_view_count": null,
            "_view_module": "@jupyter-widgets/base",
            "_view_module_version": "1.2.0",
            "_view_name": "StyleView",
            "bar_color": null,
            "description_width": ""
          }
        },
        "de07a30d4d2644e0ae98b6b1229c540a": {
          "model_module": "@jupyter-widgets/base",
          "model_name": "LayoutModel",
          "model_module_version": "1.2.0",
          "state": {
            "_model_module": "@jupyter-widgets/base",
            "_model_module_version": "1.2.0",
            "_model_name": "LayoutModel",
            "_view_count": null,
            "_view_module": "@jupyter-widgets/base",
            "_view_module_version": "1.2.0",
            "_view_name": "LayoutView",
            "align_content": null,
            "align_items": null,
            "align_self": null,
            "border": null,
            "bottom": null,
            "display": null,
            "flex": null,
            "flex_flow": null,
            "grid_area": null,
            "grid_auto_columns": null,
            "grid_auto_flow": null,
            "grid_auto_rows": null,
            "grid_column": null,
            "grid_gap": null,
            "grid_row": null,
            "grid_template_areas": null,
            "grid_template_columns": null,
            "grid_template_rows": null,
            "height": null,
            "justify_content": null,
            "justify_items": null,
            "left": null,
            "margin": null,
            "max_height": null,
            "max_width": null,
            "min_height": null,
            "min_width": null,
            "object_fit": null,
            "object_position": null,
            "order": null,
            "overflow": null,
            "overflow_x": null,
            "overflow_y": null,
            "padding": null,
            "right": null,
            "top": null,
            "visibility": null,
            "width": null
          }
        },
        "d8725d0ddb7d49d6bf3051139f8f6a98": {
          "model_module": "@jupyter-widgets/controls",
          "model_name": "DescriptionStyleModel",
          "model_module_version": "1.5.0",
          "state": {
            "_model_module": "@jupyter-widgets/controls",
            "_model_module_version": "1.5.0",
            "_model_name": "DescriptionStyleModel",
            "_view_count": null,
            "_view_module": "@jupyter-widgets/base",
            "_view_module_version": "1.2.0",
            "_view_name": "StyleView",
            "description_width": ""
          }
        },
        "a995016869584f38aefba143fc965cb4": {
          "model_module": "@jupyter-widgets/controls",
          "model_name": "HBoxModel",
          "model_module_version": "1.5.0",
          "state": {
            "_dom_classes": [],
            "_model_module": "@jupyter-widgets/controls",
            "_model_module_version": "1.5.0",
            "_model_name": "HBoxModel",
            "_view_count": null,
            "_view_module": "@jupyter-widgets/controls",
            "_view_module_version": "1.5.0",
            "_view_name": "HBoxView",
            "box_style": "",
            "children": [
              "IPY_MODEL_f394a62fb5b6493087db2488e842fcc9",
              "IPY_MODEL_6ad1795be55046349e899eb5d919bcef",
              "IPY_MODEL_c9eec83d7723404c83851a4443436803"
            ],
            "layout": "IPY_MODEL_6332777d81574c208e50f03dd420dd06"
          }
        },
        "f394a62fb5b6493087db2488e842fcc9": {
          "model_module": "@jupyter-widgets/controls",
          "model_name": "HTMLModel",
          "model_module_version": "1.5.0",
          "state": {
            "_dom_classes": [],
            "_model_module": "@jupyter-widgets/controls",
            "_model_module_version": "1.5.0",
            "_model_name": "HTMLModel",
            "_view_count": null,
            "_view_module": "@jupyter-widgets/controls",
            "_view_module_version": "1.5.0",
            "_view_name": "HTMLView",
            "description": "",
            "description_tooltip": null,
            "layout": "IPY_MODEL_e3ac2bbb2b3f4cf9aa047b440a0ef5b0",
            "placeholder": "​",
            "style": "IPY_MODEL_1d2ff863500a4aad8d6e47645a87fb19",
            "value": "config.json: 100%"
          }
        },
        "6ad1795be55046349e899eb5d919bcef": {
          "model_module": "@jupyter-widgets/controls",
          "model_name": "FloatProgressModel",
          "model_module_version": "1.5.0",
          "state": {
            "_dom_classes": [],
            "_model_module": "@jupyter-widgets/controls",
            "_model_module_version": "1.5.0",
            "_model_name": "FloatProgressModel",
            "_view_count": null,
            "_view_module": "@jupyter-widgets/controls",
            "_view_module_version": "1.5.0",
            "_view_name": "ProgressView",
            "bar_style": "success",
            "description": "",
            "description_tooltip": null,
            "layout": "IPY_MODEL_bacaa2b73be04fe6a34439ac4e8b20d9",
            "max": 684,
            "min": 0,
            "orientation": "horizontal",
            "style": "IPY_MODEL_226b44df587d450bab11612902e0fc96",
            "value": 684
          }
        },
        "c9eec83d7723404c83851a4443436803": {
          "model_module": "@jupyter-widgets/controls",
          "model_name": "HTMLModel",
          "model_module_version": "1.5.0",
          "state": {
            "_dom_classes": [],
            "_model_module": "@jupyter-widgets/controls",
            "_model_module_version": "1.5.0",
            "_model_name": "HTMLModel",
            "_view_count": null,
            "_view_module": "@jupyter-widgets/controls",
            "_view_module_version": "1.5.0",
            "_view_name": "HTMLView",
            "description": "",
            "description_tooltip": null,
            "layout": "IPY_MODEL_fd232fc32bf447cfb3c5906a946ce784",
            "placeholder": "​",
            "style": "IPY_MODEL_81a918434917428c9d85d44e7cbc26dc",
            "value": " 684/684 [00:00&lt;00:00, 13.2kB/s]"
          }
        },
        "6332777d81574c208e50f03dd420dd06": {
          "model_module": "@jupyter-widgets/base",
          "model_name": "LayoutModel",
          "model_module_version": "1.2.0",
          "state": {
            "_model_module": "@jupyter-widgets/base",
            "_model_module_version": "1.2.0",
            "_model_name": "LayoutModel",
            "_view_count": null,
            "_view_module": "@jupyter-widgets/base",
            "_view_module_version": "1.2.0",
            "_view_name": "LayoutView",
            "align_content": null,
            "align_items": null,
            "align_self": null,
            "border": null,
            "bottom": null,
            "display": null,
            "flex": null,
            "flex_flow": null,
            "grid_area": null,
            "grid_auto_columns": null,
            "grid_auto_flow": null,
            "grid_auto_rows": null,
            "grid_column": null,
            "grid_gap": null,
            "grid_row": null,
            "grid_template_areas": null,
            "grid_template_columns": null,
            "grid_template_rows": null,
            "height": null,
            "justify_content": null,
            "justify_items": null,
            "left": null,
            "margin": null,
            "max_height": null,
            "max_width": null,
            "min_height": null,
            "min_width": null,
            "object_fit": null,
            "object_position": null,
            "order": null,
            "overflow": null,
            "overflow_x": null,
            "overflow_y": null,
            "padding": null,
            "right": null,
            "top": null,
            "visibility": null,
            "width": null
          }
        },
        "e3ac2bbb2b3f4cf9aa047b440a0ef5b0": {
          "model_module": "@jupyter-widgets/base",
          "model_name": "LayoutModel",
          "model_module_version": "1.2.0",
          "state": {
            "_model_module": "@jupyter-widgets/base",
            "_model_module_version": "1.2.0",
            "_model_name": "LayoutModel",
            "_view_count": null,
            "_view_module": "@jupyter-widgets/base",
            "_view_module_version": "1.2.0",
            "_view_name": "LayoutView",
            "align_content": null,
            "align_items": null,
            "align_self": null,
            "border": null,
            "bottom": null,
            "display": null,
            "flex": null,
            "flex_flow": null,
            "grid_area": null,
            "grid_auto_columns": null,
            "grid_auto_flow": null,
            "grid_auto_rows": null,
            "grid_column": null,
            "grid_gap": null,
            "grid_row": null,
            "grid_template_areas": null,
            "grid_template_columns": null,
            "grid_template_rows": null,
            "height": null,
            "justify_content": null,
            "justify_items": null,
            "left": null,
            "margin": null,
            "max_height": null,
            "max_width": null,
            "min_height": null,
            "min_width": null,
            "object_fit": null,
            "object_position": null,
            "order": null,
            "overflow": null,
            "overflow_x": null,
            "overflow_y": null,
            "padding": null,
            "right": null,
            "top": null,
            "visibility": null,
            "width": null
          }
        },
        "1d2ff863500a4aad8d6e47645a87fb19": {
          "model_module": "@jupyter-widgets/controls",
          "model_name": "DescriptionStyleModel",
          "model_module_version": "1.5.0",
          "state": {
            "_model_module": "@jupyter-widgets/controls",
            "_model_module_version": "1.5.0",
            "_model_name": "DescriptionStyleModel",
            "_view_count": null,
            "_view_module": "@jupyter-widgets/base",
            "_view_module_version": "1.2.0",
            "_view_name": "StyleView",
            "description_width": ""
          }
        },
        "bacaa2b73be04fe6a34439ac4e8b20d9": {
          "model_module": "@jupyter-widgets/base",
          "model_name": "LayoutModel",
          "model_module_version": "1.2.0",
          "state": {
            "_model_module": "@jupyter-widgets/base",
            "_model_module_version": "1.2.0",
            "_model_name": "LayoutModel",
            "_view_count": null,
            "_view_module": "@jupyter-widgets/base",
            "_view_module_version": "1.2.0",
            "_view_name": "LayoutView",
            "align_content": null,
            "align_items": null,
            "align_self": null,
            "border": null,
            "bottom": null,
            "display": null,
            "flex": null,
            "flex_flow": null,
            "grid_area": null,
            "grid_auto_columns": null,
            "grid_auto_flow": null,
            "grid_auto_rows": null,
            "grid_column": null,
            "grid_gap": null,
            "grid_row": null,
            "grid_template_areas": null,
            "grid_template_columns": null,
            "grid_template_rows": null,
            "height": null,
            "justify_content": null,
            "justify_items": null,
            "left": null,
            "margin": null,
            "max_height": null,
            "max_width": null,
            "min_height": null,
            "min_width": null,
            "object_fit": null,
            "object_position": null,
            "order": null,
            "overflow": null,
            "overflow_x": null,
            "overflow_y": null,
            "padding": null,
            "right": null,
            "top": null,
            "visibility": null,
            "width": null
          }
        },
        "226b44df587d450bab11612902e0fc96": {
          "model_module": "@jupyter-widgets/controls",
          "model_name": "ProgressStyleModel",
          "model_module_version": "1.5.0",
          "state": {
            "_model_module": "@jupyter-widgets/controls",
            "_model_module_version": "1.5.0",
            "_model_name": "ProgressStyleModel",
            "_view_count": null,
            "_view_module": "@jupyter-widgets/base",
            "_view_module_version": "1.2.0",
            "_view_name": "StyleView",
            "bar_color": null,
            "description_width": ""
          }
        },
        "fd232fc32bf447cfb3c5906a946ce784": {
          "model_module": "@jupyter-widgets/base",
          "model_name": "LayoutModel",
          "model_module_version": "1.2.0",
          "state": {
            "_model_module": "@jupyter-widgets/base",
            "_model_module_version": "1.2.0",
            "_model_name": "LayoutModel",
            "_view_count": null,
            "_view_module": "@jupyter-widgets/base",
            "_view_module_version": "1.2.0",
            "_view_name": "LayoutView",
            "align_content": null,
            "align_items": null,
            "align_self": null,
            "border": null,
            "bottom": null,
            "display": null,
            "flex": null,
            "flex_flow": null,
            "grid_area": null,
            "grid_auto_columns": null,
            "grid_auto_flow": null,
            "grid_auto_rows": null,
            "grid_column": null,
            "grid_gap": null,
            "grid_row": null,
            "grid_template_areas": null,
            "grid_template_columns": null,
            "grid_template_rows": null,
            "height": null,
            "justify_content": null,
            "justify_items": null,
            "left": null,
            "margin": null,
            "max_height": null,
            "max_width": null,
            "min_height": null,
            "min_width": null,
            "object_fit": null,
            "object_position": null,
            "order": null,
            "overflow": null,
            "overflow_x": null,
            "overflow_y": null,
            "padding": null,
            "right": null,
            "top": null,
            "visibility": null,
            "width": null
          }
        },
        "81a918434917428c9d85d44e7cbc26dc": {
          "model_module": "@jupyter-widgets/controls",
          "model_name": "DescriptionStyleModel",
          "model_module_version": "1.5.0",
          "state": {
            "_model_module": "@jupyter-widgets/controls",
            "_model_module_version": "1.5.0",
            "_model_name": "DescriptionStyleModel",
            "_view_count": null,
            "_view_module": "@jupyter-widgets/base",
            "_view_module_version": "1.2.0",
            "_view_name": "StyleView",
            "description_width": ""
          }
        },
        "6ad969db3419414fb2b9c3d383341b43": {
          "model_module": "@jupyter-widgets/controls",
          "model_name": "HBoxModel",
          "model_module_version": "1.5.0",
          "state": {
            "_dom_classes": [],
            "_model_module": "@jupyter-widgets/controls",
            "_model_module_version": "1.5.0",
            "_model_name": "HBoxModel",
            "_view_count": null,
            "_view_module": "@jupyter-widgets/controls",
            "_view_module_version": "1.5.0",
            "_view_name": "HBoxView",
            "box_style": "",
            "children": [
              "IPY_MODEL_b5273ec241524700a668754f5710c781",
              "IPY_MODEL_71db13c6f5984c77aa9e76ace96ea97d",
              "IPY_MODEL_866e52f27c474389a5ce4b531d240ccd"
            ],
            "layout": "IPY_MODEL_423337297eb2413496a06f87b683fd80"
          }
        },
        "b5273ec241524700a668754f5710c781": {
          "model_module": "@jupyter-widgets/controls",
          "model_name": "HTMLModel",
          "model_module_version": "1.5.0",
          "state": {
            "_dom_classes": [],
            "_model_module": "@jupyter-widgets/controls",
            "_model_module_version": "1.5.0",
            "_model_name": "HTMLModel",
            "_view_count": null,
            "_view_module": "@jupyter-widgets/controls",
            "_view_module_version": "1.5.0",
            "_view_name": "HTMLView",
            "description": "",
            "description_tooltip": null,
            "layout": "IPY_MODEL_86ecf927b80b4c09a976b3301a16b330",
            "placeholder": "​",
            "style": "IPY_MODEL_b281988eb6ee4cb58ad9612e4b065e80",
            "value": "model.safetensors: 100%"
          }
        },
        "71db13c6f5984c77aa9e76ace96ea97d": {
          "model_module": "@jupyter-widgets/controls",
          "model_name": "FloatProgressModel",
          "model_module_version": "1.5.0",
          "state": {
            "_dom_classes": [],
            "_model_module": "@jupyter-widgets/controls",
            "_model_module_version": "1.5.0",
            "_model_name": "FloatProgressModel",
            "_view_count": null,
            "_view_module": "@jupyter-widgets/controls",
            "_view_module_version": "1.5.0",
            "_view_name": "ProgressView",
            "bar_style": "success",
            "description": "",
            "description_tooltip": null,
            "layout": "IPY_MODEL_f9b9fbaddd404c7b91753b46c206a3d6",
            "max": 133466304,
            "min": 0,
            "orientation": "horizontal",
            "style": "IPY_MODEL_5b6575f0a57e4a3f9aecc1971f25a0b7",
            "value": 133466304
          }
        },
        "866e52f27c474389a5ce4b531d240ccd": {
          "model_module": "@jupyter-widgets/controls",
          "model_name": "HTMLModel",
          "model_module_version": "1.5.0",
          "state": {
            "_dom_classes": [],
            "_model_module": "@jupyter-widgets/controls",
            "_model_module_version": "1.5.0",
            "_model_name": "HTMLModel",
            "_view_count": null,
            "_view_module": "@jupyter-widgets/controls",
            "_view_module_version": "1.5.0",
            "_view_name": "HTMLView",
            "description": "",
            "description_tooltip": null,
            "layout": "IPY_MODEL_7fa31eb51c1a4b21b48a0a1b563b7bdc",
            "placeholder": "​",
            "style": "IPY_MODEL_9f626e3b97c445088ffc42ef2b6bb339",
            "value": " 133M/133M [00:01&lt;00:00, 126MB/s]"
          }
        },
        "423337297eb2413496a06f87b683fd80": {
          "model_module": "@jupyter-widgets/base",
          "model_name": "LayoutModel",
          "model_module_version": "1.2.0",
          "state": {
            "_model_module": "@jupyter-widgets/base",
            "_model_module_version": "1.2.0",
            "_model_name": "LayoutModel",
            "_view_count": null,
            "_view_module": "@jupyter-widgets/base",
            "_view_module_version": "1.2.0",
            "_view_name": "LayoutView",
            "align_content": null,
            "align_items": null,
            "align_self": null,
            "border": null,
            "bottom": null,
            "display": null,
            "flex": null,
            "flex_flow": null,
            "grid_area": null,
            "grid_auto_columns": null,
            "grid_auto_flow": null,
            "grid_auto_rows": null,
            "grid_column": null,
            "grid_gap": null,
            "grid_row": null,
            "grid_template_areas": null,
            "grid_template_columns": null,
            "grid_template_rows": null,
            "height": null,
            "justify_content": null,
            "justify_items": null,
            "left": null,
            "margin": null,
            "max_height": null,
            "max_width": null,
            "min_height": null,
            "min_width": null,
            "object_fit": null,
            "object_position": null,
            "order": null,
            "overflow": null,
            "overflow_x": null,
            "overflow_y": null,
            "padding": null,
            "right": null,
            "top": null,
            "visibility": null,
            "width": null
          }
        },
        "86ecf927b80b4c09a976b3301a16b330": {
          "model_module": "@jupyter-widgets/base",
          "model_name": "LayoutModel",
          "model_module_version": "1.2.0",
          "state": {
            "_model_module": "@jupyter-widgets/base",
            "_model_module_version": "1.2.0",
            "_model_name": "LayoutModel",
            "_view_count": null,
            "_view_module": "@jupyter-widgets/base",
            "_view_module_version": "1.2.0",
            "_view_name": "LayoutView",
            "align_content": null,
            "align_items": null,
            "align_self": null,
            "border": null,
            "bottom": null,
            "display": null,
            "flex": null,
            "flex_flow": null,
            "grid_area": null,
            "grid_auto_columns": null,
            "grid_auto_flow": null,
            "grid_auto_rows": null,
            "grid_column": null,
            "grid_gap": null,
            "grid_row": null,
            "grid_template_areas": null,
            "grid_template_columns": null,
            "grid_template_rows": null,
            "height": null,
            "justify_content": null,
            "justify_items": null,
            "left": null,
            "margin": null,
            "max_height": null,
            "max_width": null,
            "min_height": null,
            "min_width": null,
            "object_fit": null,
            "object_position": null,
            "order": null,
            "overflow": null,
            "overflow_x": null,
            "overflow_y": null,
            "padding": null,
            "right": null,
            "top": null,
            "visibility": null,
            "width": null
          }
        },
        "b281988eb6ee4cb58ad9612e4b065e80": {
          "model_module": "@jupyter-widgets/controls",
          "model_name": "DescriptionStyleModel",
          "model_module_version": "1.5.0",
          "state": {
            "_model_module": "@jupyter-widgets/controls",
            "_model_module_version": "1.5.0",
            "_model_name": "DescriptionStyleModel",
            "_view_count": null,
            "_view_module": "@jupyter-widgets/base",
            "_view_module_version": "1.2.0",
            "_view_name": "StyleView",
            "description_width": ""
          }
        },
        "f9b9fbaddd404c7b91753b46c206a3d6": {
          "model_module": "@jupyter-widgets/base",
          "model_name": "LayoutModel",
          "model_module_version": "1.2.0",
          "state": {
            "_model_module": "@jupyter-widgets/base",
            "_model_module_version": "1.2.0",
            "_model_name": "LayoutModel",
            "_view_count": null,
            "_view_module": "@jupyter-widgets/base",
            "_view_module_version": "1.2.0",
            "_view_name": "LayoutView",
            "align_content": null,
            "align_items": null,
            "align_self": null,
            "border": null,
            "bottom": null,
            "display": null,
            "flex": null,
            "flex_flow": null,
            "grid_area": null,
            "grid_auto_columns": null,
            "grid_auto_flow": null,
            "grid_auto_rows": null,
            "grid_column": null,
            "grid_gap": null,
            "grid_row": null,
            "grid_template_areas": null,
            "grid_template_columns": null,
            "grid_template_rows": null,
            "height": null,
            "justify_content": null,
            "justify_items": null,
            "left": null,
            "margin": null,
            "max_height": null,
            "max_width": null,
            "min_height": null,
            "min_width": null,
            "object_fit": null,
            "object_position": null,
            "order": null,
            "overflow": null,
            "overflow_x": null,
            "overflow_y": null,
            "padding": null,
            "right": null,
            "top": null,
            "visibility": null,
            "width": null
          }
        },
        "5b6575f0a57e4a3f9aecc1971f25a0b7": {
          "model_module": "@jupyter-widgets/controls",
          "model_name": "ProgressStyleModel",
          "model_module_version": "1.5.0",
          "state": {
            "_model_module": "@jupyter-widgets/controls",
            "_model_module_version": "1.5.0",
            "_model_name": "ProgressStyleModel",
            "_view_count": null,
            "_view_module": "@jupyter-widgets/base",
            "_view_module_version": "1.2.0",
            "_view_name": "StyleView",
            "bar_color": null,
            "description_width": ""
          }
        },
        "7fa31eb51c1a4b21b48a0a1b563b7bdc": {
          "model_module": "@jupyter-widgets/base",
          "model_name": "LayoutModel",
          "model_module_version": "1.2.0",
          "state": {
            "_model_module": "@jupyter-widgets/base",
            "_model_module_version": "1.2.0",
            "_model_name": "LayoutModel",
            "_view_count": null,
            "_view_module": "@jupyter-widgets/base",
            "_view_module_version": "1.2.0",
            "_view_name": "LayoutView",
            "align_content": null,
            "align_items": null,
            "align_self": null,
            "border": null,
            "bottom": null,
            "display": null,
            "flex": null,
            "flex_flow": null,
            "grid_area": null,
            "grid_auto_columns": null,
            "grid_auto_flow": null,
            "grid_auto_rows": null,
            "grid_column": null,
            "grid_gap": null,
            "grid_row": null,
            "grid_template_areas": null,
            "grid_template_columns": null,
            "grid_template_rows": null,
            "height": null,
            "justify_content": null,
            "justify_items": null,
            "left": null,
            "margin": null,
            "max_height": null,
            "max_width": null,
            "min_height": null,
            "min_width": null,
            "object_fit": null,
            "object_position": null,
            "order": null,
            "overflow": null,
            "overflow_x": null,
            "overflow_y": null,
            "padding": null,
            "right": null,
            "top": null,
            "visibility": null,
            "width": null
          }
        },
        "9f626e3b97c445088ffc42ef2b6bb339": {
          "model_module": "@jupyter-widgets/controls",
          "model_name": "DescriptionStyleModel",
          "model_module_version": "1.5.0",
          "state": {
            "_model_module": "@jupyter-widgets/controls",
            "_model_module_version": "1.5.0",
            "_model_name": "DescriptionStyleModel",
            "_view_count": null,
            "_view_module": "@jupyter-widgets/base",
            "_view_module_version": "1.2.0",
            "_view_name": "StyleView",
            "description_width": ""
          }
        },
        "8261ae07fe93405aa25842970cb50119": {
          "model_module": "@jupyter-widgets/controls",
          "model_name": "HBoxModel",
          "model_module_version": "1.5.0",
          "state": {
            "_dom_classes": [],
            "_model_module": "@jupyter-widgets/controls",
            "_model_module_version": "1.5.0",
            "_model_name": "HBoxModel",
            "_view_count": null,
            "_view_module": "@jupyter-widgets/controls",
            "_view_module_version": "1.5.0",
            "_view_name": "HBoxView",
            "box_style": "",
            "children": [
              "IPY_MODEL_db82c3e288f248168be5ccdbc01a2181",
              "IPY_MODEL_d5bcfc2b9fb047d1b58e2cd4ebeeb50d",
              "IPY_MODEL_8253e66eb1064356a0f8ef3bd0c2b6e4"
            ],
            "layout": "IPY_MODEL_cc2a9ea24bf84dc985b3d99257659493"
          }
        },
        "db82c3e288f248168be5ccdbc01a2181": {
          "model_module": "@jupyter-widgets/controls",
          "model_name": "HTMLModel",
          "model_module_version": "1.5.0",
          "state": {
            "_dom_classes": [],
            "_model_module": "@jupyter-widgets/controls",
            "_model_module_version": "1.5.0",
            "_model_name": "HTMLModel",
            "_view_count": null,
            "_view_module": "@jupyter-widgets/controls",
            "_view_module_version": "1.5.0",
            "_view_name": "HTMLView",
            "description": "",
            "description_tooltip": null,
            "layout": "IPY_MODEL_86d0668f4266480186b259e4b52dc3e4",
            "placeholder": "​",
            "style": "IPY_MODEL_52aacf1e461148379dd281eec284a26e",
            "value": "tokenizer_config.json: 100%"
          }
        },
        "d5bcfc2b9fb047d1b58e2cd4ebeeb50d": {
          "model_module": "@jupyter-widgets/controls",
          "model_name": "FloatProgressModel",
          "model_module_version": "1.5.0",
          "state": {
            "_dom_classes": [],
            "_model_module": "@jupyter-widgets/controls",
            "_model_module_version": "1.5.0",
            "_model_name": "FloatProgressModel",
            "_view_count": null,
            "_view_module": "@jupyter-widgets/controls",
            "_view_module_version": "1.5.0",
            "_view_name": "ProgressView",
            "bar_style": "success",
            "description": "",
            "description_tooltip": null,
            "layout": "IPY_MODEL_7edd4dee0dfc4ff7a168b293921bb4f8",
            "max": 366,
            "min": 0,
            "orientation": "horizontal",
            "style": "IPY_MODEL_dac2baa8b1b6492e941a4139401dc93a",
            "value": 366
          }
        },
        "8253e66eb1064356a0f8ef3bd0c2b6e4": {
          "model_module": "@jupyter-widgets/controls",
          "model_name": "HTMLModel",
          "model_module_version": "1.5.0",
          "state": {
            "_dom_classes": [],
            "_model_module": "@jupyter-widgets/controls",
            "_model_module_version": "1.5.0",
            "_model_name": "HTMLModel",
            "_view_count": null,
            "_view_module": "@jupyter-widgets/controls",
            "_view_module_version": "1.5.0",
            "_view_name": "HTMLView",
            "description": "",
            "description_tooltip": null,
            "layout": "IPY_MODEL_51c1f3ae60984efdae648761c5504678",
            "placeholder": "​",
            "style": "IPY_MODEL_7140edc84e6147a393b6744ef5a8c869",
            "value": " 366/366 [00:00&lt;00:00, 6.44kB/s]"
          }
        },
        "cc2a9ea24bf84dc985b3d99257659493": {
          "model_module": "@jupyter-widgets/base",
          "model_name": "LayoutModel",
          "model_module_version": "1.2.0",
          "state": {
            "_model_module": "@jupyter-widgets/base",
            "_model_module_version": "1.2.0",
            "_model_name": "LayoutModel",
            "_view_count": null,
            "_view_module": "@jupyter-widgets/base",
            "_view_module_version": "1.2.0",
            "_view_name": "LayoutView",
            "align_content": null,
            "align_items": null,
            "align_self": null,
            "border": null,
            "bottom": null,
            "display": null,
            "flex": null,
            "flex_flow": null,
            "grid_area": null,
            "grid_auto_columns": null,
            "grid_auto_flow": null,
            "grid_auto_rows": null,
            "grid_column": null,
            "grid_gap": null,
            "grid_row": null,
            "grid_template_areas": null,
            "grid_template_columns": null,
            "grid_template_rows": null,
            "height": null,
            "justify_content": null,
            "justify_items": null,
            "left": null,
            "margin": null,
            "max_height": null,
            "max_width": null,
            "min_height": null,
            "min_width": null,
            "object_fit": null,
            "object_position": null,
            "order": null,
            "overflow": null,
            "overflow_x": null,
            "overflow_y": null,
            "padding": null,
            "right": null,
            "top": null,
            "visibility": null,
            "width": null
          }
        },
        "86d0668f4266480186b259e4b52dc3e4": {
          "model_module": "@jupyter-widgets/base",
          "model_name": "LayoutModel",
          "model_module_version": "1.2.0",
          "state": {
            "_model_module": "@jupyter-widgets/base",
            "_model_module_version": "1.2.0",
            "_model_name": "LayoutModel",
            "_view_count": null,
            "_view_module": "@jupyter-widgets/base",
            "_view_module_version": "1.2.0",
            "_view_name": "LayoutView",
            "align_content": null,
            "align_items": null,
            "align_self": null,
            "border": null,
            "bottom": null,
            "display": null,
            "flex": null,
            "flex_flow": null,
            "grid_area": null,
            "grid_auto_columns": null,
            "grid_auto_flow": null,
            "grid_auto_rows": null,
            "grid_column": null,
            "grid_gap": null,
            "grid_row": null,
            "grid_template_areas": null,
            "grid_template_columns": null,
            "grid_template_rows": null,
            "height": null,
            "justify_content": null,
            "justify_items": null,
            "left": null,
            "margin": null,
            "max_height": null,
            "max_width": null,
            "min_height": null,
            "min_width": null,
            "object_fit": null,
            "object_position": null,
            "order": null,
            "overflow": null,
            "overflow_x": null,
            "overflow_y": null,
            "padding": null,
            "right": null,
            "top": null,
            "visibility": null,
            "width": null
          }
        },
        "52aacf1e461148379dd281eec284a26e": {
          "model_module": "@jupyter-widgets/controls",
          "model_name": "DescriptionStyleModel",
          "model_module_version": "1.5.0",
          "state": {
            "_model_module": "@jupyter-widgets/controls",
            "_model_module_version": "1.5.0",
            "_model_name": "DescriptionStyleModel",
            "_view_count": null,
            "_view_module": "@jupyter-widgets/base",
            "_view_module_version": "1.2.0",
            "_view_name": "StyleView",
            "description_width": ""
          }
        },
        "7edd4dee0dfc4ff7a168b293921bb4f8": {
          "model_module": "@jupyter-widgets/base",
          "model_name": "LayoutModel",
          "model_module_version": "1.2.0",
          "state": {
            "_model_module": "@jupyter-widgets/base",
            "_model_module_version": "1.2.0",
            "_model_name": "LayoutModel",
            "_view_count": null,
            "_view_module": "@jupyter-widgets/base",
            "_view_module_version": "1.2.0",
            "_view_name": "LayoutView",
            "align_content": null,
            "align_items": null,
            "align_self": null,
            "border": null,
            "bottom": null,
            "display": null,
            "flex": null,
            "flex_flow": null,
            "grid_area": null,
            "grid_auto_columns": null,
            "grid_auto_flow": null,
            "grid_auto_rows": null,
            "grid_column": null,
            "grid_gap": null,
            "grid_row": null,
            "grid_template_areas": null,
            "grid_template_columns": null,
            "grid_template_rows": null,
            "height": null,
            "justify_content": null,
            "justify_items": null,
            "left": null,
            "margin": null,
            "max_height": null,
            "max_width": null,
            "min_height": null,
            "min_width": null,
            "object_fit": null,
            "object_position": null,
            "order": null,
            "overflow": null,
            "overflow_x": null,
            "overflow_y": null,
            "padding": null,
            "right": null,
            "top": null,
            "visibility": null,
            "width": null
          }
        },
        "dac2baa8b1b6492e941a4139401dc93a": {
          "model_module": "@jupyter-widgets/controls",
          "model_name": "ProgressStyleModel",
          "model_module_version": "1.5.0",
          "state": {
            "_model_module": "@jupyter-widgets/controls",
            "_model_module_version": "1.5.0",
            "_model_name": "ProgressStyleModel",
            "_view_count": null,
            "_view_module": "@jupyter-widgets/base",
            "_view_module_version": "1.2.0",
            "_view_name": "StyleView",
            "bar_color": null,
            "description_width": ""
          }
        },
        "51c1f3ae60984efdae648761c5504678": {
          "model_module": "@jupyter-widgets/base",
          "model_name": "LayoutModel",
          "model_module_version": "1.2.0",
          "state": {
            "_model_module": "@jupyter-widgets/base",
            "_model_module_version": "1.2.0",
            "_model_name": "LayoutModel",
            "_view_count": null,
            "_view_module": "@jupyter-widgets/base",
            "_view_module_version": "1.2.0",
            "_view_name": "LayoutView",
            "align_content": null,
            "align_items": null,
            "align_self": null,
            "border": null,
            "bottom": null,
            "display": null,
            "flex": null,
            "flex_flow": null,
            "grid_area": null,
            "grid_auto_columns": null,
            "grid_auto_flow": null,
            "grid_auto_rows": null,
            "grid_column": null,
            "grid_gap": null,
            "grid_row": null,
            "grid_template_areas": null,
            "grid_template_columns": null,
            "grid_template_rows": null,
            "height": null,
            "justify_content": null,
            "justify_items": null,
            "left": null,
            "margin": null,
            "max_height": null,
            "max_width": null,
            "min_height": null,
            "min_width": null,
            "object_fit": null,
            "object_position": null,
            "order": null,
            "overflow": null,
            "overflow_x": null,
            "overflow_y": null,
            "padding": null,
            "right": null,
            "top": null,
            "visibility": null,
            "width": null
          }
        },
        "7140edc84e6147a393b6744ef5a8c869": {
          "model_module": "@jupyter-widgets/controls",
          "model_name": "DescriptionStyleModel",
          "model_module_version": "1.5.0",
          "state": {
            "_model_module": "@jupyter-widgets/controls",
            "_model_module_version": "1.5.0",
            "_model_name": "DescriptionStyleModel",
            "_view_count": null,
            "_view_module": "@jupyter-widgets/base",
            "_view_module_version": "1.2.0",
            "_view_name": "StyleView",
            "description_width": ""
          }
        },
        "a278cc3e05a940ed827a57d7aec26bc6": {
          "model_module": "@jupyter-widgets/controls",
          "model_name": "HBoxModel",
          "model_module_version": "1.5.0",
          "state": {
            "_dom_classes": [],
            "_model_module": "@jupyter-widgets/controls",
            "_model_module_version": "1.5.0",
            "_model_name": "HBoxModel",
            "_view_count": null,
            "_view_module": "@jupyter-widgets/controls",
            "_view_module_version": "1.5.0",
            "_view_name": "HBoxView",
            "box_style": "",
            "children": [
              "IPY_MODEL_285187f43be24b1087b42dcba624432d",
              "IPY_MODEL_2662e5cb270547c69042d4bd619aade3",
              "IPY_MODEL_d6370136f7d144cfb61ce3848d500d72"
            ],
            "layout": "IPY_MODEL_aa62867201184876b98a204ee1382679"
          }
        },
        "285187f43be24b1087b42dcba624432d": {
          "model_module": "@jupyter-widgets/controls",
          "model_name": "HTMLModel",
          "model_module_version": "1.5.0",
          "state": {
            "_dom_classes": [],
            "_model_module": "@jupyter-widgets/controls",
            "_model_module_version": "1.5.0",
            "_model_name": "HTMLModel",
            "_view_count": null,
            "_view_module": "@jupyter-widgets/controls",
            "_view_module_version": "1.5.0",
            "_view_name": "HTMLView",
            "description": "",
            "description_tooltip": null,
            "layout": "IPY_MODEL_6752f1ad0d2d47ef8b513e4445c98b89",
            "placeholder": "​",
            "style": "IPY_MODEL_c119ae28665a413c85e266e4b037da4b",
            "value": "vocab.txt: 100%"
          }
        },
        "2662e5cb270547c69042d4bd619aade3": {
          "model_module": "@jupyter-widgets/controls",
          "model_name": "FloatProgressModel",
          "model_module_version": "1.5.0",
          "state": {
            "_dom_classes": [],
            "_model_module": "@jupyter-widgets/controls",
            "_model_module_version": "1.5.0",
            "_model_name": "FloatProgressModel",
            "_view_count": null,
            "_view_module": "@jupyter-widgets/controls",
            "_view_module_version": "1.5.0",
            "_view_name": "ProgressView",
            "bar_style": "success",
            "description": "",
            "description_tooltip": null,
            "layout": "IPY_MODEL_0bd85534012347258500f83c1dc74989",
            "max": 231508,
            "min": 0,
            "orientation": "horizontal",
            "style": "IPY_MODEL_a49d07181c6a461dab3497be14590ad0",
            "value": 231508
          }
        },
        "d6370136f7d144cfb61ce3848d500d72": {
          "model_module": "@jupyter-widgets/controls",
          "model_name": "HTMLModel",
          "model_module_version": "1.5.0",
          "state": {
            "_dom_classes": [],
            "_model_module": "@jupyter-widgets/controls",
            "_model_module_version": "1.5.0",
            "_model_name": "HTMLModel",
            "_view_count": null,
            "_view_module": "@jupyter-widgets/controls",
            "_view_module_version": "1.5.0",
            "_view_name": "HTMLView",
            "description": "",
            "description_tooltip": null,
            "layout": "IPY_MODEL_1c5e229af4eb4c1ebcad257b4fa123a7",
            "placeholder": "​",
            "style": "IPY_MODEL_0260d650b60c426abe45cdc20709314b",
            "value": " 232k/232k [00:00&lt;00:00, 6.04MB/s]"
          }
        },
        "aa62867201184876b98a204ee1382679": {
          "model_module": "@jupyter-widgets/base",
          "model_name": "LayoutModel",
          "model_module_version": "1.2.0",
          "state": {
            "_model_module": "@jupyter-widgets/base",
            "_model_module_version": "1.2.0",
            "_model_name": "LayoutModel",
            "_view_count": null,
            "_view_module": "@jupyter-widgets/base",
            "_view_module_version": "1.2.0",
            "_view_name": "LayoutView",
            "align_content": null,
            "align_items": null,
            "align_self": null,
            "border": null,
            "bottom": null,
            "display": null,
            "flex": null,
            "flex_flow": null,
            "grid_area": null,
            "grid_auto_columns": null,
            "grid_auto_flow": null,
            "grid_auto_rows": null,
            "grid_column": null,
            "grid_gap": null,
            "grid_row": null,
            "grid_template_areas": null,
            "grid_template_columns": null,
            "grid_template_rows": null,
            "height": null,
            "justify_content": null,
            "justify_items": null,
            "left": null,
            "margin": null,
            "max_height": null,
            "max_width": null,
            "min_height": null,
            "min_width": null,
            "object_fit": null,
            "object_position": null,
            "order": null,
            "overflow": null,
            "overflow_x": null,
            "overflow_y": null,
            "padding": null,
            "right": null,
            "top": null,
            "visibility": null,
            "width": null
          }
        },
        "6752f1ad0d2d47ef8b513e4445c98b89": {
          "model_module": "@jupyter-widgets/base",
          "model_name": "LayoutModel",
          "model_module_version": "1.2.0",
          "state": {
            "_model_module": "@jupyter-widgets/base",
            "_model_module_version": "1.2.0",
            "_model_name": "LayoutModel",
            "_view_count": null,
            "_view_module": "@jupyter-widgets/base",
            "_view_module_version": "1.2.0",
            "_view_name": "LayoutView",
            "align_content": null,
            "align_items": null,
            "align_self": null,
            "border": null,
            "bottom": null,
            "display": null,
            "flex": null,
            "flex_flow": null,
            "grid_area": null,
            "grid_auto_columns": null,
            "grid_auto_flow": null,
            "grid_auto_rows": null,
            "grid_column": null,
            "grid_gap": null,
            "grid_row": null,
            "grid_template_areas": null,
            "grid_template_columns": null,
            "grid_template_rows": null,
            "height": null,
            "justify_content": null,
            "justify_items": null,
            "left": null,
            "margin": null,
            "max_height": null,
            "max_width": null,
            "min_height": null,
            "min_width": null,
            "object_fit": null,
            "object_position": null,
            "order": null,
            "overflow": null,
            "overflow_x": null,
            "overflow_y": null,
            "padding": null,
            "right": null,
            "top": null,
            "visibility": null,
            "width": null
          }
        },
        "c119ae28665a413c85e266e4b037da4b": {
          "model_module": "@jupyter-widgets/controls",
          "model_name": "DescriptionStyleModel",
          "model_module_version": "1.5.0",
          "state": {
            "_model_module": "@jupyter-widgets/controls",
            "_model_module_version": "1.5.0",
            "_model_name": "DescriptionStyleModel",
            "_view_count": null,
            "_view_module": "@jupyter-widgets/base",
            "_view_module_version": "1.2.0",
            "_view_name": "StyleView",
            "description_width": ""
          }
        },
        "0bd85534012347258500f83c1dc74989": {
          "model_module": "@jupyter-widgets/base",
          "model_name": "LayoutModel",
          "model_module_version": "1.2.0",
          "state": {
            "_model_module": "@jupyter-widgets/base",
            "_model_module_version": "1.2.0",
            "_model_name": "LayoutModel",
            "_view_count": null,
            "_view_module": "@jupyter-widgets/base",
            "_view_module_version": "1.2.0",
            "_view_name": "LayoutView",
            "align_content": null,
            "align_items": null,
            "align_self": null,
            "border": null,
            "bottom": null,
            "display": null,
            "flex": null,
            "flex_flow": null,
            "grid_area": null,
            "grid_auto_columns": null,
            "grid_auto_flow": null,
            "grid_auto_rows": null,
            "grid_column": null,
            "grid_gap": null,
            "grid_row": null,
            "grid_template_areas": null,
            "grid_template_columns": null,
            "grid_template_rows": null,
            "height": null,
            "justify_content": null,
            "justify_items": null,
            "left": null,
            "margin": null,
            "max_height": null,
            "max_width": null,
            "min_height": null,
            "min_width": null,
            "object_fit": null,
            "object_position": null,
            "order": null,
            "overflow": null,
            "overflow_x": null,
            "overflow_y": null,
            "padding": null,
            "right": null,
            "top": null,
            "visibility": null,
            "width": null
          }
        },
        "a49d07181c6a461dab3497be14590ad0": {
          "model_module": "@jupyter-widgets/controls",
          "model_name": "ProgressStyleModel",
          "model_module_version": "1.5.0",
          "state": {
            "_model_module": "@jupyter-widgets/controls",
            "_model_module_version": "1.5.0",
            "_model_name": "ProgressStyleModel",
            "_view_count": null,
            "_view_module": "@jupyter-widgets/base",
            "_view_module_version": "1.2.0",
            "_view_name": "StyleView",
            "bar_color": null,
            "description_width": ""
          }
        },
        "1c5e229af4eb4c1ebcad257b4fa123a7": {
          "model_module": "@jupyter-widgets/base",
          "model_name": "LayoutModel",
          "model_module_version": "1.2.0",
          "state": {
            "_model_module": "@jupyter-widgets/base",
            "_model_module_version": "1.2.0",
            "_model_name": "LayoutModel",
            "_view_count": null,
            "_view_module": "@jupyter-widgets/base",
            "_view_module_version": "1.2.0",
            "_view_name": "LayoutView",
            "align_content": null,
            "align_items": null,
            "align_self": null,
            "border": null,
            "bottom": null,
            "display": null,
            "flex": null,
            "flex_flow": null,
            "grid_area": null,
            "grid_auto_columns": null,
            "grid_auto_flow": null,
            "grid_auto_rows": null,
            "grid_column": null,
            "grid_gap": null,
            "grid_row": null,
            "grid_template_areas": null,
            "grid_template_columns": null,
            "grid_template_rows": null,
            "height": null,
            "justify_content": null,
            "justify_items": null,
            "left": null,
            "margin": null,
            "max_height": null,
            "max_width": null,
            "min_height": null,
            "min_width": null,
            "object_fit": null,
            "object_position": null,
            "order": null,
            "overflow": null,
            "overflow_x": null,
            "overflow_y": null,
            "padding": null,
            "right": null,
            "top": null,
            "visibility": null,
            "width": null
          }
        },
        "0260d650b60c426abe45cdc20709314b": {
          "model_module": "@jupyter-widgets/controls",
          "model_name": "DescriptionStyleModel",
          "model_module_version": "1.5.0",
          "state": {
            "_model_module": "@jupyter-widgets/controls",
            "_model_module_version": "1.5.0",
            "_model_name": "DescriptionStyleModel",
            "_view_count": null,
            "_view_module": "@jupyter-widgets/base",
            "_view_module_version": "1.2.0",
            "_view_name": "StyleView",
            "description_width": ""
          }
        },
        "121086bb6b7a475b94f4c18304ea17cd": {
          "model_module": "@jupyter-widgets/controls",
          "model_name": "HBoxModel",
          "model_module_version": "1.5.0",
          "state": {
            "_dom_classes": [],
            "_model_module": "@jupyter-widgets/controls",
            "_model_module_version": "1.5.0",
            "_model_name": "HBoxModel",
            "_view_count": null,
            "_view_module": "@jupyter-widgets/controls",
            "_view_module_version": "1.5.0",
            "_view_name": "HBoxView",
            "box_style": "",
            "children": [
              "IPY_MODEL_36375d02c3ab411cbe3259e1441a0c30",
              "IPY_MODEL_62409e4595b74808b507ad3eb98f9b5b",
              "IPY_MODEL_dc8c2af5b8674bdaa6db5d82db8bbaa6"
            ],
            "layout": "IPY_MODEL_8f4f4cdaa323471bb4c16858a77da414"
          }
        },
        "36375d02c3ab411cbe3259e1441a0c30": {
          "model_module": "@jupyter-widgets/controls",
          "model_name": "HTMLModel",
          "model_module_version": "1.5.0",
          "state": {
            "_dom_classes": [],
            "_model_module": "@jupyter-widgets/controls",
            "_model_module_version": "1.5.0",
            "_model_name": "HTMLModel",
            "_view_count": null,
            "_view_module": "@jupyter-widgets/controls",
            "_view_module_version": "1.5.0",
            "_view_name": "HTMLView",
            "description": "",
            "description_tooltip": null,
            "layout": "IPY_MODEL_99f33d7433d84049a8b827ee3f89124f",
            "placeholder": "​",
            "style": "IPY_MODEL_49e74279d73f405d8c5a36a18854fa8d",
            "value": "tokenizer.json: 100%"
          }
        },
        "62409e4595b74808b507ad3eb98f9b5b": {
          "model_module": "@jupyter-widgets/controls",
          "model_name": "FloatProgressModel",
          "model_module_version": "1.5.0",
          "state": {
            "_dom_classes": [],
            "_model_module": "@jupyter-widgets/controls",
            "_model_module_version": "1.5.0",
            "_model_name": "FloatProgressModel",
            "_view_count": null,
            "_view_module": "@jupyter-widgets/controls",
            "_view_module_version": "1.5.0",
            "_view_name": "ProgressView",
            "bar_style": "success",
            "description": "",
            "description_tooltip": null,
            "layout": "IPY_MODEL_83f933b2dd7f4f3d87572ac5d0860821",
            "max": 711396,
            "min": 0,
            "orientation": "horizontal",
            "style": "IPY_MODEL_9e239b031d854ba3a1f52298f9290ca2",
            "value": 711396
          }
        },
        "dc8c2af5b8674bdaa6db5d82db8bbaa6": {
          "model_module": "@jupyter-widgets/controls",
          "model_name": "HTMLModel",
          "model_module_version": "1.5.0",
          "state": {
            "_dom_classes": [],
            "_model_module": "@jupyter-widgets/controls",
            "_model_module_version": "1.5.0",
            "_model_name": "HTMLModel",
            "_view_count": null,
            "_view_module": "@jupyter-widgets/controls",
            "_view_module_version": "1.5.0",
            "_view_name": "HTMLView",
            "description": "",
            "description_tooltip": null,
            "layout": "IPY_MODEL_0662255f2ab043d3b819067e8fe2f77a",
            "placeholder": "​",
            "style": "IPY_MODEL_959353aafe364aa391fa341bc94eda8d",
            "value": " 711k/711k [00:00&lt;00:00, 2.52MB/s]"
          }
        },
        "8f4f4cdaa323471bb4c16858a77da414": {
          "model_module": "@jupyter-widgets/base",
          "model_name": "LayoutModel",
          "model_module_version": "1.2.0",
          "state": {
            "_model_module": "@jupyter-widgets/base",
            "_model_module_version": "1.2.0",
            "_model_name": "LayoutModel",
            "_view_count": null,
            "_view_module": "@jupyter-widgets/base",
            "_view_module_version": "1.2.0",
            "_view_name": "LayoutView",
            "align_content": null,
            "align_items": null,
            "align_self": null,
            "border": null,
            "bottom": null,
            "display": null,
            "flex": null,
            "flex_flow": null,
            "grid_area": null,
            "grid_auto_columns": null,
            "grid_auto_flow": null,
            "grid_auto_rows": null,
            "grid_column": null,
            "grid_gap": null,
            "grid_row": null,
            "grid_template_areas": null,
            "grid_template_columns": null,
            "grid_template_rows": null,
            "height": null,
            "justify_content": null,
            "justify_items": null,
            "left": null,
            "margin": null,
            "max_height": null,
            "max_width": null,
            "min_height": null,
            "min_width": null,
            "object_fit": null,
            "object_position": null,
            "order": null,
            "overflow": null,
            "overflow_x": null,
            "overflow_y": null,
            "padding": null,
            "right": null,
            "top": null,
            "visibility": null,
            "width": null
          }
        },
        "99f33d7433d84049a8b827ee3f89124f": {
          "model_module": "@jupyter-widgets/base",
          "model_name": "LayoutModel",
          "model_module_version": "1.2.0",
          "state": {
            "_model_module": "@jupyter-widgets/base",
            "_model_module_version": "1.2.0",
            "_model_name": "LayoutModel",
            "_view_count": null,
            "_view_module": "@jupyter-widgets/base",
            "_view_module_version": "1.2.0",
            "_view_name": "LayoutView",
            "align_content": null,
            "align_items": null,
            "align_self": null,
            "border": null,
            "bottom": null,
            "display": null,
            "flex": null,
            "flex_flow": null,
            "grid_area": null,
            "grid_auto_columns": null,
            "grid_auto_flow": null,
            "grid_auto_rows": null,
            "grid_column": null,
            "grid_gap": null,
            "grid_row": null,
            "grid_template_areas": null,
            "grid_template_columns": null,
            "grid_template_rows": null,
            "height": null,
            "justify_content": null,
            "justify_items": null,
            "left": null,
            "margin": null,
            "max_height": null,
            "max_width": null,
            "min_height": null,
            "min_width": null,
            "object_fit": null,
            "object_position": null,
            "order": null,
            "overflow": null,
            "overflow_x": null,
            "overflow_y": null,
            "padding": null,
            "right": null,
            "top": null,
            "visibility": null,
            "width": null
          }
        },
        "49e74279d73f405d8c5a36a18854fa8d": {
          "model_module": "@jupyter-widgets/controls",
          "model_name": "DescriptionStyleModel",
          "model_module_version": "1.5.0",
          "state": {
            "_model_module": "@jupyter-widgets/controls",
            "_model_module_version": "1.5.0",
            "_model_name": "DescriptionStyleModel",
            "_view_count": null,
            "_view_module": "@jupyter-widgets/base",
            "_view_module_version": "1.2.0",
            "_view_name": "StyleView",
            "description_width": ""
          }
        },
        "83f933b2dd7f4f3d87572ac5d0860821": {
          "model_module": "@jupyter-widgets/base",
          "model_name": "LayoutModel",
          "model_module_version": "1.2.0",
          "state": {
            "_model_module": "@jupyter-widgets/base",
            "_model_module_version": "1.2.0",
            "_model_name": "LayoutModel",
            "_view_count": null,
            "_view_module": "@jupyter-widgets/base",
            "_view_module_version": "1.2.0",
            "_view_name": "LayoutView",
            "align_content": null,
            "align_items": null,
            "align_self": null,
            "border": null,
            "bottom": null,
            "display": null,
            "flex": null,
            "flex_flow": null,
            "grid_area": null,
            "grid_auto_columns": null,
            "grid_auto_flow": null,
            "grid_auto_rows": null,
            "grid_column": null,
            "grid_gap": null,
            "grid_row": null,
            "grid_template_areas": null,
            "grid_template_columns": null,
            "grid_template_rows": null,
            "height": null,
            "justify_content": null,
            "justify_items": null,
            "left": null,
            "margin": null,
            "max_height": null,
            "max_width": null,
            "min_height": null,
            "min_width": null,
            "object_fit": null,
            "object_position": null,
            "order": null,
            "overflow": null,
            "overflow_x": null,
            "overflow_y": null,
            "padding": null,
            "right": null,
            "top": null,
            "visibility": null,
            "width": null
          }
        },
        "9e239b031d854ba3a1f52298f9290ca2": {
          "model_module": "@jupyter-widgets/controls",
          "model_name": "ProgressStyleModel",
          "model_module_version": "1.5.0",
          "state": {
            "_model_module": "@jupyter-widgets/controls",
            "_model_module_version": "1.5.0",
            "_model_name": "ProgressStyleModel",
            "_view_count": null,
            "_view_module": "@jupyter-widgets/base",
            "_view_module_version": "1.2.0",
            "_view_name": "StyleView",
            "bar_color": null,
            "description_width": ""
          }
        },
        "0662255f2ab043d3b819067e8fe2f77a": {
          "model_module": "@jupyter-widgets/base",
          "model_name": "LayoutModel",
          "model_module_version": "1.2.0",
          "state": {
            "_model_module": "@jupyter-widgets/base",
            "_model_module_version": "1.2.0",
            "_model_name": "LayoutModel",
            "_view_count": null,
            "_view_module": "@jupyter-widgets/base",
            "_view_module_version": "1.2.0",
            "_view_name": "LayoutView",
            "align_content": null,
            "align_items": null,
            "align_self": null,
            "border": null,
            "bottom": null,
            "display": null,
            "flex": null,
            "flex_flow": null,
            "grid_area": null,
            "grid_auto_columns": null,
            "grid_auto_flow": null,
            "grid_auto_rows": null,
            "grid_column": null,
            "grid_gap": null,
            "grid_row": null,
            "grid_template_areas": null,
            "grid_template_columns": null,
            "grid_template_rows": null,
            "height": null,
            "justify_content": null,
            "justify_items": null,
            "left": null,
            "margin": null,
            "max_height": null,
            "max_width": null,
            "min_height": null,
            "min_width": null,
            "object_fit": null,
            "object_position": null,
            "order": null,
            "overflow": null,
            "overflow_x": null,
            "overflow_y": null,
            "padding": null,
            "right": null,
            "top": null,
            "visibility": null,
            "width": null
          }
        },
        "959353aafe364aa391fa341bc94eda8d": {
          "model_module": "@jupyter-widgets/controls",
          "model_name": "DescriptionStyleModel",
          "model_module_version": "1.5.0",
          "state": {
            "_model_module": "@jupyter-widgets/controls",
            "_model_module_version": "1.5.0",
            "_model_name": "DescriptionStyleModel",
            "_view_count": null,
            "_view_module": "@jupyter-widgets/base",
            "_view_module_version": "1.2.0",
            "_view_name": "StyleView",
            "description_width": ""
          }
        },
        "cacb2cc8e2014742a0d3672a70a10537": {
          "model_module": "@jupyter-widgets/controls",
          "model_name": "HBoxModel",
          "model_module_version": "1.5.0",
          "state": {
            "_dom_classes": [],
            "_model_module": "@jupyter-widgets/controls",
            "_model_module_version": "1.5.0",
            "_model_name": "HBoxModel",
            "_view_count": null,
            "_view_module": "@jupyter-widgets/controls",
            "_view_module_version": "1.5.0",
            "_view_name": "HBoxView",
            "box_style": "",
            "children": [
              "IPY_MODEL_70cafcfae18e42dca02c6a316adeb28a",
              "IPY_MODEL_8bbb996c409b4ae28671408907f8807e",
              "IPY_MODEL_904418556f284383b4b4064518e3a900"
            ],
            "layout": "IPY_MODEL_a2927a9f26a74ea198cc8e4ac37a66ee"
          }
        },
        "70cafcfae18e42dca02c6a316adeb28a": {
          "model_module": "@jupyter-widgets/controls",
          "model_name": "HTMLModel",
          "model_module_version": "1.5.0",
          "state": {
            "_dom_classes": [],
            "_model_module": "@jupyter-widgets/controls",
            "_model_module_version": "1.5.0",
            "_model_name": "HTMLModel",
            "_view_count": null,
            "_view_module": "@jupyter-widgets/controls",
            "_view_module_version": "1.5.0",
            "_view_name": "HTMLView",
            "description": "",
            "description_tooltip": null,
            "layout": "IPY_MODEL_7a6f2b06629f4b68a528afda56fde109",
            "placeholder": "​",
            "style": "IPY_MODEL_2dbc94c809954d018d94e4bb16f433a4",
            "value": "special_tokens_map.json: 100%"
          }
        },
        "8bbb996c409b4ae28671408907f8807e": {
          "model_module": "@jupyter-widgets/controls",
          "model_name": "FloatProgressModel",
          "model_module_version": "1.5.0",
          "state": {
            "_dom_classes": [],
            "_model_module": "@jupyter-widgets/controls",
            "_model_module_version": "1.5.0",
            "_model_name": "FloatProgressModel",
            "_view_count": null,
            "_view_module": "@jupyter-widgets/controls",
            "_view_module_version": "1.5.0",
            "_view_name": "ProgressView",
            "bar_style": "success",
            "description": "",
            "description_tooltip": null,
            "layout": "IPY_MODEL_3827a1ad952544eb8dee41648e5ee74f",
            "max": 125,
            "min": 0,
            "orientation": "horizontal",
            "style": "IPY_MODEL_5f19df13d36d4ab5b2839b604cd803b1",
            "value": 125
          }
        },
        "904418556f284383b4b4064518e3a900": {
          "model_module": "@jupyter-widgets/controls",
          "model_name": "HTMLModel",
          "model_module_version": "1.5.0",
          "state": {
            "_dom_classes": [],
            "_model_module": "@jupyter-widgets/controls",
            "_model_module_version": "1.5.0",
            "_model_name": "HTMLModel",
            "_view_count": null,
            "_view_module": "@jupyter-widgets/controls",
            "_view_module_version": "1.5.0",
            "_view_name": "HTMLView",
            "description": "",
            "description_tooltip": null,
            "layout": "IPY_MODEL_484d2fc17d6e4028b100ce0c97a4641c",
            "placeholder": "​",
            "style": "IPY_MODEL_706a07bf193147cdae61d47291c22f8f",
            "value": " 125/125 [00:00&lt;00:00, 6.27kB/s]"
          }
        },
        "a2927a9f26a74ea198cc8e4ac37a66ee": {
          "model_module": "@jupyter-widgets/base",
          "model_name": "LayoutModel",
          "model_module_version": "1.2.0",
          "state": {
            "_model_module": "@jupyter-widgets/base",
            "_model_module_version": "1.2.0",
            "_model_name": "LayoutModel",
            "_view_count": null,
            "_view_module": "@jupyter-widgets/base",
            "_view_module_version": "1.2.0",
            "_view_name": "LayoutView",
            "align_content": null,
            "align_items": null,
            "align_self": null,
            "border": null,
            "bottom": null,
            "display": null,
            "flex": null,
            "flex_flow": null,
            "grid_area": null,
            "grid_auto_columns": null,
            "grid_auto_flow": null,
            "grid_auto_rows": null,
            "grid_column": null,
            "grid_gap": null,
            "grid_row": null,
            "grid_template_areas": null,
            "grid_template_columns": null,
            "grid_template_rows": null,
            "height": null,
            "justify_content": null,
            "justify_items": null,
            "left": null,
            "margin": null,
            "max_height": null,
            "max_width": null,
            "min_height": null,
            "min_width": null,
            "object_fit": null,
            "object_position": null,
            "order": null,
            "overflow": null,
            "overflow_x": null,
            "overflow_y": null,
            "padding": null,
            "right": null,
            "top": null,
            "visibility": null,
            "width": null
          }
        },
        "7a6f2b06629f4b68a528afda56fde109": {
          "model_module": "@jupyter-widgets/base",
          "model_name": "LayoutModel",
          "model_module_version": "1.2.0",
          "state": {
            "_model_module": "@jupyter-widgets/base",
            "_model_module_version": "1.2.0",
            "_model_name": "LayoutModel",
            "_view_count": null,
            "_view_module": "@jupyter-widgets/base",
            "_view_module_version": "1.2.0",
            "_view_name": "LayoutView",
            "align_content": null,
            "align_items": null,
            "align_self": null,
            "border": null,
            "bottom": null,
            "display": null,
            "flex": null,
            "flex_flow": null,
            "grid_area": null,
            "grid_auto_columns": null,
            "grid_auto_flow": null,
            "grid_auto_rows": null,
            "grid_column": null,
            "grid_gap": null,
            "grid_row": null,
            "grid_template_areas": null,
            "grid_template_columns": null,
            "grid_template_rows": null,
            "height": null,
            "justify_content": null,
            "justify_items": null,
            "left": null,
            "margin": null,
            "max_height": null,
            "max_width": null,
            "min_height": null,
            "min_width": null,
            "object_fit": null,
            "object_position": null,
            "order": null,
            "overflow": null,
            "overflow_x": null,
            "overflow_y": null,
            "padding": null,
            "right": null,
            "top": null,
            "visibility": null,
            "width": null
          }
        },
        "2dbc94c809954d018d94e4bb16f433a4": {
          "model_module": "@jupyter-widgets/controls",
          "model_name": "DescriptionStyleModel",
          "model_module_version": "1.5.0",
          "state": {
            "_model_module": "@jupyter-widgets/controls",
            "_model_module_version": "1.5.0",
            "_model_name": "DescriptionStyleModel",
            "_view_count": null,
            "_view_module": "@jupyter-widgets/base",
            "_view_module_version": "1.2.0",
            "_view_name": "StyleView",
            "description_width": ""
          }
        },
        "3827a1ad952544eb8dee41648e5ee74f": {
          "model_module": "@jupyter-widgets/base",
          "model_name": "LayoutModel",
          "model_module_version": "1.2.0",
          "state": {
            "_model_module": "@jupyter-widgets/base",
            "_model_module_version": "1.2.0",
            "_model_name": "LayoutModel",
            "_view_count": null,
            "_view_module": "@jupyter-widgets/base",
            "_view_module_version": "1.2.0",
            "_view_name": "LayoutView",
            "align_content": null,
            "align_items": null,
            "align_self": null,
            "border": null,
            "bottom": null,
            "display": null,
            "flex": null,
            "flex_flow": null,
            "grid_area": null,
            "grid_auto_columns": null,
            "grid_auto_flow": null,
            "grid_auto_rows": null,
            "grid_column": null,
            "grid_gap": null,
            "grid_row": null,
            "grid_template_areas": null,
            "grid_template_columns": null,
            "grid_template_rows": null,
            "height": null,
            "justify_content": null,
            "justify_items": null,
            "left": null,
            "margin": null,
            "max_height": null,
            "max_width": null,
            "min_height": null,
            "min_width": null,
            "object_fit": null,
            "object_position": null,
            "order": null,
            "overflow": null,
            "overflow_x": null,
            "overflow_y": null,
            "padding": null,
            "right": null,
            "top": null,
            "visibility": null,
            "width": null
          }
        },
        "5f19df13d36d4ab5b2839b604cd803b1": {
          "model_module": "@jupyter-widgets/controls",
          "model_name": "ProgressStyleModel",
          "model_module_version": "1.5.0",
          "state": {
            "_model_module": "@jupyter-widgets/controls",
            "_model_module_version": "1.5.0",
            "_model_name": "ProgressStyleModel",
            "_view_count": null,
            "_view_module": "@jupyter-widgets/base",
            "_view_module_version": "1.2.0",
            "_view_name": "StyleView",
            "bar_color": null,
            "description_width": ""
          }
        },
        "484d2fc17d6e4028b100ce0c97a4641c": {
          "model_module": "@jupyter-widgets/base",
          "model_name": "LayoutModel",
          "model_module_version": "1.2.0",
          "state": {
            "_model_module": "@jupyter-widgets/base",
            "_model_module_version": "1.2.0",
            "_model_name": "LayoutModel",
            "_view_count": null,
            "_view_module": "@jupyter-widgets/base",
            "_view_module_version": "1.2.0",
            "_view_name": "LayoutView",
            "align_content": null,
            "align_items": null,
            "align_self": null,
            "border": null,
            "bottom": null,
            "display": null,
            "flex": null,
            "flex_flow": null,
            "grid_area": null,
            "grid_auto_columns": null,
            "grid_auto_flow": null,
            "grid_auto_rows": null,
            "grid_column": null,
            "grid_gap": null,
            "grid_row": null,
            "grid_template_areas": null,
            "grid_template_columns": null,
            "grid_template_rows": null,
            "height": null,
            "justify_content": null,
            "justify_items": null,
            "left": null,
            "margin": null,
            "max_height": null,
            "max_width": null,
            "min_height": null,
            "min_width": null,
            "object_fit": null,
            "object_position": null,
            "order": null,
            "overflow": null,
            "overflow_x": null,
            "overflow_y": null,
            "padding": null,
            "right": null,
            "top": null,
            "visibility": null,
            "width": null
          }
        },
        "706a07bf193147cdae61d47291c22f8f": {
          "model_module": "@jupyter-widgets/controls",
          "model_name": "DescriptionStyleModel",
          "model_module_version": "1.5.0",
          "state": {
            "_model_module": "@jupyter-widgets/controls",
            "_model_module_version": "1.5.0",
            "_model_name": "DescriptionStyleModel",
            "_view_count": null,
            "_view_module": "@jupyter-widgets/base",
            "_view_module_version": "1.2.0",
            "_view_name": "StyleView",
            "description_width": ""
          }
        },
        "3464859f14734a12b6ab4fa5fe316744": {
          "model_module": "@jupyter-widgets/controls",
          "model_name": "HBoxModel",
          "model_module_version": "1.5.0",
          "state": {
            "_dom_classes": [],
            "_model_module": "@jupyter-widgets/controls",
            "_model_module_version": "1.5.0",
            "_model_name": "HBoxModel",
            "_view_count": null,
            "_view_module": "@jupyter-widgets/controls",
            "_view_module_version": "1.5.0",
            "_view_name": "HBoxView",
            "box_style": "",
            "children": [
              "IPY_MODEL_5f5c7a1530934374b2214b5fb9757df4",
              "IPY_MODEL_1fd1d3e9a0284732be575614736e335e",
              "IPY_MODEL_cd07b7fd54c9456b9f65720f7180997b"
            ],
            "layout": "IPY_MODEL_892a4400653040e98333831f68051f47"
          }
        },
        "5f5c7a1530934374b2214b5fb9757df4": {
          "model_module": "@jupyter-widgets/controls",
          "model_name": "HTMLModel",
          "model_module_version": "1.5.0",
          "state": {
            "_dom_classes": [],
            "_model_module": "@jupyter-widgets/controls",
            "_model_module_version": "1.5.0",
            "_model_name": "HTMLModel",
            "_view_count": null,
            "_view_module": "@jupyter-widgets/controls",
            "_view_module_version": "1.5.0",
            "_view_name": "HTMLView",
            "description": "",
            "description_tooltip": null,
            "layout": "IPY_MODEL_fabd849c883340edb8b6772b4154f172",
            "placeholder": "​",
            "style": "IPY_MODEL_bcfa4826826d4581883c55053b72bcb3",
            "value": "1_Pooling/config.json: 100%"
          }
        },
        "1fd1d3e9a0284732be575614736e335e": {
          "model_module": "@jupyter-widgets/controls",
          "model_name": "FloatProgressModel",
          "model_module_version": "1.5.0",
          "state": {
            "_dom_classes": [],
            "_model_module": "@jupyter-widgets/controls",
            "_model_module_version": "1.5.0",
            "_model_name": "FloatProgressModel",
            "_view_count": null,
            "_view_module": "@jupyter-widgets/controls",
            "_view_module_version": "1.5.0",
            "_view_name": "ProgressView",
            "bar_style": "success",
            "description": "",
            "description_tooltip": null,
            "layout": "IPY_MODEL_9ef7a6a52de14cdaa552b6ea2784ab8a",
            "max": 190,
            "min": 0,
            "orientation": "horizontal",
            "style": "IPY_MODEL_7a138b58216c489c94bca6bf4ebf6f4c",
            "value": 190
          }
        },
        "cd07b7fd54c9456b9f65720f7180997b": {
          "model_module": "@jupyter-widgets/controls",
          "model_name": "HTMLModel",
          "model_module_version": "1.5.0",
          "state": {
            "_dom_classes": [],
            "_model_module": "@jupyter-widgets/controls",
            "_model_module_version": "1.5.0",
            "_model_name": "HTMLModel",
            "_view_count": null,
            "_view_module": "@jupyter-widgets/controls",
            "_view_module_version": "1.5.0",
            "_view_name": "HTMLView",
            "description": "",
            "description_tooltip": null,
            "layout": "IPY_MODEL_a51a676c9d644743822fcba508f211c4",
            "placeholder": "​",
            "style": "IPY_MODEL_3329b8e80a884b00a57244c1c0adfb08",
            "value": " 190/190 [00:00&lt;00:00, 12.3kB/s]"
          }
        },
        "892a4400653040e98333831f68051f47": {
          "model_module": "@jupyter-widgets/base",
          "model_name": "LayoutModel",
          "model_module_version": "1.2.0",
          "state": {
            "_model_module": "@jupyter-widgets/base",
            "_model_module_version": "1.2.0",
            "_model_name": "LayoutModel",
            "_view_count": null,
            "_view_module": "@jupyter-widgets/base",
            "_view_module_version": "1.2.0",
            "_view_name": "LayoutView",
            "align_content": null,
            "align_items": null,
            "align_self": null,
            "border": null,
            "bottom": null,
            "display": null,
            "flex": null,
            "flex_flow": null,
            "grid_area": null,
            "grid_auto_columns": null,
            "grid_auto_flow": null,
            "grid_auto_rows": null,
            "grid_column": null,
            "grid_gap": null,
            "grid_row": null,
            "grid_template_areas": null,
            "grid_template_columns": null,
            "grid_template_rows": null,
            "height": null,
            "justify_content": null,
            "justify_items": null,
            "left": null,
            "margin": null,
            "max_height": null,
            "max_width": null,
            "min_height": null,
            "min_width": null,
            "object_fit": null,
            "object_position": null,
            "order": null,
            "overflow": null,
            "overflow_x": null,
            "overflow_y": null,
            "padding": null,
            "right": null,
            "top": null,
            "visibility": null,
            "width": null
          }
        },
        "fabd849c883340edb8b6772b4154f172": {
          "model_module": "@jupyter-widgets/base",
          "model_name": "LayoutModel",
          "model_module_version": "1.2.0",
          "state": {
            "_model_module": "@jupyter-widgets/base",
            "_model_module_version": "1.2.0",
            "_model_name": "LayoutModel",
            "_view_count": null,
            "_view_module": "@jupyter-widgets/base",
            "_view_module_version": "1.2.0",
            "_view_name": "LayoutView",
            "align_content": null,
            "align_items": null,
            "align_self": null,
            "border": null,
            "bottom": null,
            "display": null,
            "flex": null,
            "flex_flow": null,
            "grid_area": null,
            "grid_auto_columns": null,
            "grid_auto_flow": null,
            "grid_auto_rows": null,
            "grid_column": null,
            "grid_gap": null,
            "grid_row": null,
            "grid_template_areas": null,
            "grid_template_columns": null,
            "grid_template_rows": null,
            "height": null,
            "justify_content": null,
            "justify_items": null,
            "left": null,
            "margin": null,
            "max_height": null,
            "max_width": null,
            "min_height": null,
            "min_width": null,
            "object_fit": null,
            "object_position": null,
            "order": null,
            "overflow": null,
            "overflow_x": null,
            "overflow_y": null,
            "padding": null,
            "right": null,
            "top": null,
            "visibility": null,
            "width": null
          }
        },
        "bcfa4826826d4581883c55053b72bcb3": {
          "model_module": "@jupyter-widgets/controls",
          "model_name": "DescriptionStyleModel",
          "model_module_version": "1.5.0",
          "state": {
            "_model_module": "@jupyter-widgets/controls",
            "_model_module_version": "1.5.0",
            "_model_name": "DescriptionStyleModel",
            "_view_count": null,
            "_view_module": "@jupyter-widgets/base",
            "_view_module_version": "1.2.0",
            "_view_name": "StyleView",
            "description_width": ""
          }
        },
        "9ef7a6a52de14cdaa552b6ea2784ab8a": {
          "model_module": "@jupyter-widgets/base",
          "model_name": "LayoutModel",
          "model_module_version": "1.2.0",
          "state": {
            "_model_module": "@jupyter-widgets/base",
            "_model_module_version": "1.2.0",
            "_model_name": "LayoutModel",
            "_view_count": null,
            "_view_module": "@jupyter-widgets/base",
            "_view_module_version": "1.2.0",
            "_view_name": "LayoutView",
            "align_content": null,
            "align_items": null,
            "align_self": null,
            "border": null,
            "bottom": null,
            "display": null,
            "flex": null,
            "flex_flow": null,
            "grid_area": null,
            "grid_auto_columns": null,
            "grid_auto_flow": null,
            "grid_auto_rows": null,
            "grid_column": null,
            "grid_gap": null,
            "grid_row": null,
            "grid_template_areas": null,
            "grid_template_columns": null,
            "grid_template_rows": null,
            "height": null,
            "justify_content": null,
            "justify_items": null,
            "left": null,
            "margin": null,
            "max_height": null,
            "max_width": null,
            "min_height": null,
            "min_width": null,
            "object_fit": null,
            "object_position": null,
            "order": null,
            "overflow": null,
            "overflow_x": null,
            "overflow_y": null,
            "padding": null,
            "right": null,
            "top": null,
            "visibility": null,
            "width": null
          }
        },
        "7a138b58216c489c94bca6bf4ebf6f4c": {
          "model_module": "@jupyter-widgets/controls",
          "model_name": "ProgressStyleModel",
          "model_module_version": "1.5.0",
          "state": {
            "_model_module": "@jupyter-widgets/controls",
            "_model_module_version": "1.5.0",
            "_model_name": "ProgressStyleModel",
            "_view_count": null,
            "_view_module": "@jupyter-widgets/base",
            "_view_module_version": "1.2.0",
            "_view_name": "StyleView",
            "bar_color": null,
            "description_width": ""
          }
        },
        "a51a676c9d644743822fcba508f211c4": {
          "model_module": "@jupyter-widgets/base",
          "model_name": "LayoutModel",
          "model_module_version": "1.2.0",
          "state": {
            "_model_module": "@jupyter-widgets/base",
            "_model_module_version": "1.2.0",
            "_model_name": "LayoutModel",
            "_view_count": null,
            "_view_module": "@jupyter-widgets/base",
            "_view_module_version": "1.2.0",
            "_view_name": "LayoutView",
            "align_content": null,
            "align_items": null,
            "align_self": null,
            "border": null,
            "bottom": null,
            "display": null,
            "flex": null,
            "flex_flow": null,
            "grid_area": null,
            "grid_auto_columns": null,
            "grid_auto_flow": null,
            "grid_auto_rows": null,
            "grid_column": null,
            "grid_gap": null,
            "grid_row": null,
            "grid_template_areas": null,
            "grid_template_columns": null,
            "grid_template_rows": null,
            "height": null,
            "justify_content": null,
            "justify_items": null,
            "left": null,
            "margin": null,
            "max_height": null,
            "max_width": null,
            "min_height": null,
            "min_width": null,
            "object_fit": null,
            "object_position": null,
            "order": null,
            "overflow": null,
            "overflow_x": null,
            "overflow_y": null,
            "padding": null,
            "right": null,
            "top": null,
            "visibility": null,
            "width": null
          }
        },
        "3329b8e80a884b00a57244c1c0adfb08": {
          "model_module": "@jupyter-widgets/controls",
          "model_name": "DescriptionStyleModel",
          "model_module_version": "1.5.0",
          "state": {
            "_model_module": "@jupyter-widgets/controls",
            "_model_module_version": "1.5.0",
            "_model_name": "DescriptionStyleModel",
            "_view_count": null,
            "_view_module": "@jupyter-widgets/base",
            "_view_module_version": "1.2.0",
            "_view_name": "StyleView",
            "description_width": ""
          }
        }
      }
    }
  },
  "cells": [
    {
      "cell_type": "markdown",
      "source": [
        "**GO-ETHEREUM TOPIC ANALYSIS ABOUT SUSTAINABILITY, OPTIMIZATION, GAS AND ENERGY CONSUMPTION**\n",
        "\n"
      ],
      "metadata": {
        "id": "WbyxPhamHojo"
      }
    },
    {
      "cell_type": "code",
      "source": [
        "pip install bertopic"
      ],
      "metadata": {
        "colab": {
          "base_uri": "https://localhost:8080/"
        },
        "id": "8SbWeTxVBwTM",
        "outputId": "29a4cb5b-d884-4149-feef-6c83a94c5f64"
      },
      "execution_count": null,
      "outputs": [
        {
          "output_type": "stream",
          "name": "stdout",
          "text": [
            "Collecting bertopic\n",
            "  Downloading bertopic-0.16.0-py2.py3-none-any.whl (154 kB)\n",
            "\u001b[2K     \u001b[90m━━━━━━━━━━━━━━━━━━━━━━━━━━━━━━━━━━━━━━━━\u001b[0m \u001b[32m154.1/154.1 kB\u001b[0m \u001b[31m3.4 MB/s\u001b[0m eta \u001b[36m0:00:00\u001b[0m\n",
            "\u001b[?25hRequirement already satisfied: numpy>=1.20.0 in /usr/local/lib/python3.10/dist-packages (from bertopic) (1.25.2)\n",
            "Collecting hdbscan>=0.8.29 (from bertopic)\n",
            "  Downloading hdbscan-0.8.33.tar.gz (5.2 MB)\n",
            "\u001b[2K     \u001b[90m━━━━━━━━━━━━━━━━━━━━━━━━━━━━━━━━━━━━━━━━\u001b[0m \u001b[32m5.2/5.2 MB\u001b[0m \u001b[31m28.5 MB/s\u001b[0m eta \u001b[36m0:00:00\u001b[0m\n",
            "\u001b[?25h  Installing build dependencies ... \u001b[?25l\u001b[?25hdone\n",
            "  Getting requirements to build wheel ... \u001b[?25l\u001b[?25hdone\n",
            "  Preparing metadata (pyproject.toml) ... \u001b[?25l\u001b[?25hdone\n",
            "Collecting umap-learn>=0.5.0 (from bertopic)\n",
            "  Downloading umap_learn-0.5.6-py3-none-any.whl (85 kB)\n",
            "\u001b[2K     \u001b[90m━━━━━━━━━━━━━━━━━━━━━━━━━━━━━━━━━━━━━━━━\u001b[0m \u001b[32m85.7/85.7 kB\u001b[0m \u001b[31m9.6 MB/s\u001b[0m eta \u001b[36m0:00:00\u001b[0m\n",
            "\u001b[?25hRequirement already satisfied: pandas>=1.1.5 in /usr/local/lib/python3.10/dist-packages (from bertopic) (2.0.3)\n",
            "Requirement already satisfied: scikit-learn>=0.22.2.post1 in /usr/local/lib/python3.10/dist-packages (from bertopic) (1.2.2)\n",
            "Requirement already satisfied: tqdm>=4.41.1 in /usr/local/lib/python3.10/dist-packages (from bertopic) (4.66.2)\n",
            "Collecting sentence-transformers>=0.4.1 (from bertopic)\n",
            "  Downloading sentence_transformers-2.6.1-py3-none-any.whl (163 kB)\n",
            "\u001b[2K     \u001b[90m━━━━━━━━━━━━━━━━━━━━━━━━━━━━━━━━━━━━━━━━\u001b[0m \u001b[32m163.3/163.3 kB\u001b[0m \u001b[31m14.5 MB/s\u001b[0m eta \u001b[36m0:00:00\u001b[0m\n",
            "\u001b[?25hRequirement already satisfied: plotly>=4.7.0 in /usr/local/lib/python3.10/dist-packages (from bertopic) (5.15.0)\n",
            "Collecting cython<3,>=0.27 (from hdbscan>=0.8.29->bertopic)\n",
            "  Using cached Cython-0.29.37-cp310-cp310-manylinux_2_17_x86_64.manylinux2014_x86_64.manylinux_2_24_x86_64.whl (1.9 MB)\n",
            "Requirement already satisfied: scipy>=1.0 in /usr/local/lib/python3.10/dist-packages (from hdbscan>=0.8.29->bertopic) (1.11.4)\n",
            "Requirement already satisfied: joblib>=1.0 in /usr/local/lib/python3.10/dist-packages (from hdbscan>=0.8.29->bertopic) (1.3.2)\n",
            "Requirement already satisfied: python-dateutil>=2.8.2 in /usr/local/lib/python3.10/dist-packages (from pandas>=1.1.5->bertopic) (2.8.2)\n",
            "Requirement already satisfied: pytz>=2020.1 in /usr/local/lib/python3.10/dist-packages (from pandas>=1.1.5->bertopic) (2023.4)\n",
            "Requirement already satisfied: tzdata>=2022.1 in /usr/local/lib/python3.10/dist-packages (from pandas>=1.1.5->bertopic) (2024.1)\n",
            "Requirement already satisfied: tenacity>=6.2.0 in /usr/local/lib/python3.10/dist-packages (from plotly>=4.7.0->bertopic) (8.2.3)\n",
            "Requirement already satisfied: packaging in /usr/local/lib/python3.10/dist-packages (from plotly>=4.7.0->bertopic) (24.0)\n",
            "Requirement already satisfied: threadpoolctl>=2.0.0 in /usr/local/lib/python3.10/dist-packages (from scikit-learn>=0.22.2.post1->bertopic) (3.4.0)\n",
            "Requirement already satisfied: transformers<5.0.0,>=4.32.0 in /usr/local/lib/python3.10/dist-packages (from sentence-transformers>=0.4.1->bertopic) (4.38.2)\n",
            "Requirement already satisfied: torch>=1.11.0 in /usr/local/lib/python3.10/dist-packages (from sentence-transformers>=0.4.1->bertopic) (2.2.1+cu121)\n",
            "Requirement already satisfied: huggingface-hub>=0.15.1 in /usr/local/lib/python3.10/dist-packages (from sentence-transformers>=0.4.1->bertopic) (0.20.3)\n",
            "Requirement already satisfied: Pillow in /usr/local/lib/python3.10/dist-packages (from sentence-transformers>=0.4.1->bertopic) (9.4.0)\n",
            "Requirement already satisfied: numba>=0.51.2 in /usr/local/lib/python3.10/dist-packages (from umap-learn>=0.5.0->bertopic) (0.58.1)\n",
            "Collecting pynndescent>=0.5 (from umap-learn>=0.5.0->bertopic)\n",
            "  Downloading pynndescent-0.5.12-py3-none-any.whl (56 kB)\n",
            "\u001b[2K     \u001b[90m━━━━━━━━━━━━━━━━━━━━━━━━━━━━━━━━━━━━━━━━\u001b[0m \u001b[32m56.8/56.8 kB\u001b[0m \u001b[31m6.2 MB/s\u001b[0m eta \u001b[36m0:00:00\u001b[0m\n",
            "\u001b[?25hRequirement already satisfied: filelock in /usr/local/lib/python3.10/dist-packages (from huggingface-hub>=0.15.1->sentence-transformers>=0.4.1->bertopic) (3.13.3)\n",
            "Requirement already satisfied: fsspec>=2023.5.0 in /usr/local/lib/python3.10/dist-packages (from huggingface-hub>=0.15.1->sentence-transformers>=0.4.1->bertopic) (2023.6.0)\n",
            "Requirement already satisfied: requests in /usr/local/lib/python3.10/dist-packages (from huggingface-hub>=0.15.1->sentence-transformers>=0.4.1->bertopic) (2.31.0)\n",
            "Requirement already satisfied: pyyaml>=5.1 in /usr/local/lib/python3.10/dist-packages (from huggingface-hub>=0.15.1->sentence-transformers>=0.4.1->bertopic) (6.0.1)\n",
            "Requirement already satisfied: typing-extensions>=3.7.4.3 in /usr/local/lib/python3.10/dist-packages (from huggingface-hub>=0.15.1->sentence-transformers>=0.4.1->bertopic) (4.10.0)\n",
            "Requirement already satisfied: llvmlite<0.42,>=0.41.0dev0 in /usr/local/lib/python3.10/dist-packages (from numba>=0.51.2->umap-learn>=0.5.0->bertopic) (0.41.1)\n",
            "Requirement already satisfied: six>=1.5 in /usr/local/lib/python3.10/dist-packages (from python-dateutil>=2.8.2->pandas>=1.1.5->bertopic) (1.16.0)\n",
            "Requirement already satisfied: sympy in /usr/local/lib/python3.10/dist-packages (from torch>=1.11.0->sentence-transformers>=0.4.1->bertopic) (1.12)\n",
            "Requirement already satisfied: networkx in /usr/local/lib/python3.10/dist-packages (from torch>=1.11.0->sentence-transformers>=0.4.1->bertopic) (3.2.1)\n",
            "Requirement already satisfied: jinja2 in /usr/local/lib/python3.10/dist-packages (from torch>=1.11.0->sentence-transformers>=0.4.1->bertopic) (3.1.3)\n",
            "Collecting nvidia-cuda-nvrtc-cu12==12.1.105 (from torch>=1.11.0->sentence-transformers>=0.4.1->bertopic)\n",
            "  Downloading nvidia_cuda_nvrtc_cu12-12.1.105-py3-none-manylinux1_x86_64.whl (23.7 MB)\n",
            "\u001b[2K     \u001b[90m━━━━━━━━━━━━━━━━━━━━━━━━━━━━━━━━━━━━━━━━\u001b[0m \u001b[32m23.7/23.7 MB\u001b[0m \u001b[31m12.8 MB/s\u001b[0m eta \u001b[36m0:00:00\u001b[0m\n",
            "\u001b[?25hCollecting nvidia-cuda-runtime-cu12==12.1.105 (from torch>=1.11.0->sentence-transformers>=0.4.1->bertopic)\n",
            "  Downloading nvidia_cuda_runtime_cu12-12.1.105-py3-none-manylinux1_x86_64.whl (823 kB)\n",
            "\u001b[2K     \u001b[90m━━━━━━━━━━━━━━━━━━━━━━━━━━━━━━━━━━━━━━━━\u001b[0m \u001b[32m823.6/823.6 kB\u001b[0m \u001b[31m48.9 MB/s\u001b[0m eta \u001b[36m0:00:00\u001b[0m\n",
            "\u001b[?25hCollecting nvidia-cuda-cupti-cu12==12.1.105 (from torch>=1.11.0->sentence-transformers>=0.4.1->bertopic)\n",
            "  Downloading nvidia_cuda_cupti_cu12-12.1.105-py3-none-manylinux1_x86_64.whl (14.1 MB)\n",
            "\u001b[2K     \u001b[90m━━━━━━━━━━━━━━━━━━━━━━━━━━━━━━━━━━━━━━━━\u001b[0m \u001b[32m14.1/14.1 MB\u001b[0m \u001b[31m69.7 MB/s\u001b[0m eta \u001b[36m0:00:00\u001b[0m\n",
            "\u001b[?25hCollecting nvidia-cudnn-cu12==8.9.2.26 (from torch>=1.11.0->sentence-transformers>=0.4.1->bertopic)\n",
            "  Downloading nvidia_cudnn_cu12-8.9.2.26-py3-none-manylinux1_x86_64.whl (731.7 MB)\n",
            "\u001b[2K     \u001b[90m━━━━━━━━━━━━━━━━━━━━━━━━━━━━━━━━━━━━━━━━\u001b[0m \u001b[32m731.7/731.7 MB\u001b[0m \u001b[31m998.3 kB/s\u001b[0m eta \u001b[36m0:00:00\u001b[0m\n",
            "\u001b[?25hCollecting nvidia-cublas-cu12==12.1.3.1 (from torch>=1.11.0->sentence-transformers>=0.4.1->bertopic)\n",
            "  Downloading nvidia_cublas_cu12-12.1.3.1-py3-none-manylinux1_x86_64.whl (410.6 MB)\n",
            "\u001b[2K     \u001b[90m━━━━━━━━━━━━━━━━━━━━━━━━━━━━━━━━━━━━━━━━\u001b[0m \u001b[32m410.6/410.6 MB\u001b[0m \u001b[31m2.2 MB/s\u001b[0m eta \u001b[36m0:00:00\u001b[0m\n",
            "\u001b[?25hCollecting nvidia-cufft-cu12==11.0.2.54 (from torch>=1.11.0->sentence-transformers>=0.4.1->bertopic)\n",
            "  Downloading nvidia_cufft_cu12-11.0.2.54-py3-none-manylinux1_x86_64.whl (121.6 MB)\n",
            "\u001b[2K     \u001b[90m━━━━━━━━━━━━━━━━━━━━━━━━━━━━━━━━━━━━━━━━\u001b[0m \u001b[32m121.6/121.6 MB\u001b[0m \u001b[31m6.5 MB/s\u001b[0m eta \u001b[36m0:00:00\u001b[0m\n",
            "\u001b[?25hCollecting nvidia-curand-cu12==10.3.2.106 (from torch>=1.11.0->sentence-transformers>=0.4.1->bertopic)\n",
            "  Downloading nvidia_curand_cu12-10.3.2.106-py3-none-manylinux1_x86_64.whl (56.5 MB)\n",
            "\u001b[2K     \u001b[90m━━━━━━━━━━━━━━━━━━━━━━━━━━━━━━━━━━━━━━━━\u001b[0m \u001b[32m56.5/56.5 MB\u001b[0m \u001b[31m8.2 MB/s\u001b[0m eta \u001b[36m0:00:00\u001b[0m\n",
            "\u001b[?25hCollecting nvidia-cusolver-cu12==11.4.5.107 (from torch>=1.11.0->sentence-transformers>=0.4.1->bertopic)\n",
            "  Downloading nvidia_cusolver_cu12-11.4.5.107-py3-none-manylinux1_x86_64.whl (124.2 MB)\n",
            "\u001b[2K     \u001b[90m━━━━━━━━━━━━━━━━━━━━━━━━━━━━━━━━━━━━━━━━\u001b[0m \u001b[32m124.2/124.2 MB\u001b[0m \u001b[31m2.9 MB/s\u001b[0m eta \u001b[36m0:00:00\u001b[0m\n",
            "\u001b[?25hCollecting nvidia-cusparse-cu12==12.1.0.106 (from torch>=1.11.0->sentence-transformers>=0.4.1->bertopic)\n",
            "  Downloading nvidia_cusparse_cu12-12.1.0.106-py3-none-manylinux1_x86_64.whl (196.0 MB)\n",
            "\u001b[2K     \u001b[90m━━━━━━━━━━━━━━━━━━━━━━━━━━━━━━━━━━━━━━━━\u001b[0m \u001b[32m196.0/196.0 MB\u001b[0m \u001b[31m3.1 MB/s\u001b[0m eta \u001b[36m0:00:00\u001b[0m\n",
            "\u001b[?25hCollecting nvidia-nccl-cu12==2.19.3 (from torch>=1.11.0->sentence-transformers>=0.4.1->bertopic)\n",
            "  Downloading nvidia_nccl_cu12-2.19.3-py3-none-manylinux1_x86_64.whl (166.0 MB)\n",
            "\u001b[2K     \u001b[90m━━━━━━━━━━━━━━━━━━━━━━━━━━━━━━━━━━━━━━━━\u001b[0m \u001b[32m166.0/166.0 MB\u001b[0m \u001b[31m2.3 MB/s\u001b[0m eta \u001b[36m0:00:00\u001b[0m\n",
            "\u001b[?25hCollecting nvidia-nvtx-cu12==12.1.105 (from torch>=1.11.0->sentence-transformers>=0.4.1->bertopic)\n",
            "  Downloading nvidia_nvtx_cu12-12.1.105-py3-none-manylinux1_x86_64.whl (99 kB)\n",
            "\u001b[2K     \u001b[90m━━━━━━━━━━━━━━━━━━━━━━━━━━━━━━━━━━━━━━━━\u001b[0m \u001b[32m99.1/99.1 kB\u001b[0m \u001b[31m11.2 MB/s\u001b[0m eta \u001b[36m0:00:00\u001b[0m\n",
            "\u001b[?25hRequirement already satisfied: triton==2.2.0 in /usr/local/lib/python3.10/dist-packages (from torch>=1.11.0->sentence-transformers>=0.4.1->bertopic) (2.2.0)\n",
            "Collecting nvidia-nvjitlink-cu12 (from nvidia-cusolver-cu12==11.4.5.107->torch>=1.11.0->sentence-transformers>=0.4.1->bertopic)\n",
            "  Downloading nvidia_nvjitlink_cu12-12.4.127-py3-none-manylinux2014_x86_64.whl (21.1 MB)\n",
            "\u001b[2K     \u001b[90m━━━━━━━━━━━━━━━━━━━━━━━━━━━━━━━━━━━━━━━━\u001b[0m \u001b[32m21.1/21.1 MB\u001b[0m \u001b[31m61.8 MB/s\u001b[0m eta \u001b[36m0:00:00\u001b[0m\n",
            "\u001b[?25hRequirement already satisfied: regex!=2019.12.17 in /usr/local/lib/python3.10/dist-packages (from transformers<5.0.0,>=4.32.0->sentence-transformers>=0.4.1->bertopic) (2023.12.25)\n",
            "Requirement already satisfied: tokenizers<0.19,>=0.14 in /usr/local/lib/python3.10/dist-packages (from transformers<5.0.0,>=4.32.0->sentence-transformers>=0.4.1->bertopic) (0.15.2)\n",
            "Requirement already satisfied: safetensors>=0.4.1 in /usr/local/lib/python3.10/dist-packages (from transformers<5.0.0,>=4.32.0->sentence-transformers>=0.4.1->bertopic) (0.4.2)\n",
            "Requirement already satisfied: MarkupSafe>=2.0 in /usr/local/lib/python3.10/dist-packages (from jinja2->torch>=1.11.0->sentence-transformers>=0.4.1->bertopic) (2.1.5)\n",
            "Requirement already satisfied: charset-normalizer<4,>=2 in /usr/local/lib/python3.10/dist-packages (from requests->huggingface-hub>=0.15.1->sentence-transformers>=0.4.1->bertopic) (3.3.2)\n",
            "Requirement already satisfied: idna<4,>=2.5 in /usr/local/lib/python3.10/dist-packages (from requests->huggingface-hub>=0.15.1->sentence-transformers>=0.4.1->bertopic) (3.6)\n",
            "Requirement already satisfied: urllib3<3,>=1.21.1 in /usr/local/lib/python3.10/dist-packages (from requests->huggingface-hub>=0.15.1->sentence-transformers>=0.4.1->bertopic) (2.0.7)\n",
            "Requirement already satisfied: certifi>=2017.4.17 in /usr/local/lib/python3.10/dist-packages (from requests->huggingface-hub>=0.15.1->sentence-transformers>=0.4.1->bertopic) (2024.2.2)\n",
            "Requirement already satisfied: mpmath>=0.19 in /usr/local/lib/python3.10/dist-packages (from sympy->torch>=1.11.0->sentence-transformers>=0.4.1->bertopic) (1.3.0)\n",
            "Building wheels for collected packages: hdbscan\n",
            "  Building wheel for hdbscan (pyproject.toml) ... \u001b[?25l\u001b[?25hdone\n",
            "  Created wheel for hdbscan: filename=hdbscan-0.8.33-cp310-cp310-linux_x86_64.whl size=3039292 sha256=c89e7faa06a0e97d881fc426e29f1f50d2a1ca23aa078addf12aeb7addfbc567\n",
            "  Stored in directory: /root/.cache/pip/wheels/75/0b/3b/dc4f60b7cc455efaefb62883a7483e76f09d06ca81cf87d610\n",
            "Successfully built hdbscan\n",
            "Installing collected packages: nvidia-nvtx-cu12, nvidia-nvjitlink-cu12, nvidia-nccl-cu12, nvidia-curand-cu12, nvidia-cufft-cu12, nvidia-cuda-runtime-cu12, nvidia-cuda-nvrtc-cu12, nvidia-cuda-cupti-cu12, nvidia-cublas-cu12, cython, nvidia-cusparse-cu12, nvidia-cudnn-cu12, pynndescent, nvidia-cusolver-cu12, hdbscan, umap-learn, sentence-transformers, bertopic\n",
            "  Attempting uninstall: cython\n",
            "    Found existing installation: Cython 3.0.10\n",
            "    Uninstalling Cython-3.0.10:\n",
            "      Successfully uninstalled Cython-3.0.10\n",
            "Successfully installed bertopic-0.16.0 cython-0.29.37 hdbscan-0.8.33 nvidia-cublas-cu12-12.1.3.1 nvidia-cuda-cupti-cu12-12.1.105 nvidia-cuda-nvrtc-cu12-12.1.105 nvidia-cuda-runtime-cu12-12.1.105 nvidia-cudnn-cu12-8.9.2.26 nvidia-cufft-cu12-11.0.2.54 nvidia-curand-cu12-10.3.2.106 nvidia-cusolver-cu12-11.4.5.107 nvidia-cusparse-cu12-12.1.0.106 nvidia-nccl-cu12-2.19.3 nvidia-nvjitlink-cu12-12.4.127 nvidia-nvtx-cu12-12.1.105 pynndescent-0.5.12 sentence-transformers-2.6.1 umap-learn-0.5.6\n"
          ]
        }
      ]
    },
    {
      "cell_type": "code",
      "source": [
        "pip install keybert"
      ],
      "metadata": {
        "colab": {
          "base_uri": "https://localhost:8080/"
        },
        "id": "NL898JX_BzhW",
        "outputId": "c47026b8-237c-44c9-cec8-d38cdb40a28f"
      },
      "execution_count": null,
      "outputs": [
        {
          "output_type": "stream",
          "name": "stdout",
          "text": [
            "Collecting keybert\n",
            "  Downloading keybert-0.8.4.tar.gz (29 kB)\n",
            "  Preparing metadata (setup.py) ... \u001b[?25l\u001b[?25hdone\n",
            "Requirement already satisfied: sentence-transformers>=0.3.8 in /usr/local/lib/python3.10/dist-packages (from keybert) (2.6.1)\n",
            "Requirement already satisfied: scikit-learn>=0.22.2 in /usr/local/lib/python3.10/dist-packages (from keybert) (1.2.2)\n",
            "Requirement already satisfied: numpy>=1.18.5 in /usr/local/lib/python3.10/dist-packages (from keybert) (1.25.2)\n",
            "Requirement already satisfied: rich>=10.4.0 in /usr/local/lib/python3.10/dist-packages (from keybert) (13.7.1)\n",
            "Requirement already satisfied: markdown-it-py>=2.2.0 in /usr/local/lib/python3.10/dist-packages (from rich>=10.4.0->keybert) (3.0.0)\n",
            "Requirement already satisfied: pygments<3.0.0,>=2.13.0 in /usr/local/lib/python3.10/dist-packages (from rich>=10.4.0->keybert) (2.16.1)\n",
            "Requirement already satisfied: scipy>=1.3.2 in /usr/local/lib/python3.10/dist-packages (from scikit-learn>=0.22.2->keybert) (1.11.4)\n",
            "Requirement already satisfied: joblib>=1.1.1 in /usr/local/lib/python3.10/dist-packages (from scikit-learn>=0.22.2->keybert) (1.3.2)\n",
            "Requirement already satisfied: threadpoolctl>=2.0.0 in /usr/local/lib/python3.10/dist-packages (from scikit-learn>=0.22.2->keybert) (3.4.0)\n",
            "Requirement already satisfied: transformers<5.0.0,>=4.32.0 in /usr/local/lib/python3.10/dist-packages (from sentence-transformers>=0.3.8->keybert) (4.38.2)\n",
            "Requirement already satisfied: tqdm in /usr/local/lib/python3.10/dist-packages (from sentence-transformers>=0.3.8->keybert) (4.66.2)\n",
            "Requirement already satisfied: torch>=1.11.0 in /usr/local/lib/python3.10/dist-packages (from sentence-transformers>=0.3.8->keybert) (2.2.1+cu121)\n",
            "Requirement already satisfied: huggingface-hub>=0.15.1 in /usr/local/lib/python3.10/dist-packages (from sentence-transformers>=0.3.8->keybert) (0.20.3)\n",
            "Requirement already satisfied: Pillow in /usr/local/lib/python3.10/dist-packages (from sentence-transformers>=0.3.8->keybert) (9.4.0)\n",
            "Requirement already satisfied: filelock in /usr/local/lib/python3.10/dist-packages (from huggingface-hub>=0.15.1->sentence-transformers>=0.3.8->keybert) (3.13.3)\n",
            "Requirement already satisfied: fsspec>=2023.5.0 in /usr/local/lib/python3.10/dist-packages (from huggingface-hub>=0.15.1->sentence-transformers>=0.3.8->keybert) (2023.6.0)\n",
            "Requirement already satisfied: requests in /usr/local/lib/python3.10/dist-packages (from huggingface-hub>=0.15.1->sentence-transformers>=0.3.8->keybert) (2.31.0)\n",
            "Requirement already satisfied: pyyaml>=5.1 in /usr/local/lib/python3.10/dist-packages (from huggingface-hub>=0.15.1->sentence-transformers>=0.3.8->keybert) (6.0.1)\n",
            "Requirement already satisfied: typing-extensions>=3.7.4.3 in /usr/local/lib/python3.10/dist-packages (from huggingface-hub>=0.15.1->sentence-transformers>=0.3.8->keybert) (4.10.0)\n",
            "Requirement already satisfied: packaging>=20.9 in /usr/local/lib/python3.10/dist-packages (from huggingface-hub>=0.15.1->sentence-transformers>=0.3.8->keybert) (24.0)\n",
            "Requirement already satisfied: mdurl~=0.1 in /usr/local/lib/python3.10/dist-packages (from markdown-it-py>=2.2.0->rich>=10.4.0->keybert) (0.1.2)\n",
            "Requirement already satisfied: sympy in /usr/local/lib/python3.10/dist-packages (from torch>=1.11.0->sentence-transformers>=0.3.8->keybert) (1.12)\n",
            "Requirement already satisfied: networkx in /usr/local/lib/python3.10/dist-packages (from torch>=1.11.0->sentence-transformers>=0.3.8->keybert) (3.2.1)\n",
            "Requirement already satisfied: jinja2 in /usr/local/lib/python3.10/dist-packages (from torch>=1.11.0->sentence-transformers>=0.3.8->keybert) (3.1.3)\n",
            "Requirement already satisfied: nvidia-cuda-nvrtc-cu12==12.1.105 in /usr/local/lib/python3.10/dist-packages (from torch>=1.11.0->sentence-transformers>=0.3.8->keybert) (12.1.105)\n",
            "Requirement already satisfied: nvidia-cuda-runtime-cu12==12.1.105 in /usr/local/lib/python3.10/dist-packages (from torch>=1.11.0->sentence-transformers>=0.3.8->keybert) (12.1.105)\n",
            "Requirement already satisfied: nvidia-cuda-cupti-cu12==12.1.105 in /usr/local/lib/python3.10/dist-packages (from torch>=1.11.0->sentence-transformers>=0.3.8->keybert) (12.1.105)\n",
            "Requirement already satisfied: nvidia-cudnn-cu12==8.9.2.26 in /usr/local/lib/python3.10/dist-packages (from torch>=1.11.0->sentence-transformers>=0.3.8->keybert) (8.9.2.26)\n",
            "Requirement already satisfied: nvidia-cublas-cu12==12.1.3.1 in /usr/local/lib/python3.10/dist-packages (from torch>=1.11.0->sentence-transformers>=0.3.8->keybert) (12.1.3.1)\n",
            "Requirement already satisfied: nvidia-cufft-cu12==11.0.2.54 in /usr/local/lib/python3.10/dist-packages (from torch>=1.11.0->sentence-transformers>=0.3.8->keybert) (11.0.2.54)\n",
            "Requirement already satisfied: nvidia-curand-cu12==10.3.2.106 in /usr/local/lib/python3.10/dist-packages (from torch>=1.11.0->sentence-transformers>=0.3.8->keybert) (10.3.2.106)\n",
            "Requirement already satisfied: nvidia-cusolver-cu12==11.4.5.107 in /usr/local/lib/python3.10/dist-packages (from torch>=1.11.0->sentence-transformers>=0.3.8->keybert) (11.4.5.107)\n",
            "Requirement already satisfied: nvidia-cusparse-cu12==12.1.0.106 in /usr/local/lib/python3.10/dist-packages (from torch>=1.11.0->sentence-transformers>=0.3.8->keybert) (12.1.0.106)\n",
            "Requirement already satisfied: nvidia-nccl-cu12==2.19.3 in /usr/local/lib/python3.10/dist-packages (from torch>=1.11.0->sentence-transformers>=0.3.8->keybert) (2.19.3)\n",
            "Requirement already satisfied: nvidia-nvtx-cu12==12.1.105 in /usr/local/lib/python3.10/dist-packages (from torch>=1.11.0->sentence-transformers>=0.3.8->keybert) (12.1.105)\n",
            "Requirement already satisfied: triton==2.2.0 in /usr/local/lib/python3.10/dist-packages (from torch>=1.11.0->sentence-transformers>=0.3.8->keybert) (2.2.0)\n",
            "Requirement already satisfied: nvidia-nvjitlink-cu12 in /usr/local/lib/python3.10/dist-packages (from nvidia-cusolver-cu12==11.4.5.107->torch>=1.11.0->sentence-transformers>=0.3.8->keybert) (12.4.127)\n",
            "Requirement already satisfied: regex!=2019.12.17 in /usr/local/lib/python3.10/dist-packages (from transformers<5.0.0,>=4.32.0->sentence-transformers>=0.3.8->keybert) (2023.12.25)\n",
            "Requirement already satisfied: tokenizers<0.19,>=0.14 in /usr/local/lib/python3.10/dist-packages (from transformers<5.0.0,>=4.32.0->sentence-transformers>=0.3.8->keybert) (0.15.2)\n",
            "Requirement already satisfied: safetensors>=0.4.1 in /usr/local/lib/python3.10/dist-packages (from transformers<5.0.0,>=4.32.0->sentence-transformers>=0.3.8->keybert) (0.4.2)\n",
            "Requirement already satisfied: MarkupSafe>=2.0 in /usr/local/lib/python3.10/dist-packages (from jinja2->torch>=1.11.0->sentence-transformers>=0.3.8->keybert) (2.1.5)\n",
            "Requirement already satisfied: charset-normalizer<4,>=2 in /usr/local/lib/python3.10/dist-packages (from requests->huggingface-hub>=0.15.1->sentence-transformers>=0.3.8->keybert) (3.3.2)\n",
            "Requirement already satisfied: idna<4,>=2.5 in /usr/local/lib/python3.10/dist-packages (from requests->huggingface-hub>=0.15.1->sentence-transformers>=0.3.8->keybert) (3.6)\n",
            "Requirement already satisfied: urllib3<3,>=1.21.1 in /usr/local/lib/python3.10/dist-packages (from requests->huggingface-hub>=0.15.1->sentence-transformers>=0.3.8->keybert) (2.0.7)\n",
            "Requirement already satisfied: certifi>=2017.4.17 in /usr/local/lib/python3.10/dist-packages (from requests->huggingface-hub>=0.15.1->sentence-transformers>=0.3.8->keybert) (2024.2.2)\n",
            "Requirement already satisfied: mpmath>=0.19 in /usr/local/lib/python3.10/dist-packages (from sympy->torch>=1.11.0->sentence-transformers>=0.3.8->keybert) (1.3.0)\n",
            "Building wheels for collected packages: keybert\n",
            "  Building wheel for keybert (setup.py) ... \u001b[?25l\u001b[?25hdone\n",
            "  Created wheel for keybert: filename=keybert-0.8.4-py3-none-any.whl size=39200 sha256=c2fb4214be9812074045a399aabfba37a0b9dc98c6704006c0a532a7c200669c\n",
            "  Stored in directory: /root/.cache/pip/wheels/97/ef/4c/6588bd7072b0cc04225b40e639b991e49ebd4e21fb81f0acee\n",
            "Successfully built keybert\n",
            "Installing collected packages: keybert\n",
            "Successfully installed keybert-0.8.4\n"
          ]
        }
      ]
    },
    {
      "cell_type": "code",
      "source": [
        "import pandas as pd\n",
        "import matplotlib.pyplot as plt\n",
        "import seaborn as sns\n",
        "import pickle\n",
        "import nltk\n",
        "import csv\n",
        "import networkx as nx\n",
        "import numpy as np\n",
        "from matplotlib.ticker import FuncFormatter\n",
        "from collections import defaultdict\n",
        "from itertools import combinations\n",
        "import statistics\n",
        "from collections import Counter\n",
        "from community import community_louvain\n",
        "import random\n",
        "from matplotlib.ticker import PercentFormatter\n",
        "import igraph as ig\n",
        "import leidenalg\n",
        "from matplotlib.patches import Circle\n",
        "\n",
        "from bertopic import BERTopic\n",
        "from keybert import KeyBERT\n",
        "from bertopic.representation import ZeroShotClassification\n",
        "from sklearn.feature_extraction.text import CountVectorizer\n",
        "\n",
        "from gensim.corpora import Dictionary\n",
        "import gensim.corpora as corpora\n",
        "from gensim.models.coherencemodel import CoherenceModel\n",
        "\n",
        "from sklearn.metrics.pairwise import cosine_similarity"
      ],
      "metadata": {
        "id": "v4v6_kqzo_H_"
      },
      "execution_count": null,
      "outputs": []
    },
    {
      "cell_type": "code",
      "source": [
        "plt.rcParams.update({\n",
        "    \"text.usetex\": True,\n",
        "    'font.size':20})\n",
        "plt.rcParams[\"figure.autolayout\"] = True\n",
        "plt.rcParams[\"figure.figsize\"] = [12,5]"
      ],
      "metadata": {
        "id": "N9yOL1pnbIRJ"
      },
      "execution_count": null,
      "outputs": []
    },
    {
      "cell_type": "code",
      "source": [
        "nltk.download('stopwords')\n",
        "from nltk.corpus import stopwords"
      ],
      "metadata": {
        "colab": {
          "base_uri": "https://localhost:8080/"
        },
        "id": "VQI44pnrpns0",
        "outputId": "262dbbb3-1fd3-4855-cd63-e974a4b38b9c"
      },
      "execution_count": null,
      "outputs": [
        {
          "output_type": "stream",
          "name": "stderr",
          "text": [
            "[nltk_data] Downloading package stopwords to /root/nltk_data...\n",
            "[nltk_data]   Unzipping corpora/stopwords.zip.\n"
          ]
        }
      ]
    },
    {
      "cell_type": "markdown",
      "source": [
        "Dataset creation: Merge the datasets"
      ],
      "metadata": {
        "id": "Gvrqokai_kgR"
      }
    },
    {
      "cell_type": "code",
      "source": [
        "# Load CSV files\n",
        "issues_df = pd.read_csv('issues.csv')\n",
        "comments_df = pd.read_csv('comments.csv')"
      ],
      "metadata": {
        "id": "5Tt550U2_jwE"
      },
      "execution_count": null,
      "outputs": []
    },
    {
      "cell_type": "code",
      "execution_count": null,
      "metadata": {
        "id": "k9vjlqvB-vqr"
      },
      "outputs": [],
      "source": [
        "# Convert the column 'created_at' in datetime format\n",
        "issues_df['created_at'] = pd.to_datetime(issues_df['created_at'])\n",
        "comments_df['created_at'] = pd.to_datetime(comments_df['created_at'])\n",
        "issues_df['updated_at'] = pd.to_datetime(issues_df['updated_at'])"
      ]
    },
    {
      "cell_type": "code",
      "source": [
        "issues_df['time_open'] = (issues_df['updated_at'] - issues_df['created_at'])"
      ],
      "metadata": {
        "id": "hjTV7vXcA1HX"
      },
      "execution_count": null,
      "outputs": []
    },
    {
      "cell_type": "code",
      "source": [
        "aggregated_data = {}\n",
        "combined_data = []\n",
        "\n",
        "for index, issue in issues_df.iterrows():\n",
        "    issue_comments = comments_df[comments_df['issue_fk'] == issue['id']]\n",
        "    issue_comments['body'] = issue_comments['body'].fillna('')\n",
        "    combined_body = str(issue['body']) + '\\n\\n' + '\\n\\n'.join(issue_comments['body'].astype(str).tolist())\n",
        "\n",
        "    combined_data.append({\n",
        "        'id': issue['id'],\n",
        "        'number': issue['number'],\n",
        "        'title': issue['title'],\n",
        "        'user_fk': issue['user_fk'],\n",
        "        'repo_fk': issue['repo_fk'],\n",
        "        'state': issue['state'],\n",
        "        'locked': issue['locked'],\n",
        "        'comments': issue['comments'],\n",
        "        'created_at': issue['created_at'],\n",
        "        'updated_at': issue['updated_at'],\n",
        "        'author_association': issue['author_association'],\n",
        "        'body_with_comments': combined_body,\n",
        "    })\n",
        "\n",
        "aggregated_data = pd.DataFrame(combined_data)\n",
        "aggregated_data.to_csv(f'all_combined_data.csv', index=False)"
      ],
      "metadata": {
        "id": "u4XsgxS8A86j"
      },
      "execution_count": null,
      "outputs": []
    },
    {
      "cell_type": "markdown",
      "source": [
        "**DESCRIPTIVE ANALYSIS OF ISSUES AND COMMENTS DATASET**"
      ],
      "metadata": {
        "id": "r9h6wSTUbaX1"
      }
    },
    {
      "cell_type": "code",
      "source": [
        "all_data = pd.read_csv('/content/all_combined_data.csv')"
      ],
      "metadata": {
        "id": "IHU4IHtCbZ5O"
      },
      "execution_count": null,
      "outputs": []
    },
    {
      "cell_type": "code",
      "source": [
        "all_data['created_at'] = pd.to_datetime(all_data['created_at'])\n",
        "all_data['updated_at'] = pd.to_datetime(all_data['updated_at'])\n",
        "all_data['duration_days'] = (all_data['updated_at'] - all_data['created_at']).dt.days\n",
        "\n",
        "display(all_data)"
      ],
      "metadata": {
        "id": "56J_tqxJbwox"
      },
      "execution_count": null,
      "outputs": []
    },
    {
      "cell_type": "code",
      "source": [
        "# Convert 'created_at' to datetime if it's not already\n",
        "all_data['created_at'] = pd.to_datetime(all_data['created_at'])\n",
        "\n",
        "# Extract the year from 'created_at'\n",
        "all_data['year'] = all_data['created_at'].dt.year\n",
        "\n",
        "# Count the number of issues published per year\n",
        "issues_per_year = all_data.groupby('year').size()\n",
        "#display(issues_per_year)\n",
        "\n",
        "# Plotting the histogram\n",
        "plt.figure(figsize=(10, 6))\n",
        "issues_per_year.plot(kind='bar', color='blue')\n",
        "plt.title('Number of Issues Published Per Year')\n",
        "plt.xlabel('Year')\n",
        "plt.ylabel('Number of Issues')\n",
        "plt.xticks(rotation=45)\n",
        "plt.grid(axis='y', linestyle='--')\n",
        "\n",
        "plt.show()"
      ],
      "metadata": {
        "id": "FYjzvZLkbzzJ"
      },
      "execution_count": null,
      "outputs": []
    },
    {
      "cell_type": "code",
      "source": [
        "def days_to_years(x, pos):\n",
        "    return f'{x / 365:.1f}'\n",
        "\n",
        "plt.figure(figsize=(10, 6))\n",
        "plt.hist(all_data['duration_days'], bins=50, color='blue', log=True) #, edgecolor='black')\n",
        "plt.title('Issue Duration')\n",
        "plt.xlabel('Duration [y]')\n",
        "plt.ylabel('Frequency')\n",
        "plt.grid(axis='y', linestyle='--')\n",
        "\n",
        "plt.gca().xaxis.set_major_formatter(FuncFormatter(days_to_years))\n",
        "plt.gca().spines['top'].set_color('grey')\n",
        "plt.gca().spines['bottom'].set_color('grey')\n",
        "plt.gca().spines['left'].set_color('grey')\n",
        "plt.gca().spines['right'].set_color('grey')\n",
        "\n",
        "plt.show()"
      ],
      "metadata": {
        "id": "go-4SuRdb6CA"
      },
      "execution_count": null,
      "outputs": []
    },
    {
      "cell_type": "code",
      "source": [
        "# Descriptive statistics for the lifetime of issues\n",
        "lifetime_stats = all_data['duration_days'].describe()\n",
        "print(lifetime_stats)"
      ],
      "metadata": {
        "id": "kRoY4XcVcAks"
      },
      "execution_count": null,
      "outputs": []
    },
    {
      "cell_type": "code",
      "source": [
        "plt.figure(figsize=(10, 6))\n",
        "plt.hist(all_data['comments'], bins=50, color='blue', log=True) #, edgecolor='black')\n",
        "plt.xscale('log')\n",
        "plt.title('Popularity of the Issue')\n",
        "plt.xlabel('Number of comments')\n",
        "plt.ylabel('Frequency')\n",
        "plt.grid(axis='y', linestyle='--')\n",
        "\n",
        "plt.gca().spines['top'].set_color('grey')\n",
        "plt.gca().spines['bottom'].set_color('grey')\n",
        "plt.gca().spines['left'].set_color('grey')\n",
        "plt.gca().spines['right'].set_color('grey')\n",
        "\n",
        "plt.show()"
      ],
      "metadata": {
        "id": "Xwh9Fdn0cDBk"
      },
      "execution_count": null,
      "outputs": []
    },
    {
      "cell_type": "code",
      "source": [
        "comments_stats = all_data['comments'].describe()\n",
        "print(comments_stats)"
      ],
      "metadata": {
        "id": "ENjKXtwqcGGs"
      },
      "execution_count": null,
      "outputs": []
    },
    {
      "cell_type": "code",
      "source": [
        "# Counting issues with 0 comments\n",
        "num_issues_with_zero_comments = (all_data['comments'] == 0).sum()\n",
        "print(f\"Number of issues with 0 comments: {num_issues_with_zero_comments}\")\n",
        "\n",
        "# Finding the issue with the maximum number of comments\n",
        "issue_with_max_comments = all_data.loc[all_data['comments'].idxmax()]\n",
        "print(\"Issue with the maximum number of comments:\")\n",
        "print(issue_with_max_comments)"
      ],
      "metadata": {
        "id": "LjLvszpQcIwS"
      },
      "execution_count": null,
      "outputs": []
    },
    {
      "cell_type": "code",
      "source": [
        "# Calculate the correlation between the number of comments and the duration of the issues\n",
        "correlation = all_data['duration_days'].corr(all_data['comments'])\n",
        "print(f\"Correlation coefficient between the number of comments and the duration of issues: {correlation}\")"
      ],
      "metadata": {
        "id": "RFVdjJOrcJaA"
      },
      "execution_count": null,
      "outputs": []
    },
    {
      "cell_type": "code",
      "source": [
        "# Calculate the 75th percentile for comments\n",
        "comments_75th_percentile = all_data['comments'].quantile(0.75)\n",
        "\n",
        "# Calculate the 25th percentile for duration_days\n",
        "duration_days_25th_percentile = all_data['duration_days'].quantile(0.25)\n",
        "\n",
        "# Filter issues_data for IDs with comments > 75th percentile and duration_days < 25th percentile\n",
        "filtered_issues = all_data[(all_data['comments'] > comments_75th_percentile) & (all_data['duration_days'] <= duration_days_25th_percentile)]"
      ],
      "metadata": {
        "id": "9Z3-1-h9cMvR"
      },
      "execution_count": null,
      "outputs": []
    },
    {
      "cell_type": "code",
      "source": [
        "# Issue status count\n",
        "state_counts = all_data['state'].value_counts()\n",
        "state_counts"
      ],
      "metadata": {
        "id": "FiSrjdi3cUXX"
      },
      "execution_count": null,
      "outputs": []
    },
    {
      "cell_type": "code",
      "source": [
        "unique_users_count = all_data['user_fk'].nunique()\n",
        "print(f\"Number of unique users: {unique_users_count}\")"
      ],
      "metadata": {
        "id": "LAqV1l9fcbbx"
      },
      "execution_count": null,
      "outputs": []
    },
    {
      "cell_type": "code",
      "source": [
        "# Calculation of the number of issues created and the average number of comments per user\n",
        "user_issue_counts = all_data.groupby('user_fk').size().reset_index(name='issue_count')\n",
        "user_comments_mean = all_data.groupby('user_fk')['comments'].mean().reset_index(name='avg_comments_per_issue')\n",
        "\n",
        "# Merging data to have a single DataFrame\n",
        "user_analysis = pd.merge(user_issue_counts, user_comments_mean, on='user_fk')\n",
        "user_analysis_sorted = user_analysis.sort_values(by=['issue_count', 'avg_comments_per_issue'], ascending=[False, False])"
      ],
      "metadata": {
        "id": "bcVbyP_LceHP"
      },
      "execution_count": null,
      "outputs": []
    },
    {
      "cell_type": "code",
      "source": [
        "# Counting the number of users with exactly 1 issue\n",
        "users_with_one_issue = user_issue_counts[user_issue_counts['issue_count'] == 1].shape[0]\n",
        "print(f\"Number of users with exactly 1 issue: {users_with_one_issue}\")"
      ],
      "metadata": {
        "id": "_nzjZmuOcfEx"
      },
      "execution_count": null,
      "outputs": []
    },
    {
      "cell_type": "code",
      "source": [
        "plt.figure(figsize=(10, 6))\n",
        "plt.hist(user_analysis_sorted['issue_count'], bins=50, color='blue', log=True) #, edgecolor='black')\n",
        "plt.title('Users Activity')\n",
        "plt.xlabel('Number of Open Issues per User')\n",
        "plt.ylabel('Frequency')\n",
        "\n",
        "plt.gca().spines['top'].set_color('grey')\n",
        "plt.gca().spines['bottom'].set_color('grey')\n",
        "plt.gca().spines['left'].set_color('grey')\n",
        "plt.gca().spines['right'].set_color('grey')\n",
        "\n",
        "plt.show()"
      ],
      "metadata": {
        "id": "yliFex2dchVS"
      },
      "execution_count": null,
      "outputs": []
    },
    {
      "cell_type": "code",
      "source": [
        "file_comments = pd.read_csv('/content/comments.csv')\n",
        "display(file_comments)"
      ],
      "metadata": {
        "id": "8xLWercccjgZ"
      },
      "execution_count": null,
      "outputs": []
    },
    {
      "cell_type": "code",
      "source": [
        "# Count the number of unique developers (unique 'user_fk')\n",
        "num_unique_developers = file_comments['user_fk'].nunique()\n",
        "print(f\"Number of unique developers: {num_unique_developers}\")\n",
        "\n",
        "# Count the number of comments per developer and sort them to find the most active developers\n",
        "comments_per_developer = file_comments.groupby('user_fk').size().reset_index(name='comment_count').sort_values(by='comment_count', ascending=False)\n",
        "\n",
        "# Display the top 5 most active developers based on the number of comments\n",
        "top_5_active_developers = comments_per_developer.head(5)\n",
        "print(\"Top 5 most active developers based on the number of comments:\")\n",
        "print(top_5_active_developers)"
      ],
      "metadata": {
        "id": "qzEPE7FzcyFF"
      },
      "execution_count": null,
      "outputs": []
    },
    {
      "cell_type": "code",
      "source": [
        "# Convert 'created_at', and 'updated_at' in issues_data to datetime if they are not already\n",
        "all_data['created_at'] = pd.to_datetime(all_data['created_at'])\n",
        "all_data['updated_at'] = pd.to_datetime(all_data['updated_at'])\n",
        "\n",
        "# Convert 'created_at' in file_comments to datetime if it's not already\n",
        "file_comments['created_at'] = pd.to_datetime(file_comments['created_at'])\n",
        "\n",
        "# Get minimum 'created_at' for each user across both datasets\n",
        "min_created_issues = all_data.groupby('user_fk')['created_at'].min().reset_index(name='first_appearance')\n",
        "min_created_comments = file_comments.groupby('user_fk')['created_at'].min().reset_index(name='first_appearance')\n",
        "min_created_combined = pd.concat([min_created_issues, min_created_comments])\n",
        "min_created_final = min_created_combined.groupby('user_fk')['first_appearance'].min().reset_index()\n",
        "\n",
        "# Get maximum 'updated_at' or 'created_at' from issues_data and 'created_at' from file_comments for each user\n",
        "max_updated_issues = all_data.groupby('user_fk')['updated_at'].max().reset_index(name='last_appearance')\n",
        "max_created_issues = all_data.groupby('user_fk')['created_at'].max().reset_index(name='last_appearance')\n",
        "max_created_comments = file_comments.groupby('user_fk')['created_at'].max().reset_index(name='last_appearance')\n",
        "max_combined = pd.concat([max_updated_issues, max_created_issues, max_created_comments])\n",
        "max_final = max_combined.groupby('user_fk')['last_appearance'].max().reset_index()\n",
        "\n",
        "# Merge the min and max appearance data into a single DataFrame\n",
        "users_life = pd.merge(min_created_final, max_final, on='user_fk', how='outer')"
      ],
      "metadata": {
        "id": "X_24Kiyxc3D7"
      },
      "execution_count": null,
      "outputs": []
    },
    {
      "cell_type": "code",
      "source": [
        "# Calculate the duration between first and last appearance for each user\n",
        "users_life['duration'] = users_life['last_appearance'] - users_life['first_appearance']\n",
        "\n",
        "# Calculate the average duration\n",
        "average_duration = users_life['duration'].describe()\n",
        "\n",
        "print(average_duration)"
      ],
      "metadata": {
        "id": "d_IHPVY3c5Y3"
      },
      "execution_count": null,
      "outputs": []
    },
    {
      "cell_type": "markdown",
      "source": [
        "**TOPIC MODELLING PROCESS**"
      ],
      "metadata": {
        "id": "CT6NK3LyIAZg"
      }
    },
    {
      "cell_type": "markdown",
      "source": [
        "General unsupervised BERTopic model"
      ],
      "metadata": {
        "id": "qXmyHixuIQW9"
      }
    },
    {
      "cell_type": "code",
      "source": [
        "# Prepare documents\n",
        "df = pd.read_csv(\"/content/all_combined_data.csv\")"
      ],
      "metadata": {
        "id": "TkfTRypDIpD5"
      },
      "execution_count": null,
      "outputs": []
    },
    {
      "cell_type": "code",
      "source": [
        "stop_words = set(stopwords.words(\"english\"))\n",
        "additional_stopwords = [\"nan\", \"#\", \"\\n\", \"thanks\", \"ok\"]\n",
        "stop_words = stop_words.union(additional_stopwords)\n",
        "\n",
        "df[\"body_with_comments\"] = df[\"body_with_comments\"].apply(\n",
        "    lambda x: \" \".join([word for word in x.split() if word.lower() not in stop_words])\n",
        ")"
      ],
      "metadata": {
        "id": "vYlTZhDhJiAT"
      },
      "execution_count": null,
      "outputs": []
    },
    {
      "cell_type": "code",
      "source": [
        "vectorizer_model = CountVectorizer()"
      ],
      "metadata": {
        "id": "yamj2G70Kayu"
      },
      "execution_count": null,
      "outputs": []
    },
    {
      "cell_type": "code",
      "source": [
        "# BERTopic model over all data\n",
        "topic_model = BERTopic(embedding_model='BAAI/bge-small-en',vectorizer_model=vectorizer_model)\n",
        "topics, probs = topic_model.fit_transform(df.body_with_comments)"
      ],
      "metadata": {
        "id": "AwWhG2A4JixX",
        "colab": {
          "base_uri": "https://localhost:8080/",
          "height": 668,
          "referenced_widgets": [
            "148c71af17c3467685d79f713faf783c",
            "bae6a073c7ea4b908aabe531ddc8362c",
            "fb54fcc1d6634a59b7b01e37e95b568d",
            "479c1552fe8348afb317edf6dbfe7e65",
            "b18d8057f53541ad895a47ebe3ca7c48",
            "cd7ab33bcafb4ec0b3fded9fb5c40c7f",
            "3f9f7724b40b436ca6f5508f3b2f5719",
            "453d8104d1214473834e510902c14d0a",
            "0c725f62e8694d59bd3b6376815c2458",
            "e4a10eb192514dd3829aa3c2477fec00",
            "7104182b651545798cb7ac80f84237de",
            "adf5d725d26e47b19f2448453eac5f64",
            "c12f829966d9411cb514dbbfea2ebfa6",
            "61d9323269b2477bb4e8b5fda03c0a98",
            "55021362c05e48e09c9ac9f15f68288f",
            "707b21fb8504419d8605cc0375fa5592",
            "3c26a5c2c8db4641b0cc5c6ee0d9504c",
            "28a1db864e5a4fa683023bb23f8ffc37",
            "6540c84dbaa24735ba70507148955bf3",
            "fc181d9ae49d4afda23d16651517bcac",
            "daee2db029f048c1859964f66474583e",
            "e3dad124fdff421897274e80cec58b79",
            "341b5ad8cb2b401c923df5027742cbe3",
            "5f4f7b25d5ba48b38ba404cd8a1e6485",
            "dbe5291b8caf4b239c034a977592739d",
            "11d720436f7e491f84c4ff9192d65b42",
            "d4d0c0e697784c22aaffefe84c6c0226",
            "118acb44772b4673963b702d6c45ff63",
            "5b12c95c9e37418fa039f23661ec0163",
            "02f1e050418a42848aaf8451fabe0708",
            "0a11e7fa830f4cf18954ae971bc761c5",
            "387878678c1345eda24248100d142d06",
            "844c87ee9ff14241af289231e14273a4",
            "8a30e83e45fc4a2b8e021030a66e654f",
            "e4f6779f472846aaaffff6780ebe3a91",
            "a05b91b4931b47f38a56ec9c6604b850",
            "843db40e3e314751baae0a632ee40388",
            "1616e6dbd4df4f808d219fa5f425e638",
            "d05a86ea568c4d3890b0529efba88935",
            "6f728cfdfbcc4634bf8c8f0ff634e391",
            "e8b62ae57c054ee9b9aaad51ba3a70d0",
            "ab3f085aa4ad4967985cae3f70734a25",
            "de07a30d4d2644e0ae98b6b1229c540a",
            "d8725d0ddb7d49d6bf3051139f8f6a98",
            "a995016869584f38aefba143fc965cb4",
            "f394a62fb5b6493087db2488e842fcc9",
            "6ad1795be55046349e899eb5d919bcef",
            "c9eec83d7723404c83851a4443436803",
            "6332777d81574c208e50f03dd420dd06",
            "e3ac2bbb2b3f4cf9aa047b440a0ef5b0",
            "1d2ff863500a4aad8d6e47645a87fb19",
            "bacaa2b73be04fe6a34439ac4e8b20d9",
            "226b44df587d450bab11612902e0fc96",
            "fd232fc32bf447cfb3c5906a946ce784",
            "81a918434917428c9d85d44e7cbc26dc",
            "6ad969db3419414fb2b9c3d383341b43",
            "b5273ec241524700a668754f5710c781",
            "71db13c6f5984c77aa9e76ace96ea97d",
            "866e52f27c474389a5ce4b531d240ccd",
            "423337297eb2413496a06f87b683fd80",
            "86ecf927b80b4c09a976b3301a16b330",
            "b281988eb6ee4cb58ad9612e4b065e80",
            "f9b9fbaddd404c7b91753b46c206a3d6",
            "5b6575f0a57e4a3f9aecc1971f25a0b7",
            "7fa31eb51c1a4b21b48a0a1b563b7bdc",
            "9f626e3b97c445088ffc42ef2b6bb339",
            "8261ae07fe93405aa25842970cb50119",
            "db82c3e288f248168be5ccdbc01a2181",
            "d5bcfc2b9fb047d1b58e2cd4ebeeb50d",
            "8253e66eb1064356a0f8ef3bd0c2b6e4",
            "cc2a9ea24bf84dc985b3d99257659493",
            "86d0668f4266480186b259e4b52dc3e4",
            "52aacf1e461148379dd281eec284a26e",
            "7edd4dee0dfc4ff7a168b293921bb4f8",
            "dac2baa8b1b6492e941a4139401dc93a",
            "51c1f3ae60984efdae648761c5504678",
            "7140edc84e6147a393b6744ef5a8c869",
            "a278cc3e05a940ed827a57d7aec26bc6",
            "285187f43be24b1087b42dcba624432d",
            "2662e5cb270547c69042d4bd619aade3",
            "d6370136f7d144cfb61ce3848d500d72",
            "aa62867201184876b98a204ee1382679",
            "6752f1ad0d2d47ef8b513e4445c98b89",
            "c119ae28665a413c85e266e4b037da4b",
            "0bd85534012347258500f83c1dc74989",
            "a49d07181c6a461dab3497be14590ad0",
            "1c5e229af4eb4c1ebcad257b4fa123a7",
            "0260d650b60c426abe45cdc20709314b",
            "121086bb6b7a475b94f4c18304ea17cd",
            "36375d02c3ab411cbe3259e1441a0c30",
            "62409e4595b74808b507ad3eb98f9b5b",
            "dc8c2af5b8674bdaa6db5d82db8bbaa6",
            "8f4f4cdaa323471bb4c16858a77da414",
            "99f33d7433d84049a8b827ee3f89124f",
            "49e74279d73f405d8c5a36a18854fa8d",
            "83f933b2dd7f4f3d87572ac5d0860821",
            "9e239b031d854ba3a1f52298f9290ca2",
            "0662255f2ab043d3b819067e8fe2f77a",
            "959353aafe364aa391fa341bc94eda8d",
            "cacb2cc8e2014742a0d3672a70a10537",
            "70cafcfae18e42dca02c6a316adeb28a",
            "8bbb996c409b4ae28671408907f8807e",
            "904418556f284383b4b4064518e3a900",
            "a2927a9f26a74ea198cc8e4ac37a66ee",
            "7a6f2b06629f4b68a528afda56fde109",
            "2dbc94c809954d018d94e4bb16f433a4",
            "3827a1ad952544eb8dee41648e5ee74f",
            "5f19df13d36d4ab5b2839b604cd803b1",
            "484d2fc17d6e4028b100ce0c97a4641c",
            "706a07bf193147cdae61d47291c22f8f",
            "3464859f14734a12b6ab4fa5fe316744",
            "5f5c7a1530934374b2214b5fb9757df4",
            "1fd1d3e9a0284732be575614736e335e",
            "cd07b7fd54c9456b9f65720f7180997b",
            "892a4400653040e98333831f68051f47",
            "fabd849c883340edb8b6772b4154f172",
            "bcfa4826826d4581883c55053b72bcb3",
            "9ef7a6a52de14cdaa552b6ea2784ab8a",
            "7a138b58216c489c94bca6bf4ebf6f4c",
            "a51a676c9d644743822fcba508f211c4",
            "3329b8e80a884b00a57244c1c0adfb08"
          ]
        },
        "outputId": "f2295324-3dd3-41f5-ddd7-f33f3efab00f"
      },
      "execution_count": null,
      "outputs": [
        {
          "data": {
            "application/vnd.jupyter.widget-view+json": {
              "model_id": "148c71af17c3467685d79f713faf783c",
              "version_major": 2,
              "version_minor": 0
            },
            "text/plain": [
              "modules.json:   0%|          | 0.00/349 [00:00<?, ?B/s]"
            ]
          },
          "metadata": {},
          "output_type": "display_data"
        },
        {
          "data": {
            "application/vnd.jupyter.widget-view+json": {
              "model_id": "adf5d725d26e47b19f2448453eac5f64",
              "version_major": 2,
              "version_minor": 0
            },
            "text/plain": [
              "config_sentence_transformers.json:   0%|          | 0.00/124 [00:00<?, ?B/s]"
            ]
          },
          "metadata": {},
          "output_type": "display_data"
        },
        {
          "data": {
            "application/vnd.jupyter.widget-view+json": {
              "model_id": "341b5ad8cb2b401c923df5027742cbe3",
              "version_major": 2,
              "version_minor": 0
            },
            "text/plain": [
              "README.md:   0%|          | 0.00/90.8k [00:00<?, ?B/s]"
            ]
          },
          "metadata": {},
          "output_type": "display_data"
        },
        {
          "data": {
            "application/vnd.jupyter.widget-view+json": {
              "model_id": "8a30e83e45fc4a2b8e021030a66e654f",
              "version_major": 2,
              "version_minor": 0
            },
            "text/plain": [
              "sentence_bert_config.json:   0%|          | 0.00/52.0 [00:00<?, ?B/s]"
            ]
          },
          "metadata": {},
          "output_type": "display_data"
        },
        {
          "data": {
            "application/vnd.jupyter.widget-view+json": {
              "model_id": "a995016869584f38aefba143fc965cb4",
              "version_major": 2,
              "version_minor": 0
            },
            "text/plain": [
              "config.json:   0%|          | 0.00/684 [00:00<?, ?B/s]"
            ]
          },
          "metadata": {},
          "output_type": "display_data"
        },
        {
          "data": {
            "application/vnd.jupyter.widget-view+json": {
              "model_id": "6ad969db3419414fb2b9c3d383341b43",
              "version_major": 2,
              "version_minor": 0
            },
            "text/plain": [
              "model.safetensors:   0%|          | 0.00/133M [00:00<?, ?B/s]"
            ]
          },
          "metadata": {},
          "output_type": "display_data"
        },
        {
          "data": {
            "application/vnd.jupyter.widget-view+json": {
              "model_id": "8261ae07fe93405aa25842970cb50119",
              "version_major": 2,
              "version_minor": 0
            },
            "text/plain": [
              "tokenizer_config.json:   0%|          | 0.00/366 [00:00<?, ?B/s]"
            ]
          },
          "metadata": {},
          "output_type": "display_data"
        },
        {
          "data": {
            "application/vnd.jupyter.widget-view+json": {
              "model_id": "a278cc3e05a940ed827a57d7aec26bc6",
              "version_major": 2,
              "version_minor": 0
            },
            "text/plain": [
              "vocab.txt:   0%|          | 0.00/232k [00:00<?, ?B/s]"
            ]
          },
          "metadata": {},
          "output_type": "display_data"
        },
        {
          "data": {
            "application/vnd.jupyter.widget-view+json": {
              "model_id": "121086bb6b7a475b94f4c18304ea17cd",
              "version_major": 2,
              "version_minor": 0
            },
            "text/plain": [
              "tokenizer.json:   0%|          | 0.00/711k [00:00<?, ?B/s]"
            ]
          },
          "metadata": {},
          "output_type": "display_data"
        },
        {
          "data": {
            "application/vnd.jupyter.widget-view+json": {
              "model_id": "cacb2cc8e2014742a0d3672a70a10537",
              "version_major": 2,
              "version_minor": 0
            },
            "text/plain": [
              "special_tokens_map.json:   0%|          | 0.00/125 [00:00<?, ?B/s]"
            ]
          },
          "metadata": {},
          "output_type": "display_data"
        },
        {
          "data": {
            "application/vnd.jupyter.widget-view+json": {
              "model_id": "3464859f14734a12b6ab4fa5fe316744",
              "version_major": 2,
              "version_minor": 0
            },
            "text/plain": [
              "1_Pooling/config.json:   0%|          | 0.00/190 [00:00<?, ?B/s]"
            ]
          },
          "metadata": {},
          "output_type": "display_data"
        },
        {
          "output_type": "error",
          "ename": "KeyboardInterrupt",
          "evalue": "",
          "traceback": [
            "\u001b[0;31m---------------------------------------------------------------------------\u001b[0m",
            "\u001b[0;31mKeyboardInterrupt\u001b[0m                         Traceback (most recent call last)",
            "\u001b[0;32m<ipython-input-17-4efbdf362003>\u001b[0m in \u001b[0;36m<cell line: 3>\u001b[0;34m()\u001b[0m\n\u001b[1;32m      1\u001b[0m \u001b[0;31m# BERTopic model over all data\u001b[0m\u001b[0;34m\u001b[0m\u001b[0;34m\u001b[0m\u001b[0m\n\u001b[1;32m      2\u001b[0m \u001b[0mtopic_model\u001b[0m \u001b[0;34m=\u001b[0m \u001b[0mBERTopic\u001b[0m\u001b[0;34m(\u001b[0m\u001b[0membedding_model\u001b[0m\u001b[0;34m=\u001b[0m\u001b[0;34m'BAAI/bge-small-en'\u001b[0m\u001b[0;34m,\u001b[0m\u001b[0mvectorizer_model\u001b[0m\u001b[0;34m=\u001b[0m\u001b[0mvectorizer_model\u001b[0m\u001b[0;34m)\u001b[0m\u001b[0;34m\u001b[0m\u001b[0;34m\u001b[0m\u001b[0m\n\u001b[0;32m----> 3\u001b[0;31m \u001b[0mtopics\u001b[0m\u001b[0;34m,\u001b[0m \u001b[0mprobs\u001b[0m \u001b[0;34m=\u001b[0m \u001b[0mtopic_model\u001b[0m\u001b[0;34m.\u001b[0m\u001b[0mfit_transform\u001b[0m\u001b[0;34m(\u001b[0m\u001b[0mdf\u001b[0m\u001b[0;34m.\u001b[0m\u001b[0mbody_with_comments\u001b[0m\u001b[0;34m)\u001b[0m\u001b[0;34m\u001b[0m\u001b[0;34m\u001b[0m\u001b[0m\n\u001b[0m",
            "\u001b[0;32m/usr/local/lib/python3.10/dist-packages/bertopic/_bertopic.py\u001b[0m in \u001b[0;36mfit_transform\u001b[0;34m(self, documents, embeddings, images, y)\u001b[0m\n\u001b[1;32m    385\u001b[0m             self.embedding_model = select_backend(self.embedding_model,\n\u001b[1;32m    386\u001b[0m                                                   language=self.language)\n\u001b[0;32m--> 387\u001b[0;31m             embeddings = self._extract_embeddings(documents.Document.values.tolist(),\n\u001b[0m\u001b[1;32m    388\u001b[0m                                                   \u001b[0mimages\u001b[0m\u001b[0;34m=\u001b[0m\u001b[0mimages\u001b[0m\u001b[0;34m,\u001b[0m\u001b[0;34m\u001b[0m\u001b[0;34m\u001b[0m\u001b[0m\n\u001b[1;32m    389\u001b[0m                                                   \u001b[0mmethod\u001b[0m\u001b[0;34m=\u001b[0m\u001b[0;34m\"document\"\u001b[0m\u001b[0;34m,\u001b[0m\u001b[0;34m\u001b[0m\u001b[0;34m\u001b[0m\u001b[0m\n",
            "\u001b[0;32m/usr/local/lib/python3.10/dist-packages/bertopic/_bertopic.py\u001b[0m in \u001b[0;36m_extract_embeddings\u001b[0;34m(self, documents, images, method, verbose)\u001b[0m\n\u001b[1;32m   3291\u001b[0m             \u001b[0membeddings\u001b[0m \u001b[0;34m=\u001b[0m \u001b[0mself\u001b[0m\u001b[0;34m.\u001b[0m\u001b[0membedding_model\u001b[0m\u001b[0;34m.\u001b[0m\u001b[0membed_words\u001b[0m\u001b[0;34m(\u001b[0m\u001b[0mwords\u001b[0m\u001b[0;34m=\u001b[0m\u001b[0mdocuments\u001b[0m\u001b[0;34m,\u001b[0m \u001b[0mverbose\u001b[0m\u001b[0;34m=\u001b[0m\u001b[0mverbose\u001b[0m\u001b[0;34m)\u001b[0m\u001b[0;34m\u001b[0m\u001b[0;34m\u001b[0m\u001b[0m\n\u001b[1;32m   3292\u001b[0m         \u001b[0;32melif\u001b[0m \u001b[0mmethod\u001b[0m \u001b[0;34m==\u001b[0m \u001b[0;34m\"document\"\u001b[0m\u001b[0;34m:\u001b[0m\u001b[0;34m\u001b[0m\u001b[0;34m\u001b[0m\u001b[0m\n\u001b[0;32m-> 3293\u001b[0;31m             \u001b[0membeddings\u001b[0m \u001b[0;34m=\u001b[0m \u001b[0mself\u001b[0m\u001b[0;34m.\u001b[0m\u001b[0membedding_model\u001b[0m\u001b[0;34m.\u001b[0m\u001b[0membed_documents\u001b[0m\u001b[0;34m(\u001b[0m\u001b[0mdocuments\u001b[0m\u001b[0;34m,\u001b[0m \u001b[0mverbose\u001b[0m\u001b[0;34m=\u001b[0m\u001b[0mverbose\u001b[0m\u001b[0;34m)\u001b[0m\u001b[0;34m\u001b[0m\u001b[0;34m\u001b[0m\u001b[0m\n\u001b[0m\u001b[1;32m   3294\u001b[0m         \u001b[0;32melif\u001b[0m \u001b[0mdocuments\u001b[0m\u001b[0;34m[\u001b[0m\u001b[0;36m0\u001b[0m\u001b[0;34m]\u001b[0m \u001b[0;32mis\u001b[0m \u001b[0;32mNone\u001b[0m \u001b[0;32mand\u001b[0m \u001b[0mimages\u001b[0m \u001b[0;32mis\u001b[0m \u001b[0;32mNone\u001b[0m\u001b[0;34m:\u001b[0m\u001b[0;34m\u001b[0m\u001b[0;34m\u001b[0m\u001b[0m\n\u001b[1;32m   3295\u001b[0m             raise ValueError(\"Make sure to use an embedding model that can either embed documents\"\n",
            "\u001b[0;32m/usr/local/lib/python3.10/dist-packages/bertopic/backend/_base.py\u001b[0m in \u001b[0;36membed_documents\u001b[0;34m(self, document, verbose)\u001b[0m\n\u001b[1;32m     67\u001b[0m             \u001b[0mthat\u001b[0m \u001b[0meach\u001b[0m \u001b[0mhave\u001b[0m \u001b[0man\u001b[0m \u001b[0membeddings\u001b[0m \u001b[0msize\u001b[0m \u001b[0mof\u001b[0m\u001b[0;31m \u001b[0m\u001b[0;31m`\u001b[0m\u001b[0mm\u001b[0m\u001b[0;31m`\u001b[0m\u001b[0;34m\u001b[0m\u001b[0;34m\u001b[0m\u001b[0m\n\u001b[1;32m     68\u001b[0m         \"\"\"\n\u001b[0;32m---> 69\u001b[0;31m         \u001b[0;32mreturn\u001b[0m \u001b[0mself\u001b[0m\u001b[0;34m.\u001b[0m\u001b[0membed\u001b[0m\u001b[0;34m(\u001b[0m\u001b[0mdocument\u001b[0m\u001b[0;34m,\u001b[0m \u001b[0mverbose\u001b[0m\u001b[0;34m)\u001b[0m\u001b[0;34m\u001b[0m\u001b[0;34m\u001b[0m\u001b[0m\n\u001b[0m",
            "\u001b[0;32m/usr/local/lib/python3.10/dist-packages/bertopic/backend/_sentencetransformers.py\u001b[0m in \u001b[0;36membed\u001b[0;34m(self, documents, verbose)\u001b[0m\n\u001b[1;32m     63\u001b[0m             \u001b[0mthat\u001b[0m \u001b[0meach\u001b[0m \u001b[0mhave\u001b[0m \u001b[0man\u001b[0m \u001b[0membeddings\u001b[0m \u001b[0msize\u001b[0m \u001b[0mof\u001b[0m\u001b[0;31m \u001b[0m\u001b[0;31m`\u001b[0m\u001b[0mm\u001b[0m\u001b[0;31m`\u001b[0m\u001b[0;34m\u001b[0m\u001b[0;34m\u001b[0m\u001b[0m\n\u001b[1;32m     64\u001b[0m         \"\"\"\n\u001b[0;32m---> 65\u001b[0;31m         \u001b[0membeddings\u001b[0m \u001b[0;34m=\u001b[0m \u001b[0mself\u001b[0m\u001b[0;34m.\u001b[0m\u001b[0membedding_model\u001b[0m\u001b[0;34m.\u001b[0m\u001b[0mencode\u001b[0m\u001b[0;34m(\u001b[0m\u001b[0mdocuments\u001b[0m\u001b[0;34m,\u001b[0m \u001b[0mshow_progress_bar\u001b[0m\u001b[0;34m=\u001b[0m\u001b[0mverbose\u001b[0m\u001b[0;34m)\u001b[0m\u001b[0;34m\u001b[0m\u001b[0;34m\u001b[0m\u001b[0m\n\u001b[0m\u001b[1;32m     66\u001b[0m         \u001b[0;32mreturn\u001b[0m \u001b[0membeddings\u001b[0m\u001b[0;34m\u001b[0m\u001b[0;34m\u001b[0m\u001b[0m\n",
            "\u001b[0;32m/usr/local/lib/python3.10/dist-packages/sentence_transformers/SentenceTransformer.py\u001b[0m in \u001b[0;36mencode\u001b[0;34m(self, sentences, prompt_name, prompt, batch_size, show_progress_bar, output_value, convert_to_numpy, convert_to_tensor, device, normalize_embeddings)\u001b[0m\n\u001b[1;32m    348\u001b[0m \u001b[0;34m\u001b[0m\u001b[0m\n\u001b[1;32m    349\u001b[0m             \u001b[0;32mwith\u001b[0m \u001b[0mtorch\u001b[0m\u001b[0;34m.\u001b[0m\u001b[0mno_grad\u001b[0m\u001b[0;34m(\u001b[0m\u001b[0;34m)\u001b[0m\u001b[0;34m:\u001b[0m\u001b[0;34m\u001b[0m\u001b[0;34m\u001b[0m\u001b[0m\n\u001b[0;32m--> 350\u001b[0;31m                 \u001b[0mout_features\u001b[0m \u001b[0;34m=\u001b[0m \u001b[0mself\u001b[0m\u001b[0;34m.\u001b[0m\u001b[0mforward\u001b[0m\u001b[0;34m(\u001b[0m\u001b[0mfeatures\u001b[0m\u001b[0;34m)\u001b[0m\u001b[0;34m\u001b[0m\u001b[0;34m\u001b[0m\u001b[0m\n\u001b[0m\u001b[1;32m    351\u001b[0m \u001b[0;34m\u001b[0m\u001b[0m\n\u001b[1;32m    352\u001b[0m                 \u001b[0;32mif\u001b[0m \u001b[0moutput_value\u001b[0m \u001b[0;34m==\u001b[0m \u001b[0;34m\"token_embeddings\"\u001b[0m\u001b[0;34m:\u001b[0m\u001b[0;34m\u001b[0m\u001b[0;34m\u001b[0m\u001b[0m\n",
            "\u001b[0;32m/usr/local/lib/python3.10/dist-packages/torch/nn/modules/container.py\u001b[0m in \u001b[0;36mforward\u001b[0;34m(self, input)\u001b[0m\n\u001b[1;32m    213\u001b[0m     \u001b[0;32mdef\u001b[0m \u001b[0mforward\u001b[0m\u001b[0;34m(\u001b[0m\u001b[0mself\u001b[0m\u001b[0;34m,\u001b[0m \u001b[0minput\u001b[0m\u001b[0;34m)\u001b[0m\u001b[0;34m:\u001b[0m\u001b[0;34m\u001b[0m\u001b[0;34m\u001b[0m\u001b[0m\n\u001b[1;32m    214\u001b[0m         \u001b[0;32mfor\u001b[0m \u001b[0mmodule\u001b[0m \u001b[0;32min\u001b[0m \u001b[0mself\u001b[0m\u001b[0;34m:\u001b[0m\u001b[0;34m\u001b[0m\u001b[0;34m\u001b[0m\u001b[0m\n\u001b[0;32m--> 215\u001b[0;31m             \u001b[0minput\u001b[0m \u001b[0;34m=\u001b[0m \u001b[0mmodule\u001b[0m\u001b[0;34m(\u001b[0m\u001b[0minput\u001b[0m\u001b[0;34m)\u001b[0m\u001b[0;34m\u001b[0m\u001b[0;34m\u001b[0m\u001b[0m\n\u001b[0m\u001b[1;32m    216\u001b[0m         \u001b[0;32mreturn\u001b[0m \u001b[0minput\u001b[0m\u001b[0;34m\u001b[0m\u001b[0;34m\u001b[0m\u001b[0m\n\u001b[1;32m    217\u001b[0m \u001b[0;34m\u001b[0m\u001b[0m\n",
            "\u001b[0;32m/usr/local/lib/python3.10/dist-packages/torch/nn/modules/module.py\u001b[0m in \u001b[0;36m_wrapped_call_impl\u001b[0;34m(self, *args, **kwargs)\u001b[0m\n\u001b[1;32m   1516\u001b[0m             \u001b[0;32mreturn\u001b[0m \u001b[0mself\u001b[0m\u001b[0;34m.\u001b[0m\u001b[0m_compiled_call_impl\u001b[0m\u001b[0;34m(\u001b[0m\u001b[0;34m*\u001b[0m\u001b[0margs\u001b[0m\u001b[0;34m,\u001b[0m \u001b[0;34m**\u001b[0m\u001b[0mkwargs\u001b[0m\u001b[0;34m)\u001b[0m  \u001b[0;31m# type: ignore[misc]\u001b[0m\u001b[0;34m\u001b[0m\u001b[0;34m\u001b[0m\u001b[0m\n\u001b[1;32m   1517\u001b[0m         \u001b[0;32melse\u001b[0m\u001b[0;34m:\u001b[0m\u001b[0;34m\u001b[0m\u001b[0;34m\u001b[0m\u001b[0m\n\u001b[0;32m-> 1518\u001b[0;31m             \u001b[0;32mreturn\u001b[0m \u001b[0mself\u001b[0m\u001b[0;34m.\u001b[0m\u001b[0m_call_impl\u001b[0m\u001b[0;34m(\u001b[0m\u001b[0;34m*\u001b[0m\u001b[0margs\u001b[0m\u001b[0;34m,\u001b[0m \u001b[0;34m**\u001b[0m\u001b[0mkwargs\u001b[0m\u001b[0;34m)\u001b[0m\u001b[0;34m\u001b[0m\u001b[0;34m\u001b[0m\u001b[0m\n\u001b[0m\u001b[1;32m   1519\u001b[0m \u001b[0;34m\u001b[0m\u001b[0m\n\u001b[1;32m   1520\u001b[0m     \u001b[0;32mdef\u001b[0m \u001b[0m_call_impl\u001b[0m\u001b[0;34m(\u001b[0m\u001b[0mself\u001b[0m\u001b[0;34m,\u001b[0m \u001b[0;34m*\u001b[0m\u001b[0margs\u001b[0m\u001b[0;34m,\u001b[0m \u001b[0;34m**\u001b[0m\u001b[0mkwargs\u001b[0m\u001b[0;34m)\u001b[0m\u001b[0;34m:\u001b[0m\u001b[0;34m\u001b[0m\u001b[0;34m\u001b[0m\u001b[0m\n",
            "\u001b[0;32m/usr/local/lib/python3.10/dist-packages/torch/nn/modules/module.py\u001b[0m in \u001b[0;36m_call_impl\u001b[0;34m(self, *args, **kwargs)\u001b[0m\n\u001b[1;32m   1525\u001b[0m                 \u001b[0;32mor\u001b[0m \u001b[0m_global_backward_pre_hooks\u001b[0m \u001b[0;32mor\u001b[0m \u001b[0m_global_backward_hooks\u001b[0m\u001b[0;34m\u001b[0m\u001b[0;34m\u001b[0m\u001b[0m\n\u001b[1;32m   1526\u001b[0m                 or _global_forward_hooks or _global_forward_pre_hooks):\n\u001b[0;32m-> 1527\u001b[0;31m             \u001b[0;32mreturn\u001b[0m \u001b[0mforward_call\u001b[0m\u001b[0;34m(\u001b[0m\u001b[0;34m*\u001b[0m\u001b[0margs\u001b[0m\u001b[0;34m,\u001b[0m \u001b[0;34m**\u001b[0m\u001b[0mkwargs\u001b[0m\u001b[0;34m)\u001b[0m\u001b[0;34m\u001b[0m\u001b[0;34m\u001b[0m\u001b[0m\n\u001b[0m\u001b[1;32m   1528\u001b[0m \u001b[0;34m\u001b[0m\u001b[0m\n\u001b[1;32m   1529\u001b[0m         \u001b[0;32mtry\u001b[0m\u001b[0;34m:\u001b[0m\u001b[0;34m\u001b[0m\u001b[0;34m\u001b[0m\u001b[0m\n",
            "\u001b[0;32m/usr/local/lib/python3.10/dist-packages/sentence_transformers/models/Transformer.py\u001b[0m in \u001b[0;36mforward\u001b[0;34m(self, features)\u001b[0m\n\u001b[1;32m     96\u001b[0m             \u001b[0mtrans_features\u001b[0m\u001b[0;34m[\u001b[0m\u001b[0;34m\"token_type_ids\"\u001b[0m\u001b[0;34m]\u001b[0m \u001b[0;34m=\u001b[0m \u001b[0mfeatures\u001b[0m\u001b[0;34m[\u001b[0m\u001b[0;34m\"token_type_ids\"\u001b[0m\u001b[0;34m]\u001b[0m\u001b[0;34m\u001b[0m\u001b[0;34m\u001b[0m\u001b[0m\n\u001b[1;32m     97\u001b[0m \u001b[0;34m\u001b[0m\u001b[0m\n\u001b[0;32m---> 98\u001b[0;31m         \u001b[0moutput_states\u001b[0m \u001b[0;34m=\u001b[0m \u001b[0mself\u001b[0m\u001b[0;34m.\u001b[0m\u001b[0mauto_model\u001b[0m\u001b[0;34m(\u001b[0m\u001b[0;34m**\u001b[0m\u001b[0mtrans_features\u001b[0m\u001b[0;34m,\u001b[0m \u001b[0mreturn_dict\u001b[0m\u001b[0;34m=\u001b[0m\u001b[0;32mFalse\u001b[0m\u001b[0;34m)\u001b[0m\u001b[0;34m\u001b[0m\u001b[0;34m\u001b[0m\u001b[0m\n\u001b[0m\u001b[1;32m     99\u001b[0m         \u001b[0moutput_tokens\u001b[0m \u001b[0;34m=\u001b[0m \u001b[0moutput_states\u001b[0m\u001b[0;34m[\u001b[0m\u001b[0;36m0\u001b[0m\u001b[0;34m]\u001b[0m\u001b[0;34m\u001b[0m\u001b[0;34m\u001b[0m\u001b[0m\n\u001b[1;32m    100\u001b[0m \u001b[0;34m\u001b[0m\u001b[0m\n",
            "\u001b[0;32m/usr/local/lib/python3.10/dist-packages/torch/nn/modules/module.py\u001b[0m in \u001b[0;36m_wrapped_call_impl\u001b[0;34m(self, *args, **kwargs)\u001b[0m\n\u001b[1;32m   1516\u001b[0m             \u001b[0;32mreturn\u001b[0m \u001b[0mself\u001b[0m\u001b[0;34m.\u001b[0m\u001b[0m_compiled_call_impl\u001b[0m\u001b[0;34m(\u001b[0m\u001b[0;34m*\u001b[0m\u001b[0margs\u001b[0m\u001b[0;34m,\u001b[0m \u001b[0;34m**\u001b[0m\u001b[0mkwargs\u001b[0m\u001b[0;34m)\u001b[0m  \u001b[0;31m# type: ignore[misc]\u001b[0m\u001b[0;34m\u001b[0m\u001b[0;34m\u001b[0m\u001b[0m\n\u001b[1;32m   1517\u001b[0m         \u001b[0;32melse\u001b[0m\u001b[0;34m:\u001b[0m\u001b[0;34m\u001b[0m\u001b[0;34m\u001b[0m\u001b[0m\n\u001b[0;32m-> 1518\u001b[0;31m             \u001b[0;32mreturn\u001b[0m \u001b[0mself\u001b[0m\u001b[0;34m.\u001b[0m\u001b[0m_call_impl\u001b[0m\u001b[0;34m(\u001b[0m\u001b[0;34m*\u001b[0m\u001b[0margs\u001b[0m\u001b[0;34m,\u001b[0m \u001b[0;34m**\u001b[0m\u001b[0mkwargs\u001b[0m\u001b[0;34m)\u001b[0m\u001b[0;34m\u001b[0m\u001b[0;34m\u001b[0m\u001b[0m\n\u001b[0m\u001b[1;32m   1519\u001b[0m \u001b[0;34m\u001b[0m\u001b[0m\n\u001b[1;32m   1520\u001b[0m     \u001b[0;32mdef\u001b[0m \u001b[0m_call_impl\u001b[0m\u001b[0;34m(\u001b[0m\u001b[0mself\u001b[0m\u001b[0;34m,\u001b[0m \u001b[0;34m*\u001b[0m\u001b[0margs\u001b[0m\u001b[0;34m,\u001b[0m \u001b[0;34m**\u001b[0m\u001b[0mkwargs\u001b[0m\u001b[0;34m)\u001b[0m\u001b[0;34m:\u001b[0m\u001b[0;34m\u001b[0m\u001b[0;34m\u001b[0m\u001b[0m\n",
            "\u001b[0;32m/usr/local/lib/python3.10/dist-packages/torch/nn/modules/module.py\u001b[0m in \u001b[0;36m_call_impl\u001b[0;34m(self, *args, **kwargs)\u001b[0m\n\u001b[1;32m   1525\u001b[0m                 \u001b[0;32mor\u001b[0m \u001b[0m_global_backward_pre_hooks\u001b[0m \u001b[0;32mor\u001b[0m \u001b[0m_global_backward_hooks\u001b[0m\u001b[0;34m\u001b[0m\u001b[0;34m\u001b[0m\u001b[0m\n\u001b[1;32m   1526\u001b[0m                 or _global_forward_hooks or _global_forward_pre_hooks):\n\u001b[0;32m-> 1527\u001b[0;31m             \u001b[0;32mreturn\u001b[0m \u001b[0mforward_call\u001b[0m\u001b[0;34m(\u001b[0m\u001b[0;34m*\u001b[0m\u001b[0margs\u001b[0m\u001b[0;34m,\u001b[0m \u001b[0;34m**\u001b[0m\u001b[0mkwargs\u001b[0m\u001b[0;34m)\u001b[0m\u001b[0;34m\u001b[0m\u001b[0;34m\u001b[0m\u001b[0m\n\u001b[0m\u001b[1;32m   1528\u001b[0m \u001b[0;34m\u001b[0m\u001b[0m\n\u001b[1;32m   1529\u001b[0m         \u001b[0;32mtry\u001b[0m\u001b[0;34m:\u001b[0m\u001b[0;34m\u001b[0m\u001b[0;34m\u001b[0m\u001b[0m\n",
            "\u001b[0;32m/usr/local/lib/python3.10/dist-packages/transformers/models/bert/modeling_bert.py\u001b[0m in \u001b[0;36mforward\u001b[0;34m(self, input_ids, attention_mask, token_type_ids, position_ids, head_mask, inputs_embeds, encoder_hidden_states, encoder_attention_mask, past_key_values, use_cache, output_attentions, output_hidden_states, return_dict)\u001b[0m\n\u001b[1;32m   1011\u001b[0m             \u001b[0mpast_key_values_length\u001b[0m\u001b[0;34m=\u001b[0m\u001b[0mpast_key_values_length\u001b[0m\u001b[0;34m,\u001b[0m\u001b[0;34m\u001b[0m\u001b[0;34m\u001b[0m\u001b[0m\n\u001b[1;32m   1012\u001b[0m         )\n\u001b[0;32m-> 1013\u001b[0;31m         encoder_outputs = self.encoder(\n\u001b[0m\u001b[1;32m   1014\u001b[0m             \u001b[0membedding_output\u001b[0m\u001b[0;34m,\u001b[0m\u001b[0;34m\u001b[0m\u001b[0;34m\u001b[0m\u001b[0m\n\u001b[1;32m   1015\u001b[0m             \u001b[0mattention_mask\u001b[0m\u001b[0;34m=\u001b[0m\u001b[0mextended_attention_mask\u001b[0m\u001b[0;34m,\u001b[0m\u001b[0;34m\u001b[0m\u001b[0;34m\u001b[0m\u001b[0m\n",
            "\u001b[0;32m/usr/local/lib/python3.10/dist-packages/torch/nn/modules/module.py\u001b[0m in \u001b[0;36m_wrapped_call_impl\u001b[0;34m(self, *args, **kwargs)\u001b[0m\n\u001b[1;32m   1516\u001b[0m             \u001b[0;32mreturn\u001b[0m \u001b[0mself\u001b[0m\u001b[0;34m.\u001b[0m\u001b[0m_compiled_call_impl\u001b[0m\u001b[0;34m(\u001b[0m\u001b[0;34m*\u001b[0m\u001b[0margs\u001b[0m\u001b[0;34m,\u001b[0m \u001b[0;34m**\u001b[0m\u001b[0mkwargs\u001b[0m\u001b[0;34m)\u001b[0m  \u001b[0;31m# type: ignore[misc]\u001b[0m\u001b[0;34m\u001b[0m\u001b[0;34m\u001b[0m\u001b[0m\n\u001b[1;32m   1517\u001b[0m         \u001b[0;32melse\u001b[0m\u001b[0;34m:\u001b[0m\u001b[0;34m\u001b[0m\u001b[0;34m\u001b[0m\u001b[0m\n\u001b[0;32m-> 1518\u001b[0;31m             \u001b[0;32mreturn\u001b[0m \u001b[0mself\u001b[0m\u001b[0;34m.\u001b[0m\u001b[0m_call_impl\u001b[0m\u001b[0;34m(\u001b[0m\u001b[0;34m*\u001b[0m\u001b[0margs\u001b[0m\u001b[0;34m,\u001b[0m \u001b[0;34m**\u001b[0m\u001b[0mkwargs\u001b[0m\u001b[0;34m)\u001b[0m\u001b[0;34m\u001b[0m\u001b[0;34m\u001b[0m\u001b[0m\n\u001b[0m\u001b[1;32m   1519\u001b[0m \u001b[0;34m\u001b[0m\u001b[0m\n\u001b[1;32m   1520\u001b[0m     \u001b[0;32mdef\u001b[0m \u001b[0m_call_impl\u001b[0m\u001b[0;34m(\u001b[0m\u001b[0mself\u001b[0m\u001b[0;34m,\u001b[0m \u001b[0;34m*\u001b[0m\u001b[0margs\u001b[0m\u001b[0;34m,\u001b[0m \u001b[0;34m**\u001b[0m\u001b[0mkwargs\u001b[0m\u001b[0;34m)\u001b[0m\u001b[0;34m:\u001b[0m\u001b[0;34m\u001b[0m\u001b[0;34m\u001b[0m\u001b[0m\n",
            "\u001b[0;32m/usr/local/lib/python3.10/dist-packages/torch/nn/modules/module.py\u001b[0m in \u001b[0;36m_call_impl\u001b[0;34m(self, *args, **kwargs)\u001b[0m\n\u001b[1;32m   1525\u001b[0m                 \u001b[0;32mor\u001b[0m \u001b[0m_global_backward_pre_hooks\u001b[0m \u001b[0;32mor\u001b[0m \u001b[0m_global_backward_hooks\u001b[0m\u001b[0;34m\u001b[0m\u001b[0;34m\u001b[0m\u001b[0m\n\u001b[1;32m   1526\u001b[0m                 or _global_forward_hooks or _global_forward_pre_hooks):\n\u001b[0;32m-> 1527\u001b[0;31m             \u001b[0;32mreturn\u001b[0m \u001b[0mforward_call\u001b[0m\u001b[0;34m(\u001b[0m\u001b[0;34m*\u001b[0m\u001b[0margs\u001b[0m\u001b[0;34m,\u001b[0m \u001b[0;34m**\u001b[0m\u001b[0mkwargs\u001b[0m\u001b[0;34m)\u001b[0m\u001b[0;34m\u001b[0m\u001b[0;34m\u001b[0m\u001b[0m\n\u001b[0m\u001b[1;32m   1528\u001b[0m \u001b[0;34m\u001b[0m\u001b[0m\n\u001b[1;32m   1529\u001b[0m         \u001b[0;32mtry\u001b[0m\u001b[0;34m:\u001b[0m\u001b[0;34m\u001b[0m\u001b[0;34m\u001b[0m\u001b[0m\n",
            "\u001b[0;32m/usr/local/lib/python3.10/dist-packages/transformers/models/bert/modeling_bert.py\u001b[0m in \u001b[0;36mforward\u001b[0;34m(self, hidden_states, attention_mask, head_mask, encoder_hidden_states, encoder_attention_mask, past_key_values, use_cache, output_attentions, output_hidden_states, return_dict)\u001b[0m\n\u001b[1;32m    605\u001b[0m                 )\n\u001b[1;32m    606\u001b[0m             \u001b[0;32melse\u001b[0m\u001b[0;34m:\u001b[0m\u001b[0;34m\u001b[0m\u001b[0;34m\u001b[0m\u001b[0m\n\u001b[0;32m--> 607\u001b[0;31m                 layer_outputs = layer_module(\n\u001b[0m\u001b[1;32m    608\u001b[0m                     \u001b[0mhidden_states\u001b[0m\u001b[0;34m,\u001b[0m\u001b[0;34m\u001b[0m\u001b[0;34m\u001b[0m\u001b[0m\n\u001b[1;32m    609\u001b[0m                     \u001b[0mattention_mask\u001b[0m\u001b[0;34m,\u001b[0m\u001b[0;34m\u001b[0m\u001b[0;34m\u001b[0m\u001b[0m\n",
            "\u001b[0;32m/usr/local/lib/python3.10/dist-packages/torch/nn/modules/module.py\u001b[0m in \u001b[0;36m_wrapped_call_impl\u001b[0;34m(self, *args, **kwargs)\u001b[0m\n\u001b[1;32m   1516\u001b[0m             \u001b[0;32mreturn\u001b[0m \u001b[0mself\u001b[0m\u001b[0;34m.\u001b[0m\u001b[0m_compiled_call_impl\u001b[0m\u001b[0;34m(\u001b[0m\u001b[0;34m*\u001b[0m\u001b[0margs\u001b[0m\u001b[0;34m,\u001b[0m \u001b[0;34m**\u001b[0m\u001b[0mkwargs\u001b[0m\u001b[0;34m)\u001b[0m  \u001b[0;31m# type: ignore[misc]\u001b[0m\u001b[0;34m\u001b[0m\u001b[0;34m\u001b[0m\u001b[0m\n\u001b[1;32m   1517\u001b[0m         \u001b[0;32melse\u001b[0m\u001b[0;34m:\u001b[0m\u001b[0;34m\u001b[0m\u001b[0;34m\u001b[0m\u001b[0m\n\u001b[0;32m-> 1518\u001b[0;31m             \u001b[0;32mreturn\u001b[0m \u001b[0mself\u001b[0m\u001b[0;34m.\u001b[0m\u001b[0m_call_impl\u001b[0m\u001b[0;34m(\u001b[0m\u001b[0;34m*\u001b[0m\u001b[0margs\u001b[0m\u001b[0;34m,\u001b[0m \u001b[0;34m**\u001b[0m\u001b[0mkwargs\u001b[0m\u001b[0;34m)\u001b[0m\u001b[0;34m\u001b[0m\u001b[0;34m\u001b[0m\u001b[0m\n\u001b[0m\u001b[1;32m   1519\u001b[0m \u001b[0;34m\u001b[0m\u001b[0m\n\u001b[1;32m   1520\u001b[0m     \u001b[0;32mdef\u001b[0m \u001b[0m_call_impl\u001b[0m\u001b[0;34m(\u001b[0m\u001b[0mself\u001b[0m\u001b[0;34m,\u001b[0m \u001b[0;34m*\u001b[0m\u001b[0margs\u001b[0m\u001b[0;34m,\u001b[0m \u001b[0;34m**\u001b[0m\u001b[0mkwargs\u001b[0m\u001b[0;34m)\u001b[0m\u001b[0;34m:\u001b[0m\u001b[0;34m\u001b[0m\u001b[0;34m\u001b[0m\u001b[0m\n",
            "\u001b[0;32m/usr/local/lib/python3.10/dist-packages/torch/nn/modules/module.py\u001b[0m in \u001b[0;36m_call_impl\u001b[0;34m(self, *args, **kwargs)\u001b[0m\n\u001b[1;32m   1525\u001b[0m                 \u001b[0;32mor\u001b[0m \u001b[0m_global_backward_pre_hooks\u001b[0m \u001b[0;32mor\u001b[0m \u001b[0m_global_backward_hooks\u001b[0m\u001b[0;34m\u001b[0m\u001b[0;34m\u001b[0m\u001b[0m\n\u001b[1;32m   1526\u001b[0m                 or _global_forward_hooks or _global_forward_pre_hooks):\n\u001b[0;32m-> 1527\u001b[0;31m             \u001b[0;32mreturn\u001b[0m \u001b[0mforward_call\u001b[0m\u001b[0;34m(\u001b[0m\u001b[0;34m*\u001b[0m\u001b[0margs\u001b[0m\u001b[0;34m,\u001b[0m \u001b[0;34m**\u001b[0m\u001b[0mkwargs\u001b[0m\u001b[0;34m)\u001b[0m\u001b[0;34m\u001b[0m\u001b[0;34m\u001b[0m\u001b[0m\n\u001b[0m\u001b[1;32m   1528\u001b[0m \u001b[0;34m\u001b[0m\u001b[0m\n\u001b[1;32m   1529\u001b[0m         \u001b[0;32mtry\u001b[0m\u001b[0;34m:\u001b[0m\u001b[0;34m\u001b[0m\u001b[0;34m\u001b[0m\u001b[0m\n",
            "\u001b[0;32m/usr/local/lib/python3.10/dist-packages/transformers/models/bert/modeling_bert.py\u001b[0m in \u001b[0;36mforward\u001b[0;34m(self, hidden_states, attention_mask, head_mask, encoder_hidden_states, encoder_attention_mask, past_key_value, output_attentions)\u001b[0m\n\u001b[1;32m    495\u001b[0m         \u001b[0;31m# decoder uni-directional self-attention cached key/values tuple is at positions 1,2\u001b[0m\u001b[0;34m\u001b[0m\u001b[0;34m\u001b[0m\u001b[0m\n\u001b[1;32m    496\u001b[0m         \u001b[0mself_attn_past_key_value\u001b[0m \u001b[0;34m=\u001b[0m \u001b[0mpast_key_value\u001b[0m\u001b[0;34m[\u001b[0m\u001b[0;34m:\u001b[0m\u001b[0;36m2\u001b[0m\u001b[0;34m]\u001b[0m \u001b[0;32mif\u001b[0m \u001b[0mpast_key_value\u001b[0m \u001b[0;32mis\u001b[0m \u001b[0;32mnot\u001b[0m \u001b[0;32mNone\u001b[0m \u001b[0;32melse\u001b[0m \u001b[0;32mNone\u001b[0m\u001b[0;34m\u001b[0m\u001b[0;34m\u001b[0m\u001b[0m\n\u001b[0;32m--> 497\u001b[0;31m         self_attention_outputs = self.attention(\n\u001b[0m\u001b[1;32m    498\u001b[0m             \u001b[0mhidden_states\u001b[0m\u001b[0;34m,\u001b[0m\u001b[0;34m\u001b[0m\u001b[0;34m\u001b[0m\u001b[0m\n\u001b[1;32m    499\u001b[0m             \u001b[0mattention_mask\u001b[0m\u001b[0;34m,\u001b[0m\u001b[0;34m\u001b[0m\u001b[0;34m\u001b[0m\u001b[0m\n",
            "\u001b[0;32m/usr/local/lib/python3.10/dist-packages/torch/nn/modules/module.py\u001b[0m in \u001b[0;36m_wrapped_call_impl\u001b[0;34m(self, *args, **kwargs)\u001b[0m\n\u001b[1;32m   1516\u001b[0m             \u001b[0;32mreturn\u001b[0m \u001b[0mself\u001b[0m\u001b[0;34m.\u001b[0m\u001b[0m_compiled_call_impl\u001b[0m\u001b[0;34m(\u001b[0m\u001b[0;34m*\u001b[0m\u001b[0margs\u001b[0m\u001b[0;34m,\u001b[0m \u001b[0;34m**\u001b[0m\u001b[0mkwargs\u001b[0m\u001b[0;34m)\u001b[0m  \u001b[0;31m# type: ignore[misc]\u001b[0m\u001b[0;34m\u001b[0m\u001b[0;34m\u001b[0m\u001b[0m\n\u001b[1;32m   1517\u001b[0m         \u001b[0;32melse\u001b[0m\u001b[0;34m:\u001b[0m\u001b[0;34m\u001b[0m\u001b[0;34m\u001b[0m\u001b[0m\n\u001b[0;32m-> 1518\u001b[0;31m             \u001b[0;32mreturn\u001b[0m \u001b[0mself\u001b[0m\u001b[0;34m.\u001b[0m\u001b[0m_call_impl\u001b[0m\u001b[0;34m(\u001b[0m\u001b[0;34m*\u001b[0m\u001b[0margs\u001b[0m\u001b[0;34m,\u001b[0m \u001b[0;34m**\u001b[0m\u001b[0mkwargs\u001b[0m\u001b[0;34m)\u001b[0m\u001b[0;34m\u001b[0m\u001b[0;34m\u001b[0m\u001b[0m\n\u001b[0m\u001b[1;32m   1519\u001b[0m \u001b[0;34m\u001b[0m\u001b[0m\n\u001b[1;32m   1520\u001b[0m     \u001b[0;32mdef\u001b[0m \u001b[0m_call_impl\u001b[0m\u001b[0;34m(\u001b[0m\u001b[0mself\u001b[0m\u001b[0;34m,\u001b[0m \u001b[0;34m*\u001b[0m\u001b[0margs\u001b[0m\u001b[0;34m,\u001b[0m \u001b[0;34m**\u001b[0m\u001b[0mkwargs\u001b[0m\u001b[0;34m)\u001b[0m\u001b[0;34m:\u001b[0m\u001b[0;34m\u001b[0m\u001b[0;34m\u001b[0m\u001b[0m\n",
            "\u001b[0;32m/usr/local/lib/python3.10/dist-packages/torch/nn/modules/module.py\u001b[0m in \u001b[0;36m_call_impl\u001b[0;34m(self, *args, **kwargs)\u001b[0m\n\u001b[1;32m   1525\u001b[0m                 \u001b[0;32mor\u001b[0m \u001b[0m_global_backward_pre_hooks\u001b[0m \u001b[0;32mor\u001b[0m \u001b[0m_global_backward_hooks\u001b[0m\u001b[0;34m\u001b[0m\u001b[0;34m\u001b[0m\u001b[0m\n\u001b[1;32m   1526\u001b[0m                 or _global_forward_hooks or _global_forward_pre_hooks):\n\u001b[0;32m-> 1527\u001b[0;31m             \u001b[0;32mreturn\u001b[0m \u001b[0mforward_call\u001b[0m\u001b[0;34m(\u001b[0m\u001b[0;34m*\u001b[0m\u001b[0margs\u001b[0m\u001b[0;34m,\u001b[0m \u001b[0;34m**\u001b[0m\u001b[0mkwargs\u001b[0m\u001b[0;34m)\u001b[0m\u001b[0;34m\u001b[0m\u001b[0;34m\u001b[0m\u001b[0m\n\u001b[0m\u001b[1;32m   1528\u001b[0m \u001b[0;34m\u001b[0m\u001b[0m\n\u001b[1;32m   1529\u001b[0m         \u001b[0;32mtry\u001b[0m\u001b[0;34m:\u001b[0m\u001b[0;34m\u001b[0m\u001b[0;34m\u001b[0m\u001b[0m\n",
            "\u001b[0;32m/usr/local/lib/python3.10/dist-packages/transformers/models/bert/modeling_bert.py\u001b[0m in \u001b[0;36mforward\u001b[0;34m(self, hidden_states, attention_mask, head_mask, encoder_hidden_states, encoder_attention_mask, past_key_value, output_attentions)\u001b[0m\n\u001b[1;32m    434\u001b[0m             \u001b[0moutput_attentions\u001b[0m\u001b[0;34m,\u001b[0m\u001b[0;34m\u001b[0m\u001b[0;34m\u001b[0m\u001b[0m\n\u001b[1;32m    435\u001b[0m         )\n\u001b[0;32m--> 436\u001b[0;31m         \u001b[0mattention_output\u001b[0m \u001b[0;34m=\u001b[0m \u001b[0mself\u001b[0m\u001b[0;34m.\u001b[0m\u001b[0moutput\u001b[0m\u001b[0;34m(\u001b[0m\u001b[0mself_outputs\u001b[0m\u001b[0;34m[\u001b[0m\u001b[0;36m0\u001b[0m\u001b[0;34m]\u001b[0m\u001b[0;34m,\u001b[0m \u001b[0mhidden_states\u001b[0m\u001b[0;34m)\u001b[0m\u001b[0;34m\u001b[0m\u001b[0;34m\u001b[0m\u001b[0m\n\u001b[0m\u001b[1;32m    437\u001b[0m         \u001b[0moutputs\u001b[0m \u001b[0;34m=\u001b[0m \u001b[0;34m(\u001b[0m\u001b[0mattention_output\u001b[0m\u001b[0;34m,\u001b[0m\u001b[0;34m)\u001b[0m \u001b[0;34m+\u001b[0m \u001b[0mself_outputs\u001b[0m\u001b[0;34m[\u001b[0m\u001b[0;36m1\u001b[0m\u001b[0;34m:\u001b[0m\u001b[0;34m]\u001b[0m  \u001b[0;31m# add attentions if we output them\u001b[0m\u001b[0;34m\u001b[0m\u001b[0;34m\u001b[0m\u001b[0m\n\u001b[1;32m    438\u001b[0m         \u001b[0;32mreturn\u001b[0m \u001b[0moutputs\u001b[0m\u001b[0;34m\u001b[0m\u001b[0;34m\u001b[0m\u001b[0m\n",
            "\u001b[0;32m/usr/local/lib/python3.10/dist-packages/torch/nn/modules/module.py\u001b[0m in \u001b[0;36m_wrapped_call_impl\u001b[0;34m(self, *args, **kwargs)\u001b[0m\n\u001b[1;32m   1516\u001b[0m             \u001b[0;32mreturn\u001b[0m \u001b[0mself\u001b[0m\u001b[0;34m.\u001b[0m\u001b[0m_compiled_call_impl\u001b[0m\u001b[0;34m(\u001b[0m\u001b[0;34m*\u001b[0m\u001b[0margs\u001b[0m\u001b[0;34m,\u001b[0m \u001b[0;34m**\u001b[0m\u001b[0mkwargs\u001b[0m\u001b[0;34m)\u001b[0m  \u001b[0;31m# type: ignore[misc]\u001b[0m\u001b[0;34m\u001b[0m\u001b[0;34m\u001b[0m\u001b[0m\n\u001b[1;32m   1517\u001b[0m         \u001b[0;32melse\u001b[0m\u001b[0;34m:\u001b[0m\u001b[0;34m\u001b[0m\u001b[0;34m\u001b[0m\u001b[0m\n\u001b[0;32m-> 1518\u001b[0;31m             \u001b[0;32mreturn\u001b[0m \u001b[0mself\u001b[0m\u001b[0;34m.\u001b[0m\u001b[0m_call_impl\u001b[0m\u001b[0;34m(\u001b[0m\u001b[0;34m*\u001b[0m\u001b[0margs\u001b[0m\u001b[0;34m,\u001b[0m \u001b[0;34m**\u001b[0m\u001b[0mkwargs\u001b[0m\u001b[0;34m)\u001b[0m\u001b[0;34m\u001b[0m\u001b[0;34m\u001b[0m\u001b[0m\n\u001b[0m\u001b[1;32m   1519\u001b[0m \u001b[0;34m\u001b[0m\u001b[0m\n\u001b[1;32m   1520\u001b[0m     \u001b[0;32mdef\u001b[0m \u001b[0m_call_impl\u001b[0m\u001b[0;34m(\u001b[0m\u001b[0mself\u001b[0m\u001b[0;34m,\u001b[0m \u001b[0;34m*\u001b[0m\u001b[0margs\u001b[0m\u001b[0;34m,\u001b[0m \u001b[0;34m**\u001b[0m\u001b[0mkwargs\u001b[0m\u001b[0;34m)\u001b[0m\u001b[0;34m:\u001b[0m\u001b[0;34m\u001b[0m\u001b[0;34m\u001b[0m\u001b[0m\n",
            "\u001b[0;32m/usr/local/lib/python3.10/dist-packages/torch/nn/modules/module.py\u001b[0m in \u001b[0;36m_call_impl\u001b[0;34m(self, *args, **kwargs)\u001b[0m\n\u001b[1;32m   1525\u001b[0m                 \u001b[0;32mor\u001b[0m \u001b[0m_global_backward_pre_hooks\u001b[0m \u001b[0;32mor\u001b[0m \u001b[0m_global_backward_hooks\u001b[0m\u001b[0;34m\u001b[0m\u001b[0;34m\u001b[0m\u001b[0m\n\u001b[1;32m   1526\u001b[0m                 or _global_forward_hooks or _global_forward_pre_hooks):\n\u001b[0;32m-> 1527\u001b[0;31m             \u001b[0;32mreturn\u001b[0m \u001b[0mforward_call\u001b[0m\u001b[0;34m(\u001b[0m\u001b[0;34m*\u001b[0m\u001b[0margs\u001b[0m\u001b[0;34m,\u001b[0m \u001b[0;34m**\u001b[0m\u001b[0mkwargs\u001b[0m\u001b[0;34m)\u001b[0m\u001b[0;34m\u001b[0m\u001b[0;34m\u001b[0m\u001b[0m\n\u001b[0m\u001b[1;32m   1528\u001b[0m \u001b[0;34m\u001b[0m\u001b[0m\n\u001b[1;32m   1529\u001b[0m         \u001b[0;32mtry\u001b[0m\u001b[0;34m:\u001b[0m\u001b[0;34m\u001b[0m\u001b[0;34m\u001b[0m\u001b[0m\n",
            "\u001b[0;32m/usr/local/lib/python3.10/dist-packages/transformers/models/bert/modeling_bert.py\u001b[0m in \u001b[0;36mforward\u001b[0;34m(self, hidden_states, input_tensor)\u001b[0m\n\u001b[1;32m    384\u001b[0m \u001b[0;34m\u001b[0m\u001b[0m\n\u001b[1;32m    385\u001b[0m     \u001b[0;32mdef\u001b[0m \u001b[0mforward\u001b[0m\u001b[0;34m(\u001b[0m\u001b[0mself\u001b[0m\u001b[0;34m,\u001b[0m \u001b[0mhidden_states\u001b[0m\u001b[0;34m:\u001b[0m \u001b[0mtorch\u001b[0m\u001b[0;34m.\u001b[0m\u001b[0mTensor\u001b[0m\u001b[0;34m,\u001b[0m \u001b[0minput_tensor\u001b[0m\u001b[0;34m:\u001b[0m \u001b[0mtorch\u001b[0m\u001b[0;34m.\u001b[0m\u001b[0mTensor\u001b[0m\u001b[0;34m)\u001b[0m \u001b[0;34m->\u001b[0m \u001b[0mtorch\u001b[0m\u001b[0;34m.\u001b[0m\u001b[0mTensor\u001b[0m\u001b[0;34m:\u001b[0m\u001b[0;34m\u001b[0m\u001b[0;34m\u001b[0m\u001b[0m\n\u001b[0;32m--> 386\u001b[0;31m         \u001b[0mhidden_states\u001b[0m \u001b[0;34m=\u001b[0m \u001b[0mself\u001b[0m\u001b[0;34m.\u001b[0m\u001b[0mdense\u001b[0m\u001b[0;34m(\u001b[0m\u001b[0mhidden_states\u001b[0m\u001b[0;34m)\u001b[0m\u001b[0;34m\u001b[0m\u001b[0;34m\u001b[0m\u001b[0m\n\u001b[0m\u001b[1;32m    387\u001b[0m         \u001b[0mhidden_states\u001b[0m \u001b[0;34m=\u001b[0m \u001b[0mself\u001b[0m\u001b[0;34m.\u001b[0m\u001b[0mdropout\u001b[0m\u001b[0;34m(\u001b[0m\u001b[0mhidden_states\u001b[0m\u001b[0;34m)\u001b[0m\u001b[0;34m\u001b[0m\u001b[0;34m\u001b[0m\u001b[0m\n\u001b[1;32m    388\u001b[0m         \u001b[0mhidden_states\u001b[0m \u001b[0;34m=\u001b[0m \u001b[0mself\u001b[0m\u001b[0;34m.\u001b[0m\u001b[0mLayerNorm\u001b[0m\u001b[0;34m(\u001b[0m\u001b[0mhidden_states\u001b[0m \u001b[0;34m+\u001b[0m \u001b[0minput_tensor\u001b[0m\u001b[0;34m)\u001b[0m\u001b[0;34m\u001b[0m\u001b[0;34m\u001b[0m\u001b[0m\n",
            "\u001b[0;32m/usr/local/lib/python3.10/dist-packages/torch/nn/modules/module.py\u001b[0m in \u001b[0;36m_wrapped_call_impl\u001b[0;34m(self, *args, **kwargs)\u001b[0m\n\u001b[1;32m   1516\u001b[0m             \u001b[0;32mreturn\u001b[0m \u001b[0mself\u001b[0m\u001b[0;34m.\u001b[0m\u001b[0m_compiled_call_impl\u001b[0m\u001b[0;34m(\u001b[0m\u001b[0;34m*\u001b[0m\u001b[0margs\u001b[0m\u001b[0;34m,\u001b[0m \u001b[0;34m**\u001b[0m\u001b[0mkwargs\u001b[0m\u001b[0;34m)\u001b[0m  \u001b[0;31m# type: ignore[misc]\u001b[0m\u001b[0;34m\u001b[0m\u001b[0;34m\u001b[0m\u001b[0m\n\u001b[1;32m   1517\u001b[0m         \u001b[0;32melse\u001b[0m\u001b[0;34m:\u001b[0m\u001b[0;34m\u001b[0m\u001b[0;34m\u001b[0m\u001b[0m\n\u001b[0;32m-> 1518\u001b[0;31m             \u001b[0;32mreturn\u001b[0m \u001b[0mself\u001b[0m\u001b[0;34m.\u001b[0m\u001b[0m_call_impl\u001b[0m\u001b[0;34m(\u001b[0m\u001b[0;34m*\u001b[0m\u001b[0margs\u001b[0m\u001b[0;34m,\u001b[0m \u001b[0;34m**\u001b[0m\u001b[0mkwargs\u001b[0m\u001b[0;34m)\u001b[0m\u001b[0;34m\u001b[0m\u001b[0;34m\u001b[0m\u001b[0m\n\u001b[0m\u001b[1;32m   1519\u001b[0m \u001b[0;34m\u001b[0m\u001b[0m\n\u001b[1;32m   1520\u001b[0m     \u001b[0;32mdef\u001b[0m \u001b[0m_call_impl\u001b[0m\u001b[0;34m(\u001b[0m\u001b[0mself\u001b[0m\u001b[0;34m,\u001b[0m \u001b[0;34m*\u001b[0m\u001b[0margs\u001b[0m\u001b[0;34m,\u001b[0m \u001b[0;34m**\u001b[0m\u001b[0mkwargs\u001b[0m\u001b[0;34m)\u001b[0m\u001b[0;34m:\u001b[0m\u001b[0;34m\u001b[0m\u001b[0;34m\u001b[0m\u001b[0m\n",
            "\u001b[0;32m/usr/local/lib/python3.10/dist-packages/torch/nn/modules/module.py\u001b[0m in \u001b[0;36m_call_impl\u001b[0;34m(self, *args, **kwargs)\u001b[0m\n\u001b[1;32m   1525\u001b[0m                 \u001b[0;32mor\u001b[0m \u001b[0m_global_backward_pre_hooks\u001b[0m \u001b[0;32mor\u001b[0m \u001b[0m_global_backward_hooks\u001b[0m\u001b[0;34m\u001b[0m\u001b[0;34m\u001b[0m\u001b[0m\n\u001b[1;32m   1526\u001b[0m                 or _global_forward_hooks or _global_forward_pre_hooks):\n\u001b[0;32m-> 1527\u001b[0;31m             \u001b[0;32mreturn\u001b[0m \u001b[0mforward_call\u001b[0m\u001b[0;34m(\u001b[0m\u001b[0;34m*\u001b[0m\u001b[0margs\u001b[0m\u001b[0;34m,\u001b[0m \u001b[0;34m**\u001b[0m\u001b[0mkwargs\u001b[0m\u001b[0;34m)\u001b[0m\u001b[0;34m\u001b[0m\u001b[0;34m\u001b[0m\u001b[0m\n\u001b[0m\u001b[1;32m   1528\u001b[0m \u001b[0;34m\u001b[0m\u001b[0m\n\u001b[1;32m   1529\u001b[0m         \u001b[0;32mtry\u001b[0m\u001b[0;34m:\u001b[0m\u001b[0;34m\u001b[0m\u001b[0;34m\u001b[0m\u001b[0m\n",
            "\u001b[0;32m/usr/local/lib/python3.10/dist-packages/torch/nn/modules/linear.py\u001b[0m in \u001b[0;36mforward\u001b[0;34m(self, input)\u001b[0m\n\u001b[1;32m    112\u001b[0m \u001b[0;34m\u001b[0m\u001b[0m\n\u001b[1;32m    113\u001b[0m     \u001b[0;32mdef\u001b[0m \u001b[0mforward\u001b[0m\u001b[0;34m(\u001b[0m\u001b[0mself\u001b[0m\u001b[0;34m,\u001b[0m \u001b[0minput\u001b[0m\u001b[0;34m:\u001b[0m \u001b[0mTensor\u001b[0m\u001b[0;34m)\u001b[0m \u001b[0;34m->\u001b[0m \u001b[0mTensor\u001b[0m\u001b[0;34m:\u001b[0m\u001b[0;34m\u001b[0m\u001b[0;34m\u001b[0m\u001b[0m\n\u001b[0;32m--> 114\u001b[0;31m         \u001b[0;32mreturn\u001b[0m \u001b[0mF\u001b[0m\u001b[0;34m.\u001b[0m\u001b[0mlinear\u001b[0m\u001b[0;34m(\u001b[0m\u001b[0minput\u001b[0m\u001b[0;34m,\u001b[0m \u001b[0mself\u001b[0m\u001b[0;34m.\u001b[0m\u001b[0mweight\u001b[0m\u001b[0;34m,\u001b[0m \u001b[0mself\u001b[0m\u001b[0;34m.\u001b[0m\u001b[0mbias\u001b[0m\u001b[0;34m)\u001b[0m\u001b[0;34m\u001b[0m\u001b[0;34m\u001b[0m\u001b[0m\n\u001b[0m\u001b[1;32m    115\u001b[0m \u001b[0;34m\u001b[0m\u001b[0m\n\u001b[1;32m    116\u001b[0m     \u001b[0;32mdef\u001b[0m \u001b[0mextra_repr\u001b[0m\u001b[0;34m(\u001b[0m\u001b[0mself\u001b[0m\u001b[0;34m)\u001b[0m \u001b[0;34m->\u001b[0m \u001b[0mstr\u001b[0m\u001b[0;34m:\u001b[0m\u001b[0;34m\u001b[0m\u001b[0;34m\u001b[0m\u001b[0m\n",
            "\u001b[0;31mKeyboardInterrupt\u001b[0m: "
          ]
        }
      ]
    },
    {
      "cell_type": "code",
      "source": [
        "# Save the trained model\n",
        "topic_model.save(\"unsupervised_topic_model\")"
      ],
      "metadata": {
        "id": "0aambrQGJqIH"
      },
      "execution_count": null,
      "outputs": []
    },
    {
      "cell_type": "code",
      "source": [
        "topic_model.get_topic_freq()"
      ],
      "metadata": {
        "id": "1L8sEzfTJtIT"
      },
      "execution_count": null,
      "outputs": []
    },
    {
      "cell_type": "code",
      "source": [
        "# Total Number of Topics in the Model\n",
        "num_topics = topic_model.get_topics().shape[0]\n",
        "\n",
        "all_topics_data = []\n",
        "for topic in range(-1, num_topics):\n",
        "    top_words = topic_model.get_topic(topic)\n",
        "    count = topic_model.get_topic_freq(topic)\n",
        "    all_topics_data.append((topic, top_words, count))"
      ],
      "metadata": {
        "id": "WcdE_weSKUhY"
      },
      "execution_count": null,
      "outputs": []
    },
    {
      "cell_type": "code",
      "source": [
        "filename = 'unsupervised_topics.csv'\n",
        "with open(filename, mode='w', newline='', encoding='utf-8') as file:\n",
        "    writer = csv.writer(file)\n",
        "    writer.writerow(['topic', 'top_10_words', 'count'])\n",
        "    for row in all_topics_data:\n",
        "        writer.writerow(row)"
      ],
      "metadata": {
        "id": "yC18NvDfbwtD"
      },
      "execution_count": null,
      "outputs": []
    },
    {
      "cell_type": "markdown",
      "source": [
        "Chat GPT label interpretation"
      ],
      "metadata": {
        "id": "EwINdsgUdNOE"
      }
    },
    {
      "cell_type": "code",
      "source": [
        "df_topics = pd.read_csv('/content/updated_unsupervised_topics.csv')\n",
        "\n",
        "# Dictionary topic : label or top 10 words\n",
        "topic_dictionary = dict(zip(df_topics['topic'], df_topics['label']))\n",
        "top10words_dictionary = dict(zip(df_topics['topic'], df_topics['top_10_words']))\n",
        "\n",
        "df['topic'] = topics\n",
        "df['top_10_words'] = df['topic'].map(top10words_dictionary)\n",
        "df['topic_name'] = df['topic'].map(topic_dictionary)\n",
        "\n",
        "df[['id', 'title', 'user_fk', 'created_at', 'comments', 'topic', 'top_10_words', 'topic_name']].to_csv('full_data_classified.csv', index=False)"
      ],
      "metadata": {
        "id": "5yk-bBiPKCDY"
      },
      "execution_count": null,
      "outputs": []
    },
    {
      "cell_type": "markdown",
      "source": [
        "Coherence Score"
      ],
      "metadata": {
        "id": "OL8q2cAqb4XQ"
      }
    },
    {
      "cell_type": "code",
      "source": [
        "documents = pd.DataFrame({\"Document\": df.body_with_comments,\n",
        "                          \"ID\": range(len(df.body_with_comments)),\n",
        "                          \"Topic\": topics})\n",
        "\n",
        "documents_per_topic = documents.groupby(['Topic'], as_index=False).agg({'Document': ' '.join})\n",
        "cleaned_docs = topic_model._preprocess_text(documents_per_topic.Document.values)"
      ],
      "metadata": {
        "id": "gyWIT6B5KCid"
      },
      "execution_count": null,
      "outputs": []
    },
    {
      "cell_type": "code",
      "source": [
        "# Extract vectorizer and analyzer from BERTopic\n",
        "vectorizer = topic_model.vectorizer_model\n",
        "analyzer = vectorizer.build_analyzer()"
      ],
      "metadata": {
        "id": "rNW-DmjGKCaz"
      },
      "execution_count": null,
      "outputs": []
    },
    {
      "cell_type": "code",
      "source": [
        "# Extract features for Topic Coherence evaluation\n",
        "words = vectorizer.get_feature_names_out()\n",
        "tokens = [analyzer(doc) for doc in cleaned_docs]\n",
        "dictionary = corpora.Dictionary(tokens)\n",
        "corpus = [dictionary.doc2bow(token) for token in tokens]\n",
        "topic_words = [[words for words, _ in model.get_topic(topic)]\n",
        "              for topic in range(len(set(topics))-1)]"
      ],
      "metadata": {
        "id": "2YkKDt1mKidN"
      },
      "execution_count": null,
      "outputs": []
    },
    {
      "cell_type": "code",
      "source": [
        "# Coherence computation using CoherenceModel of Gensim\n",
        "coherence_model = CoherenceModel(topics=topic_words,\n",
        "                                texts=tokens,\n",
        "                                corpus=corpus,\n",
        "                                dictionary=dictionary,\n",
        "                                coherence='c_v')\n",
        "coherence_score = coherence_model.get_coherence()"
      ],
      "metadata": {
        "id": "CfwcyC-HKk37"
      },
      "execution_count": null,
      "outputs": []
    },
    {
      "cell_type": "markdown",
      "source": [
        "It is possible to reduce the number of topics fixing the BERTopic parameter nr_topics = \"auto\" or 10, 20, 30, 40, 50, 60 ..."
      ],
      "metadata": {
        "id": "wNJ8rNOBIx92"
      }
    },
    {
      "cell_type": "markdown",
      "source": [
        "General plots"
      ],
      "metadata": {
        "id": "LtBLX28Rdth7"
      }
    },
    {
      "cell_type": "code",
      "source": [
        "df = pd.read_csv('full_data_classified.csv')\n",
        "df_filtered = df[df['topic_name'] != 'Undefined']\n",
        "df_filtered.to_csv('full_data_classified_filtered.csv', index=False)"
      ],
      "metadata": {
        "id": "Ur1WGasIILx5"
      },
      "execution_count": null,
      "outputs": []
    },
    {
      "cell_type": "code",
      "source": [
        "df_filtered = pd.read_csv('full_data_classified_filtered.csv')\n",
        "\n",
        "total_comments_per_year = df_filtered.groupby(df_filtered['created_at'].str.slice(0, 4))['comments'].sum()\n",
        "df_filtered['total_comments_per_year'] = df_filtered['created_at'].str.slice(0, 4).map(total_comments_per_year)\n",
        "df_filtered['comment_percentage'] = df_filtered['comments'] / df_filtered['total_comments_per_year'] * 100\n",
        "\n",
        "discussion_counts = df_filtered.groupby('topic_name').size().sort_values(ascending=False)\n",
        "top_discussed_topics = discussion_counts.head(5)\n",
        "\n",
        "df_filtered['year'] = pd.to_datetime(df_filtered['created_at']).dt.year\n",
        "\n",
        "top_topics = list(top_discussed_topics.index)\n",
        "df_top_topics = df_filtered[df_filtered['topic_name'].isin(top_topics)]\n",
        "unique_years = sorted(df_top_topics['year'].unique())\n",
        "grouped_data = df_top_topics.groupby(['year', 'topic_name']).size().unstack(fill_value=0).stack().reset_index(name='count')\n",
        "\n",
        "grouped_data['total_discussions_per_year'] = grouped_data['year'].map(df_top_topics.groupby('year').size())\n",
        "grouped_data['discussion_percentage'] = grouped_data['count'] / grouped_data['total_discussions_per_year'] * 100"
      ],
      "metadata": {
        "id": "-MWciavMdzrr"
      },
      "execution_count": null,
      "outputs": []
    },
    {
      "cell_type": "code",
      "source": [
        "plt.figure(figsize=(12, 6))\n",
        "sns.lineplot(data=grouped_data, x='year', y='discussion_percentage', hue='topic_name')\n",
        "plt.title('Top 5 Most Discussed Topics Over Years')\n",
        "plt.xlabel('Year')\n",
        "plt.ylabel('Discussion Percentage')\n",
        "plt.legend(title='Topic')\n",
        "plt.xticks(unique_years)\n",
        "plt.tight_layout()\n",
        "plt.show()"
      ],
      "metadata": {
        "id": "c6TLKiU_uE9U"
      },
      "execution_count": null,
      "outputs": []
    },
    {
      "cell_type": "code",
      "source": [
        "df_filtered = pd.read_csv('full_data_classified_filtered.csv')\n",
        "df_filtered['year'] = pd.to_datetime(df_filtered['created_at']).dt.year\n",
        "total_comments_per_year = df_filtered.groupby('year')['comments'].sum()\n",
        "df_filtered['comment_percentage'] = df_filtered.apply(lambda row: row['comments'] / total_comments_per_year[row['year']] * 100, axis=1)\n",
        "discussion_counts = df_filtered.groupby('topic_name').size().sort_values(ascending=False)\n",
        "top_discussed_topics = discussion_counts.head(5)\n",
        "average_comment_percentage_per_topic = df_filtered.groupby('topic_name')['comment_percentage'].mean().sort_values(ascending=False)\n",
        "top_commented_topics = average_comment_percentage_per_topic.head(5)\n",
        "df_top_topics = df_filtered[df_filtered['topic_name'].isin(top_commented_topics.index)]\n",
        "unique_years = sorted(df_top_topics['year'].unique())\n",
        "grouped_data = df_top_topics.groupby(['year', 'topic_name']).size().unstack(fill_value=0).stack().reset_index(name='count')"
      ],
      "metadata": {
        "id": "8UG1ftMvdzjy"
      },
      "execution_count": null,
      "outputs": []
    },
    {
      "cell_type": "code",
      "source": [
        "plt.figure(figsize=(12, 6))\n",
        "sns.lineplot(data=grouped_data, x='year', y='count', hue='topic_name')\n",
        "plt.title('Top 5 Most Commented Topics Over Years')\n",
        "plt.xlabel('Year')\n",
        "plt.ylabel('Total Comments')\n",
        "plt.legend(title='Topic')\n",
        "plt.xticks(unique_years)\n",
        "plt.tight_layout()\n",
        "plt.show()"
      ],
      "metadata": {
        "id": "EI3lAAQ0ucxF"
      },
      "execution_count": null,
      "outputs": []
    },
    {
      "cell_type": "markdown",
      "source": [
        "Semi-supervised Zero-Shot Topic Modelling using KeyBERT, ZeroShotClassification and BERTopic with minimum cluster size of 30"
      ],
      "metadata": {
        "id": "eZ1atLgrBLtJ"
      }
    },
    {
      "cell_type": "code",
      "source": [
        "df = pd.read_csv(\"/content/all_combined_data.csv\")"
      ],
      "metadata": {
        "id": "PBt2j_SXDXpj"
      },
      "execution_count": null,
      "outputs": []
    },
    {
      "cell_type": "code",
      "source": [
        "stop_words = set(stopwords.words(\"english\"))\n",
        "additional_stopwords = [\"nan\", \"#\", \"\\n\", \"thanks\", \"ok\"]\n",
        "stop_words = stop_words.union(additional_stopwords)\n",
        "\n",
        "df[\"body_with_comments\"] = df[\"body_with_comments\"].apply(\n",
        "    lambda x: \" \".join([word for word in x.split() if word.lower() not in stop_words])\n",
        ")"
      ],
      "metadata": {
        "id": "qQc9jgE8DctT"
      },
      "execution_count": null,
      "outputs": []
    },
    {
      "cell_type": "code",
      "source": [
        "# keywords extract model\n",
        "kw_model = KeyBERT()\n",
        "# Use the model to extract keywords for each title\n",
        "keywords = kw_model.extract_keywords(df.body_with_comments)\n",
        "\n",
        "print(keywords)"
      ],
      "metadata": {
        "id": "kQX13MvqDfti"
      },
      "execution_count": null,
      "outputs": []
    },
    {
      "cell_type": "code",
      "source": [
        "def extract_keywords(row):\n",
        "    issue_keywords = []\n",
        "    for keyword in row['keywords']:\n",
        "        issue_keywords.append(keyword[0])\n",
        "    return issue_keywords"
      ],
      "metadata": {
        "id": "d7usomu3Qx05"
      },
      "execution_count": null,
      "outputs": []
    },
    {
      "cell_type": "code",
      "source": [
        "df['issue_keywords'] = keywords\n",
        "df.to_csv('all_combined_data_with_keywords.csv', index=False)"
      ],
      "metadata": {
        "id": "fbR6iRocQ0e2"
      },
      "execution_count": null,
      "outputs": []
    },
    {
      "cell_type": "code",
      "source": [
        "vocabulary = [k[0] for keyword in keywords for k in keyword]\n",
        "vocabulary = list(set(vocabulary))"
      ],
      "metadata": {
        "id": "bJw1FJ8uFB81"
      },
      "execution_count": null,
      "outputs": []
    },
    {
      "cell_type": "code",
      "source": [
        "with open('vocabolario.pkl', 'wb') as f:\n",
        "    pickle.dump(vocabulary, f)"
      ],
      "metadata": {
        "id": "G_sBLFawFCks"
      },
      "execution_count": null,
      "outputs": []
    },
    {
      "cell_type": "code",
      "source": [
        "with open('vocabolario.pkl', 'rb') as f:\n",
        "    vocabulary = pickle.load(f)"
      ],
      "metadata": {
        "id": "VRVHCsw2FHPE"
      },
      "execution_count": null,
      "outputs": []
    },
    {
      "cell_type": "code",
      "source": [
        "# Create your representation model\n",
        "candidate_topics = [\"sustainability\", \"energy\", \"gas\", \"consumption\", \"consensus\", \"protocols\", \"merge\", \"proof-of-work\", \"proof-of-stake\", \"pow\", \"pos\", \"optimization\", \"efficiency\", \"scalability\", \"green\", \"mining\", \"cost\", \"fee\", \"management\"]\n",
        "representation_model = ZeroShotClassification(candidate_topics, model=\"facebook/bart-large-mnli\")"
      ],
      "metadata": {
        "id": "g8y0cTB3FMv0"
      },
      "execution_count": null,
      "outputs": []
    },
    {
      "cell_type": "code",
      "source": [
        "vectorizer_model= CountVectorizer(vocabulary=vocabulary)\n",
        "topic_model = BERTopic(embedding_model='BAAI/bge-small-en', vectorizer_model=vectorizer_model, representation_model=representation_model, min_topic_size=30)\n",
        "topics, probs = topic_model.fit_transform(df.body_with_comments)"
      ],
      "metadata": {
        "id": "bp97BEBSEL5l"
      },
      "execution_count": null,
      "outputs": []
    },
    {
      "cell_type": "code",
      "source": [
        "# Save the trained model\n",
        "topic_model.save(\"supervised_zeroshot_model\")"
      ],
      "metadata": {
        "id": "rwwp0k8OFVEh"
      },
      "execution_count": null,
      "outputs": []
    },
    {
      "cell_type": "code",
      "source": [
        "topic_model.get_topic_freq()"
      ],
      "metadata": {
        "id": "8aAse2E0FZkH"
      },
      "execution_count": null,
      "outputs": []
    },
    {
      "cell_type": "code",
      "source": [
        "num_topics = len(topics)\n",
        "\n",
        "all_topics_data = []\n",
        "for topic in range(-1, num_topics-1):\n",
        "    top_words = topic_model.get_topic(topic)\n",
        "    count = topic_model.get_topic_freq(topic)\n",
        "    all_topics_data.append((topic, top_words, count))"
      ],
      "metadata": {
        "id": "r84B7u1_Fd-x"
      },
      "execution_count": null,
      "outputs": []
    },
    {
      "cell_type": "code",
      "source": [
        "filename = 'supervised_zeroshot_topics.csv'\n",
        "with open(filename, mode='w', newline='', encoding='utf-8') as file:\n",
        "    writer = csv.writer(file)\n",
        "    writer.writerow(['topic', 'top_10_words', 'count'])\n",
        "    for row in all_topics_data:\n",
        "        writer.writerow(row)"
      ],
      "metadata": {
        "id": "3dvIp_A_FiMj"
      },
      "execution_count": null,
      "outputs": []
    },
    {
      "cell_type": "markdown",
      "source": [
        "Coherence score of the model"
      ],
      "metadata": {
        "id": "91lKeMncFpMF"
      }
    },
    {
      "cell_type": "code",
      "source": [
        "documents = pd.DataFrame({\"Document\": df.body_with_comments,\n",
        "                          \"ID\": range(len(df.body_with_comments)),\n",
        "                          \"Topic\": topics})\n",
        "\n",
        "documents_per_topic = documents.groupby(['Topic'], as_index=False).agg({'Document': ' '.join})\n",
        "cleaned_docs = topic_model._preprocess_text(documents_per_topic.Document.values)"
      ],
      "metadata": {
        "id": "6tu4XU-0FyTv"
      },
      "execution_count": null,
      "outputs": []
    },
    {
      "cell_type": "code",
      "source": [
        "# Extract vectorizer and analyzer from BERTopic\n",
        "vectorizer = topic_model.vectorizer_model\n",
        "analyzer = vectorizer.build_analyzer()"
      ],
      "metadata": {
        "id": "PlkjR6TYF8xY"
      },
      "execution_count": null,
      "outputs": []
    },
    {
      "cell_type": "code",
      "source": [
        "# Extract features for Topic Coherence evaluation\n",
        "words = vectorizer.get_feature_names_out()\n",
        "tokens = [analyzer(doc) for doc in cleaned_docs]\n",
        "dictionary = corpora.Dictionary(tokens)\n",
        "corpus = [dictionary.doc2bow(token) for token in tokens]\n",
        "topic_words = [[words for words, _ in topic_model.get_topic(topic)]\n",
        "              for topic in range(len(set(topics))-1)]"
      ],
      "metadata": {
        "id": "65O1F6p0GFsL"
      },
      "execution_count": null,
      "outputs": []
    },
    {
      "cell_type": "code",
      "source": [
        "coherence_model = CoherenceModel(topics=topic_words,\n",
        "                                texts=tokens,\n",
        "                                corpus=corpus,\n",
        "                                dictionary=dictionary,\n",
        "                                coherence='c_v')\n",
        "coherence_score = coherence_model.get_coherence()\n",
        "print(coherence_score)"
      ],
      "metadata": {
        "id": "LVCsaXQMG5rs"
      },
      "execution_count": null,
      "outputs": []
    },
    {
      "cell_type": "markdown",
      "source": [
        "Topic labels interpretation with Chat-GPT and upload of the data csv"
      ],
      "metadata": {
        "id": "W_fmKfIUG9_E"
      }
    },
    {
      "cell_type": "code",
      "source": [
        "df = pd.read_csv(\"/content/all_combined_data_with_keywords.csv\")"
      ],
      "metadata": {
        "id": "yhE_k_v7VEYM"
      },
      "execution_count": null,
      "outputs": []
    },
    {
      "cell_type": "code",
      "source": [
        "df_topics = pd.read_csv('/content/updated_supervised_zeroshot_topics.csv')\n",
        "\n",
        "# Dictionary topic : label/top words\n",
        "topic_dictionary = dict(zip(df_topics['topic'], df_topics['label']))\n",
        "top10words_dictionary = dict(zip(df_topics['topic'], df_topics['top_10_words']))"
      ],
      "metadata": {
        "id": "k7RoN4XWHcPD"
      },
      "execution_count": null,
      "outputs": []
    },
    {
      "cell_type": "code",
      "source": [
        "df['topic'] = topics\n",
        "df['top_10_words'] = df['topic'].map(top10words_dictionary)\n",
        "df['topic_name'] = df['topic'].map(topic_dictionary)\n",
        "\n",
        "df[['id', 'title', 'user_fk', 'created_at', 'updated_at' 'comments', 'issue_keywords', 'topic', 'top_10_words', 'topic_name']].to_csv('full_data_classified.csv', index=False)"
      ],
      "metadata": {
        "id": "Umspoa8-Sp4U"
      },
      "execution_count": null,
      "outputs": []
    },
    {
      "cell_type": "markdown",
      "source": [
        "General plots"
      ],
      "metadata": {
        "id": "GEIJbRbVbrBq"
      }
    },
    {
      "cell_type": "code",
      "source": [
        "df = pd.read_csv('full_data_classified.csv')\n",
        "df_filtered = df[df['topic_name'] != 'Undefined']\n",
        "df_filtered.to_csv('full_data_classified_filtered.csv', index=False)"
      ],
      "metadata": {
        "id": "aFupGLbqSq6A"
      },
      "execution_count": null,
      "outputs": []
    },
    {
      "cell_type": "code",
      "source": [
        "df_filtered = pd.read_csv('full_data_classified_filtered.csv')\n",
        "total_comments_per_year = df_filtered.groupby(df_filtered['created_at'].str.slice(0, 4))['comments'].sum()\n",
        "df_filtered['total_comments_per_year'] = df_filtered['created_at'].str.slice(0, 4).map(total_comments_per_year)\n",
        "df_filtered['comment_percentage'] = df_filtered['comments'] / df_filtered['total_comments_per_year'] * 100\n",
        "discussion_counts = df_filtered.groupby('topic_name').size().sort_values(ascending=False)\n",
        "\n",
        "top_discussed_topics = discussion_counts.head(5)\n",
        "df_filtered['year'] = pd.to_datetime(df_filtered['created_at']).dt.year\n",
        "top_topics = list(top_discussed_topics.index)\n",
        "df_top_topics = df_filtered[df_filtered['topic_name'].isin(top_topics)]\n",
        "unique_years = sorted(df_top_topics['year'].unique())\n",
        "grouped_data = df_top_topics.groupby(['year', 'topic_name']).size().unstack(fill_value=0).stack().reset_index(name='count')\n",
        "\n",
        "grouped_data['total_discussions_per_year'] = grouped_data['year'].map(df_top_topics.groupby('year').size())\n",
        "grouped_data['discussion_percentage'] = grouped_data['count'] / grouped_data['total_discussions_per_year'] * 100"
      ],
      "metadata": {
        "id": "hik_zTsvV77F"
      },
      "execution_count": null,
      "outputs": []
    },
    {
      "cell_type": "code",
      "source": [
        "plt.figure(figsize=(12, 6))\n",
        "sns.lineplot(data=grouped_data, x='year', y='discussion_percentage', hue='topic_name')\n",
        "plt.title('Top 5 Most Discussed Topics Over Years')\n",
        "plt.xlabel('Year')\n",
        "plt.ylabel('Discussion Percentage')\n",
        "plt.legend(title='Topic')\n",
        "plt.xticks(unique_years)\n",
        "plt.tight_layout()\n",
        "plt.show()"
      ],
      "metadata": {
        "id": "BHnnO9RVwGKh"
      },
      "execution_count": null,
      "outputs": []
    },
    {
      "cell_type": "code",
      "source": [
        "df_filtered = pd.read_csv('full_data_classified_filtered.csv')\n",
        "df_filtered['year'] = pd.to_datetime(df_filtered['created_at']).dt.year\n",
        "total_comments_per_year = df_filtered.groupby('year')['comments'].sum()\n",
        "df_filtered['comment_percentage'] = df_filtered.apply(lambda row: row['comments'] / total_comments_per_year[row['year']] * 100, axis=1)\n",
        "\n",
        "discussion_counts = df_filtered.groupby('topic_name').size().sort_values(ascending=False)\n",
        "top_discussed_topics = discussion_counts.head(5)\n",
        "average_comment_percentage_per_topic = df_filtered.groupby('topic_name')['comment_percentage'].mean().sort_values(ascending=False)\n",
        "top_commented_topics = average_comment_percentage_per_topic.head(5)\n",
        "df_top_topics = df_filtered[df_filtered['topic_name'].isin(top_commented_topics.index)]\n",
        "unique_years = sorted(df_top_topics['year'].unique())\n",
        "grouped_data = df_top_topics.groupby(['year', 'topic_name']).size().unstack(fill_value=0).stack().reset_index(name='count')"
      ],
      "metadata": {
        "id": "AH3r0JIwWYCw"
      },
      "execution_count": null,
      "outputs": []
    },
    {
      "cell_type": "code",
      "source": [
        "plt.figure(figsize=(12, 6))\n",
        "sns.lineplot(data=grouped_data, x='year', y='count', hue='topic_name')\n",
        "plt.title('Top 5 Most Commented Topics Over Years')\n",
        "plt.xlabel('Year')\n",
        "plt.ylabel('Total Comments')\n",
        "plt.legend(title='Topic')\n",
        "plt.xticks(unique_years)\n",
        "plt.tight_layout()\n",
        "plt.show()"
      ],
      "metadata": {
        "id": "rT635gcpWjTp"
      },
      "execution_count": null,
      "outputs": []
    },
    {
      "cell_type": "markdown",
      "source": [
        "**SUSTAINABILITY ANALYSIS**"
      ],
      "metadata": {
        "id": "8yLvVl4AdrGj"
      }
    },
    {
      "cell_type": "code",
      "source": [
        "sustainable_keywords= ['consumption', 'consensus', 'cost',\n",
        "                       'efficiency', 'energy', 'fee', 'gas', 'green',\n",
        "                       'management', 'merge', 'mining',\n",
        "                       'optimization', 'pos', 'pow', 'proof-of-stake', 'proof-of-work', 'protocol', 'protocols',\n",
        "                       'scalability', 'sustainability']"
      ],
      "metadata": {
        "id": "LB_6jZgHd6SZ"
      },
      "execution_count": null,
      "outputs": []
    },
    {
      "cell_type": "code",
      "source": [
        "filtered_sust = pd.read_csv('/content/sust_filt_data.csv')\n",
        "filtered_sust = pd.merge(filtered_sust, all_data[['id', 'updated_at']], on='id', how='left')\n",
        "\n",
        "filtered_sust['created_at'] = pd.to_datetime(filtered_sust['created_at'])\n",
        "filtered_sust['updated_at'] = pd.to_datetime(filtered_sust['updated_at'])\n",
        "filtered_sust['duration_days'] = (filtered_sust['updated_at'] - filtered_sust['created_at']).dt.days\n",
        "display(filtered_sust)"
      ],
      "metadata": {
        "id": "zUdbvRbyd9W_"
      },
      "execution_count": null,
      "outputs": []
    },
    {
      "cell_type": "code",
      "source": [
        "# Calculate the average of the duration_days column\n",
        "average_duration_days = filtered_sust['duration_days'].mean()\n",
        "# Print the average duration\n",
        "print(\"Average duration in days:\", average_duration_days)"
      ],
      "metadata": {
        "id": "PY_mrgp_eFAC"
      },
      "execution_count": null,
      "outputs": []
    },
    {
      "cell_type": "code",
      "source": [
        "lifetime_stats2 = filtered_sust['duration_days'].describe()\n",
        "print(lifetime_stats2)"
      ],
      "metadata": {
        "id": "k2JTBYlreMdu"
      },
      "execution_count": null,
      "outputs": []
    },
    {
      "cell_type": "code",
      "source": [
        "plt.figure(figsize=(10, 6))\n",
        "plt.hist(filtered_sust['duration_days'], bins=50, color='blue', log=True) #, edgecolor='black')\n",
        "plt.title('Sustainable Issue Duration')\n",
        "plt.xlabel('Duration [y]')\n",
        "plt.ylabel('Frequency')\n",
        "plt.grid(axis='y', linestyle='--')\n",
        "\n",
        "plt.gca().xaxis.set_major_formatter(FuncFormatter(days_to_years))\n",
        "plt.gca().spines['top'].set_color('grey')\n",
        "plt.gca().spines['bottom'].set_color('grey')\n",
        "plt.gca().spines['left'].set_color('grey')\n",
        "plt.gca().spines['right'].set_color('grey')\n",
        "\n",
        "plt.show()"
      ],
      "metadata": {
        "id": "6G45d9ENeP1z"
      },
      "execution_count": null,
      "outputs": []
    },
    {
      "cell_type": "code",
      "source": [
        "plt.figure(figsize=(10, 6))\n",
        "plt.hist(filtered_sust['comments'], bins=40, color='blue', log=True) #, edgecolor='black')\n",
        "#plt.xscale('log')\n",
        "plt.title('Popularity of the Sustainable Issues')\n",
        "plt.xlabel('Number of comments')\n",
        "plt.ylabel('Frequency')\n",
        "plt.grid(axis='y', linestyle='--')\n",
        "\n",
        "plt.gca().spines['top'].set_color('grey')\n",
        "plt.gca().spines['bottom'].set_color('grey')\n",
        "plt.gca().spines['left'].set_color('grey')\n",
        "plt.gca().spines['right'].set_color('grey')\n",
        "\n",
        "plt.show()"
      ],
      "metadata": {
        "id": "BSwpYBzNeQmZ"
      },
      "execution_count": null,
      "outputs": []
    },
    {
      "cell_type": "code",
      "source": [
        "comments_df = pd.read_csv('/content/comments.csv')\n",
        "display(comments_df)"
      ],
      "metadata": {
        "id": "N65zg7IYeTQU"
      },
      "execution_count": null,
      "outputs": []
    },
    {
      "cell_type": "code",
      "source": [
        "num_unique_users = comments_df['user_fk'].nunique()\n",
        "print(\"Number of unique users in comments_df:\", num_unique_users)"
      ],
      "metadata": {
        "id": "OUvwBJ5weh2e"
      },
      "execution_count": null,
      "outputs": []
    },
    {
      "cell_type": "code",
      "source": [
        "# Select the required columns from filtered_sust to create the base DataFrame\n",
        "sustainable_comments = filtered_sust[['id', 'title', 'user_fk', 'created_at', 'comments']].copy()\n",
        "\n",
        "# Create the comments_mapped column\n",
        "sustainable_comments['comments_mapped'] = sustainable_comments['id'].apply(\n",
        "    lambda x: list(comments_df[comments_df['issue_fk'] == x]['user_fk'])\n",
        ")\n",
        "\n",
        "sustainable_comments.rename(columns={\n",
        "    'id': 'issue_id',\n",
        "    'title': 'issue_title',\n",
        "    'user_fk': 'user_creator_issue',\n",
        "    'created_at': 'created_at',\n",
        "    'comments': 'comments',\n",
        "    'comments_mapped': 'commentator_mapped'\n",
        "}, inplace=True)\n",
        "\n",
        "display(sustainable_comments)"
      ],
      "metadata": {
        "id": "J7hDtcRiepP0"
      },
      "execution_count": null,
      "outputs": []
    },
    {
      "cell_type": "code",
      "source": [
        "num_rows_with_zero_comments = (sustainable_comments['comments'] == 0).sum()\n",
        "print(\"Number of rows with comments equal to 0:\", num_rows_with_zero_comments)"
      ],
      "metadata": {
        "id": "GxKG3k7jeva7"
      },
      "execution_count": null,
      "outputs": []
    },
    {
      "cell_type": "code",
      "source": [
        "# Flatten all lists in the 'commentator_mapped' column and count unique elements\n",
        "unique_commentators = set(x for sublist in sustainable_comments['commentator_mapped'] for x in sublist)\n",
        "num_unique_commentators = len(unique_commentators)\n",
        "print(\"Number of unique commentators:\", num_unique_commentators)"
      ],
      "metadata": {
        "id": "aCiASqsPeyax"
      },
      "execution_count": null,
      "outputs": []
    },
    {
      "cell_type": "code",
      "source": [
        "plt.figure(figsize=(10, 6))\n",
        "plt.hist(sustainable_comments['comments'], bins=40, color='blue', log=True)  # You can adjust the number of bins\n",
        "plt.title('Comments per Sustainable Issue')\n",
        "plt.xlabel('Number of Comments')\n",
        "plt.ylabel('Frequency')\n",
        "plt.grid(True)  # Optional: Adds a grid for easier readability\n",
        "plt.show()"
      ],
      "metadata": {
        "id": "X-Pd3DrPezMG"
      },
      "execution_count": null,
      "outputs": []
    },
    {
      "cell_type": "code",
      "source": [
        "print(sustainable_comments['comments'])\n",
        "\n",
        "print('\\n')\n",
        "\n",
        "num_commentator_mapped = sustainable_comments['commentator_mapped'].apply(len)\n",
        "print(num_commentator_mapped)\n",
        "\n",
        "correlation = sustainable_comments['comments'].corr(num_commentator_mapped)\n",
        "print(correlation)"
      ],
      "metadata": {
        "id": "oQPlWLR3e13H"
      },
      "execution_count": null,
      "outputs": []
    },
    {
      "cell_type": "code",
      "source": [
        "plt.figure(figsize=(10, 6))  # Set the figure size (optional)\n",
        "plt.hist(num_commentator_mapped, bins=range(max(num_commentator_mapped)+2), color='blue', log=True)  # Bins are set from 0 to max length + 1\n",
        "plt.title('Unique Developers per Sustainable Issue')\n",
        "plt.xlabel('Unique Developers')\n",
        "plt.ylabel('Frequency')\n",
        "plt.grid(True)\n",
        "plt.show()"
      ],
      "metadata": {
        "id": "kmi_kMyAe5En"
      },
      "execution_count": null,
      "outputs": []
    },
    {
      "cell_type": "code",
      "source": [
        "# Create a dictionary to count the occurrences of each user across different issues\n",
        "user_issue_count = defaultdict(int)\n",
        "\n",
        "# Iterate over each list in the commentator_mapped column along with the issue id\n",
        "for index, row in sustainable_comments.iterrows():\n",
        "    # Use a set to count each user only once per issue\n",
        "    users_set = set(row['commentator_mapped'])\n",
        "    for user in users_set:\n",
        "        user_issue_count[user] += 1\n",
        "\n",
        "# Convert the dictionary to a pandas DataFrame for better visualization and manipulation\n",
        "user_issue_count_df = pd.DataFrame(list(user_issue_count.items()), columns=['User', 'Issue_Count'])\n",
        "\n",
        "# Display the DataFrame\n",
        "sorted_issue_count_list = user_issue_count_df.sort_values(by='Issue_Count', ascending=False)['Issue_Count'].tolist()"
      ],
      "metadata": {
        "id": "32l9OfiLe91n"
      },
      "execution_count": null,
      "outputs": []
    },
    {
      "cell_type": "code",
      "source": [
        "mean_count = statistics.mean(sorted_issue_count_list)\n",
        "print(mean_count)\n",
        "median_count = statistics.median(sorted_issue_count_list)\n",
        "print(median_count)"
      ],
      "metadata": {
        "id": "H_E9gw59fCMo"
      },
      "execution_count": null,
      "outputs": []
    },
    {
      "cell_type": "markdown",
      "source": [
        "Sustainability Awareness Diagram"
      ],
      "metadata": {
        "id": "-zhNOr-7kLgO"
      }
    },
    {
      "cell_type": "code",
      "source": [
        "import matplotlib.pyplot as plt\n",
        "import numpy as np\n",
        "\n",
        "# Sample data: numbers representing the count of topics for each sustainability measure\n",
        "# Assuming the \"Size\" in your table represents these counts.\n",
        "data = {\n",
        "    'Social': 756,    # Sum of all topic sizes classified as 'Social'\n",
        "    'Individual': 594, # Sum of all topic sizes classified as 'Individual'\n",
        "    'Environmental': 401, # Sum of all topic sizes classified as 'Environmental'\n",
        "    'Technical': 2397,   # Sum of all topic sizes classified as 'Technical'\n",
        "    'Economic': 388,     # Sum of all topic sizes classified as 'Economic'\n",
        "}\n",
        "\n",
        "# Normalizing the data\n",
        "max_value = max(data.values())\n",
        "normalized_data = {k: v / max_value for k, v in data.items()}\n",
        "\n",
        "# There are 5 measures, so we need to set up a radar chart with 5 axes\n",
        "labels=np.array(list(normalized_data.keys()))\n",
        "stats=np.array(list(normalized_data.values()))\n",
        "\n",
        "# Create a 360 degree angle array\n",
        "angles=np.linspace(0, 2*np.pi, len(labels), endpoint=False).tolist()\n",
        "\n",
        "# The plot is made circular by adding the first value to the end of the array\n",
        "stats=np.concatenate((stats,[stats[0]]))\n",
        "angles+=angles[:1]\n",
        "\n",
        "# Draw the plot\n",
        "fig, ax = plt.subplots(figsize=(6, 6), subplot_kw=dict(polar=True))\n",
        "ax.fill(angles, stats, color='blue', alpha=0.25)\n",
        "ax.plot(angles, stats, color='blue', linewidth=2)  # Change the color if you like\n",
        "\n",
        "# Add the labels to the plot\n",
        "ax.set_thetagrids(np.degrees(angles[:-1]), labels)\n",
        "\n",
        "# Give it a title\n",
        "plt.title('Sustainability Awareness Diagram (SusAD)', size=20, color='blue', y=1.1)\n",
        "\n",
        "# Show the plot\n",
        "plt.show()\n"
      ],
      "metadata": {
        "id": "wkgfz1X2kPko",
        "colab": {
          "base_uri": "https://localhost:8080/",
          "height": 588
        },
        "outputId": "f413cd3f-361a-493e-9d6e-35edc7c855bf"
      },
      "execution_count": null,
      "outputs": [
        {
          "output_type": "display_data",
          "data": {
            "text/plain": [
              "<Figure size 600x600 with 1 Axes>"
            ],
            "image/png": "[encoded data removed]"
          },
          "metadata": {}
        }
      ]
    },
    {
      "cell_type": "markdown",
      "source": [
        "**NETWORK ANALYSIS**"
      ],
      "metadata": {
        "id": "eNP-sjUifT_8"
      }
    },
    {
      "cell_type": "markdown",
      "source": [
        "Sustainability Developers Network Analysis"
      ],
      "metadata": {
        "id": "Lt_kzTeftcPo"
      }
    },
    {
      "cell_type": "code",
      "source": [
        "# Load the datasets\n",
        "issues = pd.read_csv('/content/sust_filt_data.csv')\n",
        "comments = pd.read_csv('/content/comments.csv')\n",
        "\n",
        "# Create a bipartite graph\n",
        "B = nx.Graph()\n",
        "# Add nodes with the bipartite attribute\n",
        "B.add_nodes_from(issues['user_fk'], bipartite=0) # Developers who posted issues\n",
        "B.add_nodes_from(comments['user_fk'], bipartite=1) # Developers who commented\n",
        "\n",
        "# Add edges between developers and issues\n",
        "for _, row in issues.iterrows():\n",
        "    B.add_edge(row['user_fk'], row['id'])\n",
        "\n",
        "for _, row in comments.iterrows():\n",
        "    B.add_edge(row['user_fk'], row['issue_fk'])\n",
        "\n",
        "# Project the bipartite graph onto developers nodes\n",
        "G = nx.projected_graph(B, issues['user_fk'].unique())\n",
        "\n",
        "# Plot the network\n",
        "pos = nx.spring_layout(G)  # Use spring layout for positioning nodes\n",
        "nx.draw_networkx_nodes(G, pos)\n",
        "nx.draw_networkx_edges(G, pos)\n",
        "nx.draw_networkx_labels(G, pos)\n",
        "plt.show()\n"
      ],
      "metadata": {
        "colab": {
          "base_uri": "https://localhost:8080/",
          "height": 405
        },
        "id": "BbtA5jNZtbsE",
        "outputId": "5364394b-1199-43f4-87c2-9e01b37c0655"
      },
      "execution_count": null,
      "outputs": [
        {
          "output_type": "display_data",
          "data": {
            "text/plain": [
              "<Figure size 640x480 with 1 Axes>"
            ],
            "image/png": "[encoded data removed]"
          },
          "metadata": {}
        }
      ]
    },
    {
      "cell_type": "code",
      "source": [
        "# Analyze the graph using degree centrality\n",
        "degree_centrality = nx.degree_centrality(G)\n",
        "\n",
        "# Find the most influential developers\n",
        "sorted_degree_centrality = sorted(degree_centrality.items(), key=lambda x: x[1], reverse=True)\n",
        "\n",
        "# Print the top 5 most influential developers based on degree centrality\n",
        "print(sorted_degree_centrality[:5])"
      ],
      "metadata": {
        "colab": {
          "base_uri": "https://localhost:8080/"
        },
        "id": "lMQe2cHSyi7y",
        "outputId": "0f5a94b8-03e6-49d3-f76b-d35525911e33"
      },
      "execution_count": null,
      "outputs": [
        {
          "output_type": "stream",
          "name": "stdout",
          "text": [
            "[(129561, 0.5487711799725233), (142290, 0.40986108990993747), (6915, 0.28010990688444515), (10137, 0.20531216608151429), (111600, 0.20286979087162266)]\n"
          ]
        }
      ]
    },
    {
      "cell_type": "code",
      "source": [
        "# Betweenness Centrality\n",
        "betweenness_centrality = nx.betweenness_centrality(G)\n",
        "\n",
        "# Find the most influential developers\n",
        "sorted_betweenness_centrality = sorted(betweenness_centrality.items(), key=lambda x: x[1], reverse=True)\n",
        "\n",
        "# Print the top 5 most influential developers based on Betweenness Centrality\n",
        "print(sorted_betweenness_centrality[:5])"
      ],
      "metadata": {
        "colab": {
          "base_uri": "https://localhost:8080/"
        },
        "id": "tXBea2NM22oP",
        "outputId": "a993f571-da71-4129-b42f-80d14ae5775e"
      },
      "execution_count": null,
      "outputs": [
        {
          "output_type": "stream",
          "name": "stdout",
          "text": [
            "[(129561, 0.44322641511197386), (142290, 0.2757511170188587), (6915, 0.14954190302987067), (111600, 0.10191182894300498), (10137, 0.08501156953668283)]\n"
          ]
        }
      ]
    },
    {
      "cell_type": "code",
      "source": [
        "# Closeness Centrality\n",
        "closeness_centrality = nx.closeness_centrality(G)\n",
        "\n",
        "# Find the most influential developers\n",
        "sorted_closeness_centrality = sorted(closeness_centrality.items(), key=lambda x: x[1], reverse=True)\n",
        "\n",
        "# Print the top 5 most influential developers based on Closeness Centrality\n",
        "print(sorted_closeness_centrality[:5])"
      ],
      "metadata": {
        "colab": {
          "base_uri": "https://localhost:8080/"
        },
        "id": "trFVUOOS3Bi9",
        "outputId": "25836aca-845a-4c72-b4a1-74215cd5d137"
      },
      "execution_count": null,
      "outputs": [
        {
          "output_type": "stream",
          "name": "stdout",
          "text": [
            "[(129561, 0.68382368022321), (142290, 0.6214472004352498), (6915, 0.574495142681481), (10137, 0.5470706025824589), (111600, 0.5459536570731456)]\n"
          ]
        }
      ]
    },
    {
      "cell_type": "code",
      "source": [
        "# Eigenvector Centrality\n",
        "eigenvector_centrality = nx.eigenvector_centrality(G)\n",
        "\n",
        "# Find the most influential developers\n",
        "sorted_eigenvector_centrality = sorted(eigenvector_centrality.items(), key=lambda x: x[1], reverse=True)\n",
        "\n",
        "# Print the top 5 most influential developers based on Eigenvector Centrality\n",
        "print(sorted_eigenvector_centrality[:5])"
      ],
      "metadata": {
        "colab": {
          "base_uri": "https://localhost:8080/"
        },
        "id": "d6iN452x5xad",
        "outputId": "3de33a21-6758-4834-d09d-f22a34bbe0f9"
      },
      "execution_count": null,
      "outputs": [
        {
          "output_type": "stream",
          "name": "stdout",
          "text": [
            "[(129561, 0.437517047093727), (142290, 0.33834978001978666), (6915, 0.2557748464295952), (10137, 0.18659273630220297), (111600, 0.16485208493033224)]\n"
          ]
        }
      ]
    },
    {
      "cell_type": "markdown",
      "source": [
        "Analyzing all the network there is a similarity?"
      ],
      "metadata": {
        "id": "1-fut0E9wb7U"
      }
    },
    {
      "cell_type": "code",
      "source": [
        "# Load the datasets\n",
        "issues = pd.read_csv('/content/full_data_classified_filtered.csv')\n",
        "comments = pd.read_csv('/content/comments.csv')\n",
        "\n",
        "# Create a bipartite graph\n",
        "B = nx.Graph()\n",
        "# Add nodes with the bipartite attribute\n",
        "B.add_nodes_from(issues['user_fk'], bipartite=0) # Developers who posted issues\n",
        "B.add_nodes_from(comments['user_fk'], bipartite=1) # Developers who commented\n",
        "\n",
        "# Add edges between developers and issues\n",
        "for _, row in issues.iterrows():\n",
        "    B.add_edge(row['user_fk'], row['id'])\n",
        "\n",
        "for _, row in comments.iterrows():\n",
        "    B.add_edge(row['user_fk'], row['issue_fk'])\n",
        "\n",
        "# Project the bipartite graph onto developers nodes\n",
        "G = nx.projected_graph(B, issues['user_fk'].unique())\n",
        "\n",
        "# Plot the network\n",
        "pos = nx.spring_layout(G)  # Use spring layout for positioning nodes\n",
        "nx.draw_networkx_nodes(G, pos)\n",
        "nx.draw_networkx_edges(G, pos)\n",
        "nx.draw_networkx_labels(G, pos)\n",
        "plt.show()\n"
      ],
      "metadata": {
        "id": "u9LF47BNANX4",
        "colab": {
          "base_uri": "https://localhost:8080/",
          "height": 405
        },
        "outputId": "9509f6b4-ee3f-4a29-b2ae-349736fabe84"
      },
      "execution_count": null,
      "outputs": [
        {
          "output_type": "display_data",
          "data": {
            "text/plain": [
              "<Figure size 640x480 with 1 Axes>"
            ],
            "image/png": "[encoded data removed]"
          },
          "metadata": {}
        }
      ]
    },
    {
      "cell_type": "code",
      "source": [
        "# Analyze the graph using degree centrality\n",
        "degree_centrality = nx.degree_centrality(G)\n",
        "\n",
        "# Find the most influential developers\n",
        "sorted_degree_centrality = sorted(degree_centrality.items(), key=lambda x: x[1], reverse=True)\n",
        "\n",
        "# Print the top 5 most influential developers based on degree centrality\n",
        "print(sorted_degree_centrality[:5])"
      ],
      "metadata": {
        "colab": {
          "base_uri": "https://localhost:8080/"
        },
        "id": "F4hgHC11wYaA",
        "outputId": "d4273879-f2e3-4276-ae6b-31d8ab4b47b1"
      },
      "execution_count": null,
      "outputs": [
        {
          "output_type": "stream",
          "name": "stdout",
          "text": [
            "[(129561, 0.5062120010573619), (142290, 0.36901929685434837), (6915, 0.2564102564102564), (111600, 0.18583135077980437), (10137, 0.1809410520750727)]\n"
          ]
        }
      ]
    },
    {
      "cell_type": "code",
      "source": [
        "# Betweenness Centrality\n",
        "betweenness_centrality = nx.betweenness_centrality(G)\n",
        "\n",
        "# Find the most influential developers\n",
        "sorted_betweenness_centrality = sorted(betweenness_centrality.items(), key=lambda x: x[1], reverse=True)\n",
        "\n",
        "# Print the top 5 most influential developers based on Betweenness Centrality\n",
        "print(sorted_betweenness_centrality[:5])"
      ],
      "metadata": {
        "colab": {
          "base_uri": "https://localhost:8080/"
        },
        "id": "t6rAaUjmwaxb",
        "outputId": "430789b5-2459-4293-84ba-d192af9a9066"
      },
      "execution_count": null,
      "outputs": [
        {
          "output_type": "stream",
          "name": "stdout",
          "text": [
            "[(129561, 0.3943176743504064), (142290, 0.2318731863116105), (6915, 0.13125100709944068), (111600, 0.0852836330256857), (10137, 0.0626229245491546)]\n"
          ]
        }
      ]
    },
    {
      "cell_type": "code",
      "source": [
        "# Closeness Centrality\n",
        "closeness_centrality = nx.closeness_centrality(G)\n",
        "\n",
        "# Find the most influential developers\n",
        "sorted_closeness_centrality = sorted(closeness_centrality.items(), key=lambda x: x[1], reverse=True)\n",
        "\n",
        "# Print the top 5 most influential developers based on Closeness Centrality\n",
        "print(sorted_closeness_centrality[:5])"
      ],
      "metadata": {
        "colab": {
          "base_uri": "https://localhost:8080/"
        },
        "id": "5xg4M9jCwlbl",
        "outputId": "49a92261-444c-4974-f213-552e317d202c"
      },
      "execution_count": null,
      "outputs": [
        {
          "output_type": "stream",
          "name": "stdout",
          "text": [
            "[(129561, 0.6430267397102873), (142290, 0.5841923943572115), (6915, 0.5440598988089845), (111600, 0.5176681593808315), (10137, 0.5167616291793881)]\n"
          ]
        }
      ]
    },
    {
      "cell_type": "code",
      "source": [
        "# Eigenvector Centrality\n",
        "eigenvector_centrality = nx.eigenvector_centrality(G)\n",
        "\n",
        "# Find the most influential developers\n",
        "sorted_eigenvector_centrality = sorted(eigenvector_centrality.items(), key=lambda x: x[1], reverse=True)\n",
        "\n",
        "# Print the top 5 most influential developers based on Eigenvector Centrality\n",
        "print(sorted_eigenvector_centrality[:5])"
      ],
      "metadata": {
        "colab": {
          "base_uri": "https://localhost:8080/"
        },
        "id": "eyjs0ESvwoqY",
        "outputId": "776c8e30-fe4e-4c98-b00d-352931b99d00"
      },
      "execution_count": null,
      "outputs": [
        {
          "output_type": "stream",
          "name": "stdout",
          "text": [
            "[(129561, 0.4161849832039424), (142290, 0.32699227459528035), (6915, 0.24680294286919655), (10137, 0.19356833928491715), (111600, 0.16311278296388007)]\n"
          ]
        }
      ]
    },
    {
      "cell_type": "markdown",
      "source": [],
      "metadata": {
        "id": "6XDuaWR9fq2P"
      }
    },
    {
      "cell_type": "code",
      "source": [
        "unique_developers = set(x for sublist in sustainable_comments['commentator_mapped'] for x in sublist)\n",
        "#print(unique_developers)\n",
        "print(len(unique_developers))"
      ],
      "metadata": {
        "id": "a9dKKCTLfrbj"
      },
      "execution_count": null,
      "outputs": []
    },
    {
      "cell_type": "code",
      "source": [
        "unique_issues = list(sustainable_comments['issue_id'])\n",
        "#print(unique_issues)\n",
        "print(len(unique_issues))"
      ],
      "metadata": {
        "id": "rSgr9M7Cfr-l"
      },
      "execution_count": null,
      "outputs": []
    },
    {
      "cell_type": "code",
      "source": [
        "B = nx.Graph()\n",
        "# 0 for developers, 1 for issues\n",
        "B.add_nodes_from(unique_developers, bipartite=0)\n",
        "B.add_nodes_from(unique_issues, bipartite=1)\n",
        "\n",
        "# Add edges from each issue to each developer who commented on that issue\n",
        "for _, row in sustainable_comments.iterrows():\n",
        "    issue_id = row['issue_id']\n",
        "    for developer in row['commentator_mapped']:\n",
        "        B.add_edge(developer, issue_id)"
      ],
      "metadata": {
        "id": "CfPqCmzrf37d"
      },
      "execution_count": null,
      "outputs": []
    },
    {
      "cell_type": "code",
      "source": [
        "adjacency_matrix = nx.bipartite.biadjacency_matrix(B, row_order=unique_developers, column_order=unique_issues)\n",
        "adjacency_df = pd.DataFrame(adjacency_matrix.toarray(), index=list(unique_developers), columns=list(unique_issues))\n",
        "adjacency_df.to_csv('/content/developer_issue_adjacency_matrix.csv')"
      ],
      "metadata": {
        "id": "CE7NgsAcf8rH"
      },
      "execution_count": null,
      "outputs": []
    },
    {
      "cell_type": "code",
      "source": [
        "adjacency_df = pd.read_csv('/Users/sabrina.aufiero/Desktop/UCL_sentiment/ethereum_go/developer_issue_adjacency_matrix.csv', index_col=0)\n",
        "\n",
        "plt.figure(figsize=(8,6))\n",
        "ax = sns.heatmap(adjacency_df, annot=False, cmap='plasma', cbar=False)\n",
        "plt.title('Developer - Issue Bi-adjacency Matrix')\n",
        "plt.xlabel('Commented Issues')\n",
        "plt.ylabel('Developers')\n",
        "ax.set_xticks([])\n",
        "ax.set_yticks([])\n",
        "\n",
        "plt.show()"
      ],
      "metadata": {
        "id": "Ix1N3hPxgAGY"
      },
      "execution_count": null,
      "outputs": []
    },
    {
      "cell_type": "code",
      "source": [
        "# Calculate the number of ones and the total elements\n",
        "number_of_ones = adjacency_df.sum().sum()  # Sum of all entries in the DataFrame\n",
        "total_elements = adjacency_df.size  # Total number of elements in the DataFrame\n",
        "\n",
        "# Calculate density and sparsity\n",
        "density = number_of_ones / total_elements\n",
        "sparsity = 1 - density\n",
        "\n",
        "# Print density and sparsity\n",
        "print(f\"Density of the Network: {density:.4f}\")\n",
        "print(f\"Sparsity of the Network: {sparsity:.4f}\")"
      ],
      "metadata": {
        "id": "DJg-7pw2gFKF"
      },
      "execution_count": null,
      "outputs": []
    },
    {
      "cell_type": "code",
      "source": [
        "developer_connections = adjacency_df.sum(axis=1)\n",
        "#print(len(developer_connections))\n",
        "#print(developer_connections)\n",
        "\n",
        "num_zeros = (developer_connections == 0).sum()\n",
        "print(\"Number of developers that have commented 0 issues:\", num_zeros)"
      ],
      "metadata": {
        "id": "EuO82zDQgH71"
      },
      "execution_count": null,
      "outputs": []
    },
    {
      "cell_type": "code",
      "source": [
        "issues_connections = adjacency_df.sum(axis=0)\n",
        "#print(len(issues_connections))\n",
        "#print(issues_connections)\n",
        "\n",
        "num_zeros_issues = (issues_connections == 0).sum()\n",
        "print(\"Number of issues commented by 0 developers:\", num_zeros_issues)"
      ],
      "metadata": {
        "id": "YCRHV_XQgM-j"
      },
      "execution_count": null,
      "outputs": []
    },
    {
      "cell_type": "code",
      "source": [
        "# Filter out columns with 0 sum, which indicates no comments\n",
        "filtered_adjacency_df = adjacency_df.loc[:, issues_connections > 0]\n",
        "print(filtered_adjacency_df.shape)"
      ],
      "metadata": {
        "id": "94qLDqwmgPfo"
      },
      "execution_count": null,
      "outputs": []
    },
    {
      "cell_type": "markdown",
      "source": [
        "On the issues layer, two issues are connected if the same developer comments on them."
      ],
      "metadata": {
        "id": "201Q2JMygWAK"
      }
    },
    {
      "cell_type": "code",
      "source": [
        "# Compute the transpose of the adjacency matrix\n",
        "filtered_adjacency_df_transposed = filtered_adjacency_df.T\n",
        "\n",
        "# Compute the dot product of the transposed adjacency matrix with itself\n",
        "# This results in a new matrix where each element (i, j) is the number of developers that commented on both issue i and issue j\n",
        "adjacency_issues = filtered_adjacency_df_transposed.dot(filtered_adjacency_df)\n",
        "\n",
        "# Convert diagonal elements to 0 if needed to ignore self-links (i.e., an issue linked to itself)\n",
        "np.fill_diagonal(adjacency_issues.values, 0)"
      ],
      "metadata": {
        "id": "-riqA1SNgY29"
      },
      "execution_count": null,
      "outputs": []
    },
    {
      "cell_type": "code",
      "source": [
        "plt.figure(figsize=(8,8))\n",
        "ax = sns.heatmap(adjacency_issues, annot=False, cmap='plasma', cbar=False)\n",
        "plt.title('Issues Adjacency Matrix')\n",
        "plt.xlabel('Issues')\n",
        "plt.ylabel('Issues')\n",
        "ax.set_xticks([])\n",
        "ax.set_yticks([])\n",
        "\n",
        "plt.show()"
      ],
      "metadata": {
        "id": "IcqDn7x9gk3c"
      },
      "execution_count": null,
      "outputs": []
    },
    {
      "cell_type": "code",
      "source": [
        "values_flattened = adjacency_issues.values.flatten()\n",
        "value_series = pd.Series(values_flattened)\n",
        "value_counts = value_series.value_counts()\n",
        "sorted_value_counts = value_counts.sort_index()\n",
        "print(sorted_value_counts)\n",
        "\n",
        "is_symmetric = (adjacency_issues == adjacency_issues.T).all().all()\n",
        "print(\"The matrix is symmetric.\" if is_symmetric else \"The matrix is not symmetric.\")"
      ],
      "metadata": {
        "id": "jsgy0OGygoFL"
      },
      "execution_count": null,
      "outputs": []
    },
    {
      "cell_type": "code",
      "source": [
        "topic_susaf_dict = {\n",
        " 'Gas Price and Transaction Fees': 'EC/EN', 'Database State Management and Trie': 'I/T',\n",
        " 'P2P Network and Ethereum Build Process': 'S/T', 'Account Security and Keystore Managemen': 'I/T',\n",
        " 'Swarm Network and Manifest Management': 'S/T', 'Tracing and Debugging with Tracers': 'T',\n",
        " 'Ethereum Source and Path Management': 'T', 'Website Deployment and Management with Netlify': 'T',\n",
        " 'Docker Image Management and Process Handling': 'T', 'EVM (Ethereum Virtual Machine) and Stack Management': 'T',\n",
        " 'Source and Path Management for Ethereum': 'T', 'Light Ethereum Subprotocol (LES) Client Logic and Capacity': 'T',\n",
        " 'Peer-to-Peer Protocol and Node Discovery': 'T', 'Bootnode and Peer Management': 'S/T',\n",
        " 'Peer Sync and Latency Management': 'S/T', 'Repository Management and Issue Handling': 'T',\n",
        " 'Whisper Protocol and Message Handling': 'T', 'Benchmark Analysis and Optimization': 'EN/T',\n",
        " 'Framework and Library Management': 'T', 'Blockchain Status and Transaction Logs': 'T',\n",
        " 'Light Mode and Peer Management': 'S/T', 'Crypto Benchmarking and Performance Analysis': 'EC/T',\n",
        " 'Community Support and Question Tracking': 'S/T'\n",
        "}\n",
        "\n",
        "topic_color_map = {\n",
        " 'Gas Price and Transaction Fees': 'grey',\n",
        "\n",
        " 'Crypto Benchmarking and Performance Analysis': 'darkorchid',\n",
        "\n",
        " 'Benchmark Analysis and Optimization': 'black',\n",
        "\n",
        " 'Database State Management and Trie': 'skyblue', 'Account Security and Keystore Managemen': 'dodgerblue', #blue\n",
        "\n",
        "\n",
        "'P2P Network and Ethereum Build Process': 'olivedrab', 'Swarm Network and Manifest Management': 'yellowgreen',  #6 green\n",
        "'Bootnode and Peer Management': 'darkolivegreen', 'Peer Sync and Latency Management': 'greenyellow',\n",
        "'Light Mode and Peer Management': 'palegreen', 'Community Support and Question Tracking': 'forestgreen',\n",
        "\n",
        " 'Tracing and Debugging with Tracers': 'lightcoral', 'Ethereum Source and Path Management': 'brown', #12 red to orange\n",
        " 'Website Deployment and Management with Netlify': 'maroon',  'Whisper Protocol and Message Handling': 'red',\n",
        " 'Docker Image Management and Process Handling': 'salmon', 'EVM (Ethereum Virtual Machine) and Stack Management': 'darksalmon',\n",
        " 'Source and Path Management for Ethereum': 'coral', 'Light Ethereum Subprotocol (LES) Client Logic and Capacity': 'chocolate',\n",
        " 'Peer-to-Peer Protocol and Node Discovery': 'sandybrown', 'Repository Management and Issue Handling': 'darkorange',\n",
        " 'Framework and Library Management': 'burlywood', 'Blockchain Status and Transaction Logs': 'orange',\n",
        "}\n",
        "\n",
        "print(np.unique(list(topic_susaf_dict.values())))"
      ],
      "metadata": {
        "id": "H02hE36MgssO"
      },
      "execution_count": null,
      "outputs": []
    },
    {
      "cell_type": "code",
      "source": [
        "shape_dict = {\n",
        "    'EC/EN': 'o',  # circle\n",
        "    'EC/T': 's',   # square\n",
        "    'EN/T': '^',   # triangle_up\n",
        "    'I/T': 'P',    # plus (filled)\n",
        "    'S/T': 'X',    # x (filled)\n",
        "    'T': 'D'       # diamond\n",
        "}"
      ],
      "metadata": {
        "id": "SFOMuOjfgzTI"
      },
      "execution_count": null,
      "outputs": []
    },
    {
      "cell_type": "code",
      "source": [
        "def map_topic_to_susaf(topic_name):\n",
        "    return topic_susaf_dict.get(topic_name, \"Unknown\")  # default to \"Unknown\" if topic_name not in dict\n",
        "filtered_sust['susaf'] = filtered_sust['topic_name'].apply(map_topic_to_susaf)\n",
        "display(filtered_sust)"
      ],
      "metadata": {
        "id": "GBwVwOc0g2AT"
      },
      "execution_count": null,
      "outputs": []
    },
    {
      "cell_type": "code",
      "source": [
        "# Convert both to string for safe comparison\n",
        "adjacency_issues.columns = adjacency_issues.columns.astype(str)\n",
        "filtered_sust['id'] = filtered_sust['id'].astype(str)\n",
        "\n",
        "G = nx.Graph()\n",
        "\n",
        "# Add nodes with the label being the issue ID\n",
        "for issue in adjacency_issues.columns:\n",
        "    topic_name = filtered_sust.loc[filtered_sust['id'] == issue, 'topic_name'].values[0]\n",
        "    created_at = filtered_sust.loc[filtered_sust['id'] == issue, 'created_at'].values[0]\n",
        "    created_year = pd.to_datetime(filtered_sust.loc[filtered_sust['id'] == issue, 'created_at'].values[0]).year\n",
        "    updated_at = filtered_sust.loc[filtered_sust['id'] == issue, 'updated_at'].values[0]\n",
        "    update_year = pd.to_datetime(filtered_sust.loc[filtered_sust['id'] == issue, 'updated_at'].values[0]).year\n",
        "\n",
        "    color = topic_color_map.get(topic_name, [1, 0, 0, 1])  # default color if topic_name not found\n",
        "    susaf = filtered_sust.loc[filtered_sust['id'] == issue, 'susaf'].values[0]\n",
        "    shape = shape_dict.get(susaf)\n",
        "    G.add_node(issue, color=color, shape=shape, created_at=created_at, created_year=created_year, updated_at=updated_at, update_year=update_year)\n",
        "\n",
        "# Add weighted edges between nodes only if there is a shared developer (i.e., weight > 0)\n",
        "for i, row in adjacency_issues.iterrows():\n",
        "    for j, weight in row.items():\n",
        "        if weight > 0 and i != j:  # Ensure no self-loops unless desired\n",
        "            G.add_edge(i, j, weight=weight)\n",
        "\n",
        "plt.figure(figsize=(8, 8))\n",
        "pos = nx.spring_layout(G, seed=42)  # Layout for better visual separation\n",
        "edge_widths = [G[u][v]['weight'] for u, v in G.edges()]\n",
        "print(min(edge_widths))\n",
        "print(max(edge_widths))\n",
        "\n",
        "nx.draw_networkx_nodes(G, pos, node_color='darkblue', node_size=80, edgecolors='black')\n",
        "nx.draw_networkx_edges(G, pos, width=[weight for weight in edge_widths], edge_color='gray')\n",
        "#nx.draw_networkx_labels(G, pos, font_size=10, font_family='sans-serif')\n",
        "\n",
        "#plt.title('Weighted Network of Issues')\n",
        "plt.axis('off')\n",
        "\n",
        "plt.show()"
      ],
      "metadata": {
        "id": "Pjmp_ovfg2p6"
      },
      "execution_count": null,
      "outputs": []
    },
    {
      "cell_type": "code",
      "source": [
        "# Find the largest connected component\n",
        "largest_cc = max(nx.connected_components(G), key=len)\n",
        "subgraph = G.subgraph(largest_cc)\n",
        "\n",
        "# Drawing the network of the largest connected component\n",
        "plt.figure(figsize=(10, 10))\n",
        "pos = nx.spring_layout(subgraph, seed=42, k=0.45)  # Layout for better visual separation\n",
        "edge_widths = [0.1 * subgraph[u][v]['weight'] for u, v in subgraph.edges()]\n",
        "print(subgraph)\n",
        "\n",
        "# Draw nodes and edges with weights\n",
        "nx.draw_networkx_nodes(subgraph, pos, node_color='darkblue', node_size=80, edgecolors='black')\n",
        "nx.draw_networkx_edges(subgraph, pos, width=edge_widths, edge_color='gray')\n",
        "nx.draw_networkx_labels(subgraph, pos, font_size=10, font_family='sans-serif')\n",
        "\n",
        "#plt.title('Weighted Network of Issues (Largest Connected Component)')\n",
        "plt.axis('off')  # Turn off the axis\n",
        "plt.show()"
      ],
      "metadata": {
        "id": "l0hAhuDig9PG"
      },
      "execution_count": null,
      "outputs": []
    },
    {
      "cell_type": "code",
      "source": [
        "# Find the largest connected component\n",
        "largest_cc = max(nx.connected_components(G), key=len)\n",
        "subgraph = G.subgraph(largest_cc)\n",
        "\n",
        "# Drawing the network of the largest connected component\n",
        "plt.figure(figsize=(10, 10))\n",
        "pos = nx.spring_layout(subgraph, seed=42, k=0.45) #0.45  # Layout for better visual separation\n",
        "# Draw nodes with varying shapes\n",
        "for shape in set(shape_dict.values()):\n",
        "    # Collect nodes for each shape\n",
        "    nx.draw_networkx_nodes(subgraph, pos, nodelist=[node for node in subgraph if subgraph.nodes[node]['shape'] == shape],\n",
        "                           node_shape=shape, node_color=[subgraph.nodes[n]['color'] for n in subgraph if subgraph.nodes[n]['shape'] == shape],\n",
        "                           node_size=60, edgecolors='black')\n",
        "\n",
        "# Draw edges\n",
        "edge_widths = [0.1 * subgraph[u][v]['weight'] for u, v in subgraph.edges()]\n",
        "nx.draw_networkx_edges(subgraph, pos, width=edge_widths, edge_color='gray')\n",
        "\n",
        "plt.axis('off')\n",
        "plt.show()"
      ],
      "metadata": {
        "id": "quzxqGaJhFuf"
      },
      "execution_count": null,
      "outputs": []
    },
    {
      "cell_type": "code",
      "source": [
        "#  Convert NetworkX graph to igraph\n",
        "def convert_networkx_to_igraph(nx_graph):\n",
        "    # Create a mapping from node labels to integer indices\n",
        "    mapping = {node: i for i, node in enumerate(nx_graph.nodes())}\n",
        "    # Create the igraph graph\n",
        "    ig_graph = ig.Graph(directed=False)\n",
        "    ig_graph.add_vertices(len(nx_graph))\n",
        "    ig_graph.add_edges([(mapping[edge[0]], mapping[edge[1]]) for edge in nx_graph.edges()])\n",
        "\n",
        "    # Optionally, add edge weights and node attributes if they exist\n",
        "    if 'weight' in nx.get_edge_attributes(nx_graph, 'weight'):\n",
        "        ig_graph.es['weight'] = [nx_graph[u][v]['weight'] for u, v in nx_graph.edges()]\n",
        "\n",
        "    return ig_graph, mapping\n",
        "\n",
        "# Convert the NetworkX graph to an igraph graph\n",
        "ig_subgraph, mapping = convert_networkx_to_igraph(subgraph)\n",
        "\n",
        "# Apply the Leiden algorithm\n",
        "partition = leidenalg.find_partition(ig_subgraph, leidenalg.ModularityVertexPartition)\n",
        "\n",
        "# Print the results\n",
        "community_dict = {}\n",
        "for idx, membership in enumerate(partition.membership):\n",
        "    node = list(mapping.keys())[list(mapping.values()).index(idx)]\n",
        "    community_dict[node] = membership\n",
        "\n",
        "#print(\"Node to community mapping:\", community_dict)"
      ],
      "metadata": {
        "id": "auf2IbkohKFk"
      },
      "execution_count": null,
      "outputs": []
    },
    {
      "cell_type": "code",
      "source": [
        "# Optionally, map the results back to the original NetworkX graph:\n",
        "for node in subgraph.nodes():\n",
        "    subgraph.nodes[node]['community'] = community_dict[node]"
      ],
      "metadata": {
        "id": "oFeJIArdhLCr"
      },
      "execution_count": null,
      "outputs": []
    },
    {
      "cell_type": "code",
      "source": [
        "num_communities = len(partition)\n",
        "community_sizes = partition.sizes()"
      ],
      "metadata": {
        "id": "CMGmiEjbhPYd"
      },
      "execution_count": null,
      "outputs": []
    },
    {
      "cell_type": "code",
      "source": [
        "print(\"Number of communities detected:\", num_communities)\n",
        "print(\"Sizes of each community:\", community_sizes)\n",
        "\n",
        "communities = {node: membership for node, membership in zip(subgraph.nodes(), partition.membership)}"
      ],
      "metadata": {
        "id": "iBqDlTB1hR3x"
      },
      "execution_count": null,
      "outputs": []
    },
    {
      "cell_type": "code",
      "source": [
        "community_colors = {\n",
        "    0: plt.cm.tab20b(0/20),   # Blue\n",
        "    1: plt.cm.tab20b(4/20),   # Green\n",
        "    2: plt.cm.tab20b(8/20),   # Yellow\n",
        "    3: plt.cm.tab20b(12/20),  # Red\n",
        "    4: plt.cm.tab20b(16/20), # Purple\n",
        "    5: 'grey'            # Default for any subsequent communities\n",
        "}\n",
        "\n",
        "# Set the default color for communities not explicitly listed in the dictionary\n",
        "default_color = 'black'\n",
        "\n",
        "# Assign colors based on community IDs detected by Leiden algorithm\n",
        "num_communities = len(set(partition.membership))  # Get unique community IDs from membership\n",
        "print(num_communities)\n",
        "\n",
        "for idx, community_id in enumerate(set(partition.membership)):\n",
        "    if community_id not in community_colors:\n",
        "        community_colors[community_id] = default_color"
      ],
      "metadata": {
        "id": "PLaLeIjthUv4"
      },
      "execution_count": null,
      "outputs": []
    },
    {
      "cell_type": "code",
      "source": [
        "plt.figure(figsize=(10, 10))\n",
        "pos = nx.spring_layout(subgraph, seed=42, k=0.45)\n",
        "\n",
        "# Draw nodes with colors based on their community\n",
        "node_colors = [community_colors[communities[node]] for node in subgraph.nodes()]\n",
        "nx.draw_networkx_nodes(subgraph, pos, node_color=node_colors, node_size=60, edgecolors='black')\n",
        "\n",
        "edge_widths = [0.1 * subgraph[u][v]['weight'] for u, v in subgraph.edges()]\n",
        "\n",
        "nx.draw_networkx_edges(subgraph, pos, width=edge_widths, edge_color='gray')\n",
        "\n",
        "plt.axis('off')\n",
        "plt.show()"
      ],
      "metadata": {
        "id": "ck2DuI1ThXMR"
      },
      "execution_count": null,
      "outputs": []
    },
    {
      "cell_type": "code",
      "source": [
        "adj_matrix_component = nx.adjacency_matrix(subgraph)\n",
        "adj_df_component = pd.DataFrame(adj_matrix_component.todense(), index=list(subgraph.nodes()), columns=list(subgraph.nodes()))"
      ],
      "metadata": {
        "id": "mVRj7opOhaaS"
      },
      "execution_count": null,
      "outputs": []
    },
    {
      "cell_type": "code",
      "source": [
        "def compute_in_density(adj_df_component, communities):\n",
        "    \"\"\"\n",
        "    Computes the in-density for each community based on the provided adjacency matrix.\n",
        "\n",
        "    Parameters:\n",
        "    - adj_df_component: Pandas DataFrame representing the adjacency matrix of the network.\n",
        "    - communities: Dictionary mapping node identifiers to their respective community.\n",
        "\n",
        "    Returns:\n",
        "    - Dictionary with community identifiers as keys and their respective in-density as values.\n",
        "    \"\"\"\n",
        "    in_density = {}\n",
        "    for community_id in set(communities.values()):\n",
        "        # Get the nodes in this community\n",
        "        nodes_in_community = [node for node, community in communities.items() if community == community_id]\n",
        "        # Subset the adjacency matrix to only include nodes in this community\n",
        "        sub_adj_matrix = adj_df_component.loc[nodes_in_community, nodes_in_community]\n",
        "        # Convert weights to 1 (for non-zero weights) or 0 (for zero weights)\n",
        "        binary_matrix = sub_adj_matrix.values > 0\n",
        "        # Calculate the sum of all off-diagonal elements (i.e., j != k)\n",
        "        total_connections = np.sum(binary_matrix) - np.trace(binary_matrix)\n",
        "        # Number of possible connections (excluding self-loops)\n",
        "        num_possible_connections = len(nodes_in_community) * (len(nodes_in_community) - 1)\n",
        "        # Compute in-density for the community\n",
        "        if num_possible_connections > 0:  # Avoid division by zero\n",
        "            community_density = total_connections / num_possible_connections\n",
        "        else:\n",
        "            community_density = 0  # This handles the case with one node\n",
        "\n",
        "        in_density[community_id] = community_density\n",
        "\n",
        "    return in_density"
      ],
      "metadata": {
        "id": "zg6WlC3ghdbb"
      },
      "execution_count": null,
      "outputs": []
    },
    {
      "cell_type": "code",
      "source": [
        "def compute_out_density(adj_df_component, communities):\n",
        "    \"\"\"\n",
        "    Computes the out-density for each community based on the provided adjacency matrix.\n",
        "\n",
        "    Parameters:\n",
        "    - adj_df_component: Pandas DataFrame representing the adjacency matrix of the network.\n",
        "    - communities: Dictionary mapping node identifiers to their respective community.\n",
        "\n",
        "    Returns:\n",
        "    - Dictionary with community identifiers as keys and their respective out-density as values.\n",
        "    \"\"\"\n",
        "    out_density = {}\n",
        "    total_nodes = len(adj_df_component)  # Total number of nodes in the network\n",
        "\n",
        "    for community_id in set(communities.values()):\n",
        "        # Get the nodes in this community\n",
        "        nodes_in_community = [node for node, community in communities.items() if community == community_id]\n",
        "        # Get the nodes not in this community\n",
        "        nodes_not_in_community = [node for node, community in communities.items() if community != community_id]\n",
        "\n",
        "        # Subset the adjacency matrix to include only edges from nodes in the community to nodes outside the community\n",
        "        sub_adj_matrix = adj_df_component.loc[nodes_in_community, nodes_not_in_community]\n",
        "\n",
        "        # Convert weights to 1 (for non-zero weights) or 0 (for zero weights)\n",
        "        binary_matrix = sub_adj_matrix.values > 0\n",
        "\n",
        "        # Calculate the sum of all relevant elements\n",
        "        total_outgoing_connections = np.sum(binary_matrix)\n",
        "\n",
        "        # Compute the denominator as |S_i| * (N - |S_i|)\n",
        "        num_nodes_in_community = len(nodes_in_community)\n",
        "        normalization_factor = num_nodes_in_community * (total_nodes - num_nodes_in_community)\n",
        "\n",
        "        # Compute out-density for the community\n",
        "        if normalization_factor > 0:  # Avoid division by zero\n",
        "            community_out_density = total_outgoing_connections / normalization_factor\n",
        "        else:\n",
        "            community_out_density = 0  # This handles the case with no nodes or all nodes in one community\n",
        "\n",
        "        # Store the result\n",
        "        out_density[community_id] = community_out_density\n",
        "\n",
        "    return out_density"
      ],
      "metadata": {
        "id": "iMzSVo0MhlNI"
      },
      "execution_count": null,
      "outputs": []
    },
    {
      "cell_type": "code",
      "source": [
        "in_densities = []\n",
        "out_densities = []\n",
        "community_sizes_list = partition.sizes()\n",
        "community_sizes = {i: size for i, size in enumerate(community_sizes_list)}\n",
        "sizes = []\n",
        "colors = []\n",
        "#in_density_random_flat = [density for sublist in in_density_random for density in sublist.values()]\n",
        "#out_density_random_flat = [density for sublist in out_density_random for density in sublist.values()]\n",
        "\n",
        "for community_id in community_sizes:\n",
        "    if community_id in in_density_og:\n",
        "        in_densities.append(in_density_og[community_id])\n",
        "        out_densities.append(out_density_og[community_id])\n",
        "        sizes.append(community_sizes[community_id] * 2)\n",
        "        colors.append(community_colors[community_id])\n",
        "\n",
        "plt.figure(figsize=(10, 6))\n",
        "for i in range(len(in_densities)):\n",
        "    plt.scatter(in_densities[i], out_densities[i], s=sizes[i], color=colors[i], alpha=1)\n",
        "plt.plot([0, 1], [0, 1], 'r--')\n",
        "\n",
        "\n",
        "# Using hexbin to create a density plot\n",
        "#hb = plt.hexbin(in_density_random_flat, out_density_random_flat, gridsize=500, cmap='Reds', bins='log')\n",
        "#cb = plt.colorbar(hb)\n",
        "#cb.set_label('log10(density)')\n",
        "\n",
        "\n",
        "plt.xlabel('In-Cluster Density')\n",
        "plt.ylabel('Out-Cluster Density')\n",
        "#plt.title('In vs. Out Cluster Density with Marker Size Proportional to Community Size')\n",
        "plt.ylim(0, 0.3)\n",
        "plt.grid(False)\n",
        "\n",
        "plt.show()"
      ],
      "metadata": {
        "id": "7yhHfNPxhmEE"
      },
      "execution_count": null,
      "outputs": []
    },
    {
      "cell_type": "code",
      "source": [
        "node_susaf = filtered_sust.set_index('id')['susaf'].to_dict()"
      ],
      "metadata": {
        "id": "me3mu5t1hwsD"
      },
      "execution_count": null,
      "outputs": []
    },
    {
      "cell_type": "code",
      "source": [
        "filtered_node_susaf = {key: node_susaf[key] for key in communities if key in node_susaf}\n",
        "df = pd.DataFrame({\n",
        "    'Node': communities.keys(),\n",
        "    'Community': communities.values(),\n",
        "    'Measure': [filtered_node_susaf[node] for node in communities]\n",
        "})\n",
        "\n",
        "plot_data = df.groupby(['Community', 'Measure']).size().unstack(fill_value=0)\n",
        "#ax=plot_data.plot(kind='bar', stacked=True, color=['blue', 'orange', 'red', 'black', 'yellow', 'purple'])\n",
        "# changed to stacked=True\n",
        "ax=plot_data.plot(kind='bar', stacked=False, color=['blue', 'orange', 'red', 'black', 'yellow', 'purple'], edgecolor='black',figsize=(12, 6))\n",
        "\n",
        "\n",
        "plt.xlabel(None)\n",
        "plt.ylabel('SusAF Composition', size=25)\n",
        "#plt.title('Counts of Measures by Community')\n",
        "tick_labels = ['Community {}'.format(i) for i in plot_data.index]\n",
        "ax.set_xticks(range(len(plot_data.index)))\n",
        "ax.set_xticklabels(tick_labels, rotation=0)\n",
        "\n",
        "for i, ticklabel in enumerate(ax.get_xticklabels()):\n",
        "    ticklabel.set_color(community_colors.get(plot_data.index[i], 'grey'))\n",
        "ax.legend().set_visible(True)\n",
        "#plt.legend(title='SusAF Measure')\n",
        "plt.show()"
      ],
      "metadata": {
        "id": "5WAlUrE0hzdE"
      },
      "execution_count": null,
      "outputs": []
    },
    {
      "cell_type": "code",
      "source": [
        "filtered_node_susaf = {key: node_susaf[key] for key in communities if key in node_susaf}\n",
        "df = pd.DataFrame({\n",
        "    'Node': communities.keys(),\n",
        "    'Community': communities.values(),\n",
        "    'Measure': [filtered_node_susaf[node] for node in communities]\n",
        "})\n",
        "\n",
        "plot_data = df.groupby(['Community', 'Measure']).size().unstack(fill_value=0)\n",
        "#ax=plot_data.plot(kind='bar', stacked=True, color=['blue', 'orange', 'red', 'black', 'yellow', 'purple'])\n",
        "# changed to stacked=True\n",
        "ax=plot_data.plot(kind='bar', stacked=False, color=['blue', 'orange', 'red', 'black', 'yellow', 'purple'], edgecolor='black',figsize=(12, 6))\n",
        "\n",
        "\n",
        "plt.xlabel(None)\n",
        "plt.ylabel('SusAF Composition', size=25)\n",
        "#plt.title('Counts of Measures by Community')\n",
        "tick_labels = ['Community {}'.format(i) for i in plot_data.index]\n",
        "ax.set_xticks(range(len(plot_data.index)))\n",
        "ax.set_xticklabels(tick_labels, rotation=0)\n",
        "\n",
        "for i, ticklabel in enumerate(ax.get_xticklabels()):\n",
        "    ticklabel.set_color(community_colors.get(plot_data.index[i], 'grey'))\n",
        "ax.legend().set_visible(True)\n",
        "#plt.legend(title='SusAF Measure')\n",
        "plt.show()"
      ],
      "metadata": {
        "id": "1rSjm77Yh0xP"
      },
      "execution_count": null,
      "outputs": []
    }
  ]
}